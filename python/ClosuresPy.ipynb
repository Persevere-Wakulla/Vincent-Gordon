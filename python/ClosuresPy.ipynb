{
 "cells": [
  {
   "cell_type": "markdown",
   "metadata": {},
   "source": [
    "Python Closures:\n",
    "\n",
    "    Before seeing what a closure is, we have to first understand what are nested functions and non-local variables.\n",
    "\n",
    "   Nested functions in Python:\n",
    "\n",
    "    A function which is defined inside another function is known as nested function.\n",
    "\n",
    "    Nested functions are able to access variables of the enclosing scope. \n",
    "\n"
   ]
  },
  {
   "cell_type": "code",
   "execution_count": 15,
   "metadata": {},
   "outputs": [],
   "source": [
    "def outerFunction(text):\n",
    "    text = text\n",
    "    \n",
    "    def innerFunction():\n",
    "        print(text)\n",
    "    \n",
    "    innerFunction()"
   ]
  },
  {
   "cell_type": "code",
   "execution_count": 16,
   "metadata": {},
   "outputs": [
    {
     "name": "stdout",
     "output_type": "stream",
     "text": [
      "Hello World!\n"
     ]
    }
   ],
   "source": [
    "outerFunction('Hello World!')"
   ]
  },
  {
   "cell_type": "markdown",
   "metadata": {},
   "source": [
    "innerFunction() can easily be accessed inside the outerFunction() body but not outside of it's body.\n",
    "\n",
    "Hence, here, innerFunction() is treated as nested Function which uses text as non-local variable."
   ]
  },
  {
   "cell_type": "markdown",
   "metadata": {},
   "source": [
    "Closures:\n",
    "\n",
    "    A closure is a function object that remembers values in enclosing scopes even if they are not present in memory.\n",
    "\n",
    "    It is a record that stores a function together with an environment: a mapping associating each free variable of the function (variables that are used locally, but defined in an enclosing scope) with the value or reference to which the name was bound when the closure was created.\n",
    "\n",
    "    A closure - unlike aplain function - allows the function to access those captured variables through the closure's copies of their values or references, even when the function is invoked outside their scope."
   ]
  },
  {
   "cell_type": "code",
   "execution_count": 17,
   "metadata": {},
   "outputs": [],
   "source": [
    "def outerFunction(text):\n",
    "    text = text\n",
    "    \n",
    "    def innerFunction():\n",
    "        print(text)\n",
    "        # Note we are returning function\n",
    "        # WIThOUT parenthesis\n",
    "    return innerFunction\n",
    "\n",
    "myFunction = outerFunction(\"Hello World!\")"
   ]
  },
  {
   "cell_type": "code",
   "execution_count": 19,
   "metadata": {},
   "outputs": [
    {
     "name": "stdout",
     "output_type": "stream",
     "text": [
      "Hello World!\n"
     ]
    }
   ],
   "source": [
    "myFunction()"
   ]
  },
  {
   "cell_type": "markdown",
   "metadata": {},
   "source": [
    "As observed from the above code, closures help to invoke function outside their scope.\n",
    "\n",
    "The function innerFunction has its scope only inside the outerFunction.\n",
    "\n",
    "    But with the use of closures we can easily extend its scope to invoke a function outside its scope."
   ]
  },
  {
   "cell_type": "code",
   "execution_count": 22,
   "metadata": {},
   "outputs": [
    {
     "name": "stdout",
     "output_type": "stream",
     "text": [
      "6\n",
      "9\n",
      "5\n",
      "10\n"
     ]
    }
   ],
   "source": [
    "import logging\n",
    "logging.basicConfig(filename='example.log',\n",
    "                    level=logging.INFO)\n",
    "\n",
    "def logger(func):\n",
    "    def log_func(*args):\n",
    "        logging.info(\n",
    "            'Running \"{}\" with arguments'.format(func.__name__,args)\n",
    "        )\n",
    "        print(func(*args))\n",
    "        \n",
    "        # Necessary for closure to\n",
    "        # work (returning WITHOUT parenthesis)\n",
    "    return log_func\n",
    "\n",
    "def add(x,y):\n",
    "    return x+y\n",
    "\n",
    "def sub(x,y):\n",
    "    return x-y\n",
    "\n",
    "add_logger = logger(add)\n",
    "sub_logger = logger(sub)\n",
    "\n",
    "add_logger(3,3)\n",
    "add_logger(4,5)\n",
    "\n",
    "sub_logger(10,5)\n",
    "sub_logger(20,10)"
   ]
  }
 ],
 "metadata": {
  "kernelspec": {
   "display_name": "base",
   "language": "python",
   "name": "python3"
  },
  "language_info": {
   "codemirror_mode": {
    "name": "ipython",
    "version": 3
   },
   "file_extension": ".py",
   "mimetype": "text/x-python",
   "name": "python",
   "nbconvert_exporter": "python",
   "pygments_lexer": "ipython3",
   "version": "3.12.4"
  }
 },
 "nbformat": 4,
 "nbformat_minor": 2
}
