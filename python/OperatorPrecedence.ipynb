{
 "cells": [
  {
   "cell_type": "markdown",
   "metadata": {},
   "source": [
    "If a particular expression or statement contains multiple operators it can be confusing to know which operator had precedence over the other. In Python there is a strict precedence that is followed in such scenarios.\n",
    "\n",
    "Lowest:\n",
    "\n",
    "        'Or' operator,\n",
    "        'And'\n",
    "        'Not'\n",
    "        'Comparisons'\n",
    "        'Addition,Subtraction'\n",
    "        'Multiplication,Division,FloorDivision,Modulo'\n",
    "        'Exponentiation'\n",
    "Highest"
   ]
  },
  {
   "cell_type": "code",
   "execution_count": 1,
   "metadata": {},
   "outputs": [
    {
     "data": {
      "text/plain": [
       "10"
      ]
     },
     "execution_count": 1,
     "metadata": {},
     "output_type": "execute_result"
    }
   ],
   "source": [
    "20+5*3-25"
   ]
  },
  {
   "cell_type": "code",
   "execution_count": 2,
   "metadata": {},
   "outputs": [
    {
     "data": {
      "text/plain": [
       "42.0"
      ]
     },
     "execution_count": 2,
     "metadata": {},
     "output_type": "execute_result"
    }
   ],
   "source": [
    "20+5**2-6/2"
   ]
  },
  {
   "cell_type": "code",
   "execution_count": 7,
   "metadata": {},
   "outputs": [
    {
     "name": "stdout",
     "output_type": "stream",
     "text": [
      "ok\n"
     ]
    }
   ],
   "source": [
    "season = 'summer'\n",
    "age = 10\n",
    "color = 'pink'\n",
    "if season == 'summer' or age > 0 and color == 'pink':\n",
    "        print('ok')\n",
    "else: \n",
    "        print('not ok')\n",
    "    "
   ]
  }
 ],
 "metadata": {
  "kernelspec": {
   "display_name": "base",
   "language": "python",
   "name": "python3"
  },
  "language_info": {
   "codemirror_mode": {
    "name": "ipython",
    "version": 3
   },
   "file_extension": ".py",
   "mimetype": "text/x-python",
   "name": "python",
   "nbconvert_exporter": "python",
   "pygments_lexer": "ipython3",
   "version": "3.12.4"
  }
 },
 "nbformat": 4,
 "nbformat_minor": 2
}
