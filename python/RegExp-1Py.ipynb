{
 "cells": [
  {
   "cell_type": "markdown",
   "metadata": {},
   "source": [
    "A Regular Expression (RegEx) is a sequence of characters that defines a search pattern. \n",
    "\n",
    "For Example,  ^P.....N$ \n",
    "\n",
    "The above code defines a RegEx pattern.\n",
    "\n",
    "The Pattern is: any 7 letter string starting with P and ending with N.\n",
    "\n",
    "A pattern defined using RegEx can be used to match against a string.\n",
    "\n",
    "        Expression              String                  Search String Matched?\n",
    "                                 abs                       No Match\n",
    "                                 alias                     Match\n",
    "        ^a...s$                  abyss                     No Match\n",
    "                                 alias                     Match\n",
    "                                 An Abacus                 No Match                "
   ]
  },
  {
   "cell_type": "code",
   "execution_count": 1,
   "metadata": {},
   "outputs": [],
   "source": [
    "import re"
   ]
  },
  {
   "cell_type": "code",
   "execution_count": 2,
   "metadata": {},
   "outputs": [
    {
     "name": "stdout",
     "output_type": "stream",
     "text": [
      "search successful\n"
     ]
    }
   ],
   "source": [
    "pattern = '^a...s$'\n",
    "test_string = 'abyss'\n",
    "\n",
    "result = re.match(pattern,test_string)\n",
    "\n",
    "if result:\n",
    "    print ('search successful')\n",
    "    \n",
    "else:\n",
    "    print ('search unsuccessful')"
   ]
  },
  {
   "cell_type": "code",
   "execution_count": 3,
   "metadata": {},
   "outputs": [
    {
     "name": "stdout",
     "output_type": "stream",
     "text": [
      "search unsuccessful\n"
     ]
    }
   ],
   "source": [
    "pattern = \"^a...s$\"\n",
    "test_string = \"abyssss\"\n",
    "\n",
    "result = re.match(pattern, test_string)\n",
    "if result:\n",
    "    print(\"search successful\")\n",
    "else:\n",
    "    print(\"search unsuccessful\")"
   ]
  },
  {
   "cell_type": "markdown",
   "metadata": {},
   "source": [
    "Specify Pattern Using RegEx:\n",
    "\n",
    "    To specify regular expressions, metacharacters are used.\n",
    "\n",
    "    In the above example, ^ and $ are metacharacters"
   ]
  },
  {
   "cell_type": "markdown",
   "metadata": {},
   "source": [
    "MetaCharacters:\n",
    "\n",
    "    MetaCharacters are characters that are interpreted in a special way byy a RegEx engine.\n",
    "\n",
    "    Here's a list of metacharacters:\n",
    "\n",
    "            [].^$*+?{}()\\|"
   ]
  },
  {
   "cell_type": "markdown",
   "metadata": {},
   "source": [
    "[] - Square Brackets\n",
    "\n",
    "Square brackets specifies a set of characters you wish to match\n",
    "\n",
    "Look in Image folder for example\n",
    "\n",
    "Using re.match()"
   ]
  },
  {
   "cell_type": "code",
   "execution_count": 4,
   "metadata": {},
   "outputs": [
    {
     "name": "stdout",
     "output_type": "stream",
     "text": [
      "None\n"
     ]
    }
   ],
   "source": [
    "input_str = \"Thhhhe film Titanic was released in 1998\"\n",
    "\n",
    "result = re.match(r\"[abc]\",input_str)\n",
    "\n",
    "print (result)"
   ]
  },
  {
   "cell_type": "code",
   "execution_count": 5,
   "metadata": {},
   "outputs": [
    {
     "name": "stdout",
     "output_type": "stream",
     "text": [
      "<re.Match object; span=(0, 1), match='a'>\n"
     ]
    }
   ],
   "source": [
    "input_str = 'all film Titanic was released in 1998'\n",
    "\n",
    "result = re.match(r\"[abc]\",input_str)\n",
    "\n",
    "print (result)"
   ]
  },
  {
   "cell_type": "code",
   "execution_count": 6,
   "metadata": {},
   "outputs": [
    {
     "name": "stdout",
     "output_type": "stream",
     "text": [
      "<re.Match object; span=(0, 1), match='a'>\n"
     ]
    }
   ],
   "source": [
    "input_str = 'abba film Titanic was released in 1998'\n",
    "\n",
    "result = re.match(r\"[abc]\",input_str)\n",
    "\n",
    "print (result)"
   ]
  },
  {
   "cell_type": "markdown",
   "metadata": {},
   "source": [
    "re.match()\n",
    "\n",
    "    It will only find matches if they occur at the start  of the string being searched.\n",
    "\n",
    "    Otherwise it returns None."
   ]
  },
  {
   "cell_type": "code",
   "execution_count": 7,
   "metadata": {},
   "outputs": [
    {
     "name": "stdout",
     "output_type": "stream",
     "text": [
      "Match!\n"
     ]
    }
   ],
   "source": [
    "# Exact Matches\n",
    "\n",
    "pattern = r\"Cookie\"\n",
    "sequence = \"Cookie\"\n",
    "\n",
    "if re.match(pattern,sequence):\n",
    "    print (\"Match!\")\n",
    "else:\n",
    "    print (\"Not a Match!\")"
   ]
  },
  {
   "cell_type": "code",
   "execution_count": 8,
   "metadata": {},
   "outputs": [
    {
     "name": "stdout",
     "output_type": "stream",
     "text": [
      "None\n"
     ]
    }
   ],
   "source": [
    "input_str = \"121abba film Titanic was released in 1998\"\n",
    "\n",
    "result = re.match(r\"[abc]\", input_str)\n",
    "\n",
    "print(result)"
   ]
  },
  {
   "cell_type": "markdown",
   "metadata": {},
   "source": [
    "If a string starts with a number instead of an alphabet the match function will return null even if there are alphabets after the number"
   ]
  },
  {
   "cell_type": "markdown",
   "metadata": {},
   "source": [
    "Since match function only matches the first element in the string."
   ]
  },
  {
   "cell_type": "code",
   "execution_count": 9,
   "metadata": {},
   "outputs": [
    {
     "name": "stdout",
     "output_type": "stream",
     "text": [
      "<re.Match object; span=(0, 1), match='a'>\n"
     ]
    }
   ],
   "source": [
    "input_str = 'aaaa221abba film Titanic was released in 1998'\n",
    "\n",
    "result = re.match(r\"[abc]\", input_str)\n",
    "\n",
    "print (result)"
   ]
  },
  {
   "cell_type": "markdown",
   "metadata": {},
   "source": [
    "Using re.search(pat,str)"
   ]
  },
  {
   "cell_type": "code",
   "execution_count": 10,
   "metadata": {},
   "outputs": [
    {
     "name": "stdout",
     "output_type": "stream",
     "text": [
      "<re.Match object; span=(9, 10), match='a'>\n"
     ]
    }
   ],
   "source": [
    "input_str = \" film Titanic was released in 1998\"\n",
    "\n",
    "result = re.search(r\"[abc]\", input_str)\n",
    "\n",
    "print (result)"
   ]
  },
  {
   "cell_type": "code",
   "execution_count": 11,
   "metadata": {},
   "outputs": [
    {
     "name": "stdout",
     "output_type": "stream",
     "text": [
      "a\n"
     ]
    }
   ],
   "source": [
    "input_str = \"111 Titanic was released in 1998\"\n",
    "\n",
    "result = re.search(r\"[abc]\", input_str).group()\n",
    "\n",
    "print (result)"
   ]
  },
  {
   "cell_type": "markdown",
   "metadata": {},
   "source": [
    "We can also specify a range of characters using - inside square brackets.\n",
    "\n",
    "    [a-e] is the same as [abcde]\n",
    "    [1-4] is the same as [1234]\n",
    "    [0-39] is the same as [01239]"
   ]
  },
  {
   "cell_type": "code",
   "execution_count": 12,
   "metadata": {},
   "outputs": [
    {
     "data": {
      "text/plain": [
       "'Number: 5'"
      ]
     },
     "execution_count": 12,
     "metadata": {},
     "output_type": "execute_result"
    }
   ],
   "source": [
    "re.search(r\"Number: [0-6]\",\"Number: 5\").group()"
   ]
  },
  {
   "cell_type": "markdown",
   "metadata": {},
   "source": [
    "You can complement (invert) the character set by using caret ^ symbol at the start of a square-bracket.\n",
    "\n",
    "    [^abc] means any character except a or b or c.\n",
    "    [^0-9] means any non-digit character."
   ]
  },
  {
   "cell_type": "code",
   "execution_count": 13,
   "metadata": {},
   "outputs": [
    {
     "data": {
      "text/plain": [
       "'Number: 0'"
      ]
     },
     "execution_count": 13,
     "metadata": {},
     "output_type": "execute_result"
    }
   ],
   "source": [
    "# Matches any character except 5\n",
    "re.search(r\"Number: [^5]\",\"Number: 0\").group()"
   ]
  },
  {
   "cell_type": "markdown",
   "metadata": {},
   "source": [
    "Using findall()"
   ]
  },
  {
   "cell_type": "code",
   "execution_count": 14,
   "metadata": {},
   "outputs": [
    {
     "name": "stdout",
     "output_type": "stream",
     "text": [
      "['a', 'c', 'a', 'a']\n"
     ]
    }
   ],
   "source": [
    "input_str = \"111 film Titanic was released in 1998\"\n",
    "\n",
    "result = re.findall(r\"[abc]\",input_str)\n",
    "\n",
    "print (result)"
   ]
  },
  {
   "cell_type": "markdown",
   "metadata": {},
   "source": [
    ". Period\n",
    "    \n",
    "    A Period matches any single character (except newline \"\\n\").\n",
    "\n",
    "    Image example in folder"
   ]
  },
  {
   "cell_type": "code",
   "execution_count": 15,
   "metadata": {},
   "outputs": [],
   "source": [
    "# Matches any character except 5\n",
    "re.search(r\"..\",\"a\")"
   ]
  },
  {
   "cell_type": "code",
   "execution_count": 16,
   "metadata": {},
   "outputs": [
    {
     "data": {
      "text/plain": [
       "<re.Match object; span=(0, 2), match='ac'>"
      ]
     },
     "execution_count": 16,
     "metadata": {},
     "output_type": "execute_result"
    }
   ],
   "source": [
    "re.search(r\"..\",\"ac\")\n"
   ]
  },
  {
   "cell_type": "code",
   "execution_count": 17,
   "metadata": {},
   "outputs": [
    {
     "data": {
      "text/plain": [
       "<re.Match object; span=(0, 2), match='ac'>"
      ]
     },
     "execution_count": 17,
     "metadata": {},
     "output_type": "execute_result"
    }
   ],
   "source": [
    "re.search(r\"..\",\"acd\")\n"
   ]
  },
  {
   "cell_type": "code",
   "execution_count": 18,
   "metadata": {},
   "outputs": [
    {
     "data": {
      "text/plain": [
       "<re.Match object; span=(0, 2), match='ac'>"
      ]
     },
     "execution_count": 18,
     "metadata": {},
     "output_type": "execute_result"
    }
   ],
   "source": [
    "re.search(r\"..\",\"acde\")\n"
   ]
  },
  {
   "cell_type": "code",
   "execution_count": 19,
   "metadata": {},
   "outputs": [
    {
     "data": {
      "text/plain": [
       "['ac', 'de']"
      ]
     },
     "execution_count": 19,
     "metadata": {},
     "output_type": "execute_result"
    }
   ],
   "source": [
    "re.findall(r\"..\",\"acde\")"
   ]
  },
  {
   "cell_type": "code",
   "execution_count": 20,
   "metadata": {},
   "outputs": [
    {
     "data": {
      "text/plain": [
       "['ac', 'de', 'fg', 'ht']"
      ]
     },
     "execution_count": 20,
     "metadata": {},
     "output_type": "execute_result"
    }
   ],
   "source": [
    "re.findall(r\"..\",\"acdefght\")\n"
   ]
  },
  {
   "cell_type": "markdown",
   "metadata": {},
   "source": [
    "^ - Caret\n",
    "\n",
    "    The caret symbol ^ is used to check if a string starts with a certain character.\n",
    "\n",
    "    Image in Folder"
   ]
  },
  {
   "cell_type": "code",
   "execution_count": 21,
   "metadata": {},
   "outputs": [
    {
     "name": "stdout",
     "output_type": "stream",
     "text": [
      "<re.Match object; span=(0, 1), match='a'>\n",
      "<re.Match object; span=(0, 1), match='a'>\n",
      "None\n",
      "<re.Match object; span=(0, 2), match='ab'>\n",
      "None\n"
     ]
    }
   ],
   "source": [
    "print(re.search(r\"^a\",\"a\"))\n",
    "print(re.search(r\"^a\",\"abc\"))\n",
    "print(re.search(r\"^a\",\"bac\"))\n",
    "print(re.search(r\"^ab\",\"abc\"))\n",
    "print(re.search(r\"^ab\",\"acb\"))"
   ]
  },
  {
   "cell_type": "markdown",
   "metadata": {},
   "source": [
    "$ - Dollar symbol\n",
    "    \n",
    "    The dollar symbol $ is used to check if a string ends with a certain character.\n",
    "\n",
    "    Image in Folder"
   ]
  },
  {
   "cell_type": "code",
   "execution_count": 22,
   "metadata": {},
   "outputs": [
    {
     "name": "stdout",
     "output_type": "stream",
     "text": [
      "<re.Match object; span=(0, 1), match='a'>\n",
      "<re.Match object; span=(4, 5), match='a'>\n",
      "None\n"
     ]
    }
   ],
   "source": [
    "print(re.search(r\"a$\",\"a\"))\n",
    "print(re.search(r\"a$\",\"tabla\"))\n",
    "print(re.search(r\"a$\",\"cab\"))\n"
   ]
  },
  {
   "cell_type": "markdown",
   "metadata": {},
   "source": [
    "*-Star\n",
    "\n",
    " * The Star Symbol * Matches zero or more occurences of the pattern left to it.\n",
    "\n",
    " Image in Folder"
   ]
  },
  {
   "cell_type": "code",
   "execution_count": 23,
   "metadata": {},
   "outputs": [
    {
     "name": "stdout",
     "output_type": "stream",
     "text": [
      "<re.Match object; span=(0, 2), match='mn'>\n",
      "<re.Match object; span=(0, 3), match='man'>\n",
      "<re.Match object; span=(0, 3), match='man'>\n",
      "<re.Match object; span=(0, 5), match='maaan'>\n",
      "None\n",
      "None\n",
      "<re.Match object; span=(2, 5), match='man'>\n"
     ]
    }
   ],
   "source": [
    "print(re.search(r\"ma*n\",\"mn\"))\n",
    "print(re.search(r\"ma*n\",\"man\"))\n",
    "print(re.search(r\"ma*n\",\"mann\"))\n",
    "print(re.search(r\"ma*n\",\"maaann\"))\n",
    "print(re.search(r\"ma*n\",\"main\"))\n",
    "print(re.search(r\"ma*n\",\"maine\"))\n",
    "print(re.search(r\"ma*n\",\"woman\"))\n"
   ]
  },
  {
   "cell_type": "code",
   "execution_count": 24,
   "metadata": {},
   "outputs": [
    {
     "data": {
      "text/plain": [
       "<re.Match object; span=(0, 6), match='foobar'>"
      ]
     },
     "execution_count": 24,
     "metadata": {},
     "output_type": "execute_result"
    }
   ],
   "source": [
    "re.search('foo-*bar','foobar')# Zero dashes"
   ]
  },
  {
   "cell_type": "markdown",
   "metadata": {},
   "source": [
    "* There are zero '*' characters between 'foo' and 'bar'"
   ]
  },
  {
   "cell_type": "code",
   "execution_count": 25,
   "metadata": {},
   "outputs": [
    {
     "data": {
      "text/plain": [
       "<re.Match object; span=(0, 7), match='foo-bar'>"
      ]
     },
     "execution_count": 25,
     "metadata": {},
     "output_type": "execute_result"
    }
   ],
   "source": [
    "re.search('foo-*bar','foo-bar') # One Dash"
   ]
  },
  {
   "cell_type": "markdown",
   "metadata": {},
   "source": [
    "* There is one '-' character between 'foo' and 'bar'."
   ]
  },
  {
   "cell_type": "code",
   "execution_count": 26,
   "metadata": {},
   "outputs": [
    {
     "data": {
      "text/plain": [
       "<re.Match object; span=(0, 8), match='foo--bar'>"
      ]
     },
     "execution_count": 26,
     "metadata": {},
     "output_type": "execute_result"
    }
   ],
   "source": [
    "re.search('foo-*bar','foo--bar') # Two Dashes\n"
   ]
  },
  {
   "cell_type": "markdown",
   "metadata": {},
   "source": [
    "* There is two '--' character between 'foo' and 'bar'.\n"
   ]
  },
  {
   "cell_type": "markdown",
   "metadata": {},
   "source": [
    "+-Plus\n",
    "\n",
    " + The Plus symbol '+' matches one or more occurrences of the pattern left to it.\n",
    "\n",
    " Image in folder"
   ]
  },
  {
   "cell_type": "code",
   "execution_count": 27,
   "metadata": {},
   "outputs": [
    {
     "name": "stdout",
     "output_type": "stream",
     "text": [
      "None\n",
      "<re.Match object; span=(0, 3), match='man'>\n",
      "<re.Match object; span=(0, 3), match='man'>\n",
      "<re.Match object; span=(0, 5), match='maaan'>\n",
      "None\n",
      "None\n",
      "<re.Match object; span=(2, 5), match='man'>\n"
     ]
    }
   ],
   "source": [
    "print(re.search(r\"ma+n\",\"mn\"))\n",
    "print(re.search(r\"ma+n\",\"man\"))\n",
    "print(re.search(r\"ma+n\",\"mann\"))\n",
    "print(re.search(r\"ma+n\",\"maaann\"))\n",
    "print(re.search(r\"ma+n\",\"main\"))\n",
    "print(re.search(r\"ma+n\",\"maine\"))\n",
    "print(re.search(r\"ma+n\",\"woman\"))"
   ]
  },
  {
   "cell_type": "markdown",
   "metadata": {},
   "source": [
    "? - Question Mark\n",
    "\n",
    "  * The question mark symbol '?' matches zero or one occurences of the pattern left to it.\n",
    "\n",
    "   Image in Folder\n",
    "   "
   ]
  },
  {
   "cell_type": "code",
   "execution_count": 28,
   "metadata": {},
   "outputs": [
    {
     "name": "stdout",
     "output_type": "stream",
     "text": [
      "<re.Match object; span=(0, 2), match='mn'>\n",
      "<re.Match object; span=(0, 3), match='man'>\n",
      "<re.Match object; span=(0, 3), match='man'>\n",
      "None\n",
      "None\n",
      "None\n",
      "<re.Match object; span=(2, 5), match='man'>\n"
     ]
    }
   ],
   "source": [
    "print(re.search(r\"ma?n\",\"mn\"))\n",
    "print(re.search(r\"ma?n\",\"man\"))\n",
    "print(re.search(r\"ma?n\",\"mann\"))\n",
    "print(re.search(r\"ma?n\",\"maaann\"))\n",
    "print(re.search(r\"ma?n\",\"main\"))\n",
    "print(re.search(r\"ma?n\",\"maine\"))\n",
    "print(re.search(r\"ma?n\",\"woman\"))"
   ]
  },
  {
   "cell_type": "markdown",
   "metadata": {},
   "source": [
    "{} - Braces \n",
    "\n",
    " * Consider this code:{n,m}. This means at least n, and at most m repetitions of the pattern left of it.\n",
    "\n",
    "  Image in Folder"
   ]
  },
  {
   "cell_type": "code",
   "execution_count": 29,
   "metadata": {},
   "outputs": [
    {
     "name": "stdout",
     "output_type": "stream",
     "text": [
      "None\n",
      "<re.Match object; span=(5, 7), match='aa'>\n",
      "<re.Match object; span=(0, 2), match='aa'>\n",
      "<re.Match object; span=(0, 2), match='aa'>\n"
     ]
    }
   ],
   "source": [
    "print(re.search(r\"a{2,3}\",\"abc dat\"))\n",
    "print(re.search(r\"a{2,3}\",\"abc daat\"))\n",
    "print(re.search(r\"a{2,3}\",\"aabc daaat\"))\n",
    "print(re.search(r\"a{2,3}\",\"aabc daaaat\"))\n"
   ]
  },
  {
   "cell_type": "code",
   "execution_count": 30,
   "metadata": {},
   "outputs": [
    {
     "name": "stdout",
     "output_type": "stream",
     "text": [
      "['aa', 'aaa']\n",
      "['aa', 'aaa']\n"
     ]
    }
   ],
   "source": [
    "print(re.findall(r\"a{2,3}\",\"aabc daaat\"))\n",
    "print(re.findall(r\"a{2,3}\",\"aabc daaaat\"))\n"
   ]
  },
  {
   "cell_type": "markdown",
   "metadata": {},
   "source": [
    "Let's try one more example. This RegEx [0-9]{2,4} matches at least 2 digits but not more than 4 digits.\n",
    "\n",
    "Image in Folder"
   ]
  },
  {
   "cell_type": "code",
   "execution_count": 31,
   "metadata": {},
   "outputs": [
    {
     "name": "stdout",
     "output_type": "stream",
     "text": [
      "['123']\n",
      "['12', '3456', '3412', '4567', '88']\n"
     ]
    }
   ],
   "source": [
    "print(re.findall(r\"[0-9]{2,4}\",'ab123csde'))\n",
    "print(re.findall(r\"[0-9]{2,4}\",'12 and 3456 and 34127 and 456788'))"
   ]
  },
  {
   "cell_type": "markdown",
   "metadata": {},
   "source": [
    "{m} - Matches exactly m repititions of the preceding RegEx.\n",
    "\n"
   ]
  },
  {
   "cell_type": "code",
   "execution_count": 32,
   "metadata": {},
   "outputs": [
    {
     "name": "stdout",
     "output_type": "stream",
     "text": [
      "None\n",
      "<re.Match object; span=(0, 5), match='x---x'>\n",
      "None\n"
     ]
    }
   ],
   "source": [
    "print(re.search(\"x-{3}x\",\"x--x\")) # two dashes\n",
    "print(re.search(\"x-{3}x\",\"x---x\")) # three dashes\n",
    "print(re.search(\"x-{3}x\",\"x----x\")) # four dashes"
   ]
  },
  {
   "cell_type": "markdown",
   "metadata": {},
   "source": [
    "Here, x-{3}x matches 'x', followed by exactly three instances of the '-' character, followed by another 'x'\n",
    "\n",
    "The match fails when there are fewer or more than three dashes between the 'x' characters."
   ]
  },
  {
   "cell_type": "code",
   "execution_count": 33,
   "metadata": {},
   "outputs": [
    {
     "name": "stdout",
     "output_type": "stream",
     "text": [
      "1 x-x        None\n",
      "2 x--x       <re.Match object; span=(0, 4), match='x--x'>\n",
      "3 x---x      <re.Match object; span=(0, 5), match='x---x'>\n",
      "4 x----x     <re.Match object; span=(0, 6), match='x----x'>\n",
      "5 x-----x    None\n"
     ]
    }
   ],
   "source": [
    "for i in range(1,6):\n",
    "    s = f\"x{'-' * i }x\"    \n",
    "    print(f\"{i} {s:10}\",re.search(\"x-{2,4}x\",s))"
   ]
  },
  {
   "cell_type": "code",
   "execution_count": 34,
   "metadata": {},
   "outputs": [
    {
     "data": {
      "text/plain": [
       "<re.Match object; span=(0, 5), match='aaaaa'>"
      ]
     },
     "execution_count": 34,
     "metadata": {},
     "output_type": "execute_result"
    }
   ],
   "source": [
    "re.search(\"a{3,5}\",\"aaaaaaaa\")"
   ]
  },
  {
   "cell_type": "code",
   "execution_count": 35,
   "metadata": {},
   "outputs": [
    {
     "data": {
      "text/plain": [
       "<re.Match object; span=(0, 3), match='aaa'>"
      ]
     },
     "execution_count": 35,
     "metadata": {},
     "output_type": "execute_result"
    }
   ],
   "source": [
    "re.search(\"a{3,5}?\",\"aaaaaaaa\")\n"
   ]
  },
  {
   "cell_type": "markdown",
   "metadata": {},
   "source": [
    "In This case, a{3,5} produces the longest possible match, so it matches five 'a' characters. a{3,5}? produces the shortest match, so it matches three."
   ]
  },
  {
   "cell_type": "markdown",
   "metadata": {},
   "source": [
    "| - Alternation\n",
    "\n",
    "    `Vertical bar | is used for alternation (or operator).\n",
    "\n",
    "    Image example in folder"
   ]
  },
  {
   "cell_type": "code",
   "execution_count": 36,
   "metadata": {},
   "outputs": [
    {
     "name": "stdout",
     "output_type": "stream",
     "text": [
      "[]\n",
      "['a']\n",
      "['a', 'b', 'a']\n"
     ]
    }
   ],
   "source": [
    "print(re.findall(r'a|b','cde'))\n",
    "print(re.findall(r'a|b','ade'))\n",
    "print(re.findall(r'a|b','acdbea'))"
   ]
  },
  {
   "cell_type": "markdown",
   "metadata": {},
   "source": [
    "Here, a|b match any string that contains either a or b."
   ]
  },
  {
   "cell_type": "markdown",
   "metadata": {},
   "source": [
    "() - Group\n",
    "\n",
    "    Parentheses () is used to group sub-patterns.\n",
    "\n",
    "    For example, (a|b|c)xz match any string that matches either a or b or c followed by xz\n",
    "\n",
    "    Image in folder"
   ]
  },
  {
   "cell_type": "code",
   "execution_count": 37,
   "metadata": {},
   "outputs": [
    {
     "name": "stdout",
     "output_type": "stream",
     "text": [
      "[]\n",
      "['b']\n",
      "['a', 'b']\n"
     ]
    }
   ],
   "source": [
    "print(re.findall(r'(a|b|c)xz','ab xz'))\n",
    "print(re.findall(r'(a|b|c)xz','abxz'))\n",
    "print(re.findall(r'(a|b|c)xz','axz cabxz'))"
   ]
  },
  {
   "cell_type": "markdown",
   "metadata": {},
   "source": [
    "Grouping Constructs\n",
    "\n",
    "    Grouping constructs break up a regex in Python into subexpressions or groups. This serves two purposes:\n",
    "\n",
    "  * Grouping: A Group represents a single syntactic entity. Additional metacharacters apply to the entire group as a unit.\n",
    "\n",
    "  * Capturing: Some grouping constructs also capture the portion of the search string that matches the subexpression in the group.\n",
    "\n",
    "   + You can retrieve captured matches later through several different mechanisms.\n",
    "\n",
    " * A RegEx in parentheses just matches the contents of the parentheses:   \n",
    "    "
   ]
  },
  {
   "cell_type": "code",
   "execution_count": 38,
   "metadata": {},
   "outputs": [
    {
     "name": "stdout",
     "output_type": "stream",
     "text": [
      "<re.Match object; span=(4, 7), match='bar'>\n",
      "<re.Match object; span=(4, 7), match='bar'>\n"
     ]
    }
   ],
   "source": [
    "print(re.search('(bar)','foo bar baz'))\n",
    "print(re.search('bar','foo bar baz'))"
   ]
  },
  {
   "cell_type": "markdown",
   "metadata": {},
   "source": [
    "As a RegEx, (bar) matches the string 'bar, the same as the RegEx bar would without the parentheses."
   ]
  },
  {
   "cell_type": "code",
   "execution_count": 39,
   "metadata": {},
   "outputs": [
    {
     "data": {
      "text/plain": [
       "['bar', 'bar']"
      ]
     },
     "execution_count": 39,
     "metadata": {},
     "output_type": "execute_result"
    }
   ],
   "source": [
    "re.findall('(bar)','foo bar baz ggg bar')"
   ]
  },
  {
   "cell_type": "markdown",
   "metadata": {},
   "source": [
    "Treating a Group as a unit:\n",
    " \n",
    "     A quantifier metacharacter that follows a group operates on the entire subexpression specified in the group as a single unit.\n",
    "\n",
    "    For instance, the following example matches one or more occurrences of the string 'bar':\n",
    "\n",
    "\n",
    "    Image in folder"
   ]
  },
  {
   "cell_type": "code",
   "execution_count": 40,
   "metadata": {},
   "outputs": [
    {
     "name": "stdout",
     "output_type": "stream",
     "text": [
      "<re.Match object; span=(4, 7), match='bar'>\n",
      "<re.Match object; span=(4, 10), match='barbar'>\n",
      "<re.Match object; span=(4, 16), match='barbarbarbar'>\n"
     ]
    }
   ],
   "source": [
    "print(re.search('(bar)+','foo bar baz'))\n",
    "print(re.search('(bar)+','foo barbar baz'))\n",
    "print(re.search('(bar)+','foo barbarbarbar baz'))\n"
   ]
  },
  {
   "cell_type": "markdown",
   "metadata": {},
   "source": [
    "A more complicated example.\n",
    "\n",
    "    The regex (ba[rz]){2,4}(qux)? matches 2 to 4 occcurences of either 'bar' or 'baz' , optionally followed by 'qux':"
   ]
  },
  {
   "cell_type": "code",
   "execution_count": 41,
   "metadata": {},
   "outputs": [
    {
     "name": "stdout",
     "output_type": "stream",
     "text": [
      "<re.Match object; span=(0, 12), match='bazbarbazqux'>\n",
      "<re.Match object; span=(0, 6), match='bazbar'>\n"
     ]
    }
   ],
   "source": [
    "print(re.search('(ba[rz]){2,4}(qux)?','bazbarbazqux'))\n",
    "print(re.search('(ba[rz]){2,4}(qux)?','bazbar'))"
   ]
  },
  {
   "cell_type": "markdown",
   "metadata": {},
   "source": [
    "nest grouping parentheses\n",
    "\n",
    "Image exaple in folder\n"
   ]
  },
  {
   "cell_type": "code",
   "execution_count": 42,
   "metadata": {},
   "outputs": [
    {
     "name": "stdout",
     "output_type": "stream",
     "text": [
      "<re.Match object; span=(0, 9), match='foofoobar'>\n",
      "<re.Match object; span=(0, 12), match='foofoobarcow'>\n",
      "<re.Match object; span=(0, 9), match='foofoocow'>\n"
     ]
    }
   ],
   "source": [
    "print(re.search('(foo(bar)?)+(cow)?', 'foofoobar'))\n",
    "print(re.search('(foo(bar)?)+(cow)?', 'foofoobarcow'))\n",
    "print(re.search('(foo(bar)?)+(cow)?', 'foofoocow'))"
   ]
  }
 ],
 "metadata": {
  "kernelspec": {
   "display_name": "base",
   "language": "python",
   "name": "python3"
  },
  "language_info": {
   "codemirror_mode": {
    "name": "ipython",
    "version": 3
   },
   "file_extension": ".py",
   "mimetype": "text/x-python",
   "name": "python",
   "nbconvert_exporter": "python",
   "pygments_lexer": "ipython3",
   "version": "3.12.4"
  }
 },
 "nbformat": 4,
 "nbformat_minor": 2
}
