{
 "cells": [
  {
   "cell_type": "code",
   "execution_count": 9,
   "metadata": {},
   "outputs": [
    {
     "name": "stdout",
     "output_type": "stream",
     "text": [
      "50 is indeed a larger number than 30\n"
     ]
    }
   ],
   "source": [
    "if 50 > 30:\n",
    "   print('50 is indeed a larger number than 30')"
   ]
  },
  {
   "cell_type": "code",
   "execution_count": 12,
   "metadata": {},
   "outputs": [
    {
     "name": "stdout",
     "output_type": "stream",
     "text": [
      "this person is an adult\n"
     ]
    }
   ],
   "source": [
    "age = 20\n",
    "if age > 18:\n",
    "    print('this person is an adult')"
   ]
  },
  {
   "cell_type": "code",
   "execution_count": 13,
   "metadata": {},
   "outputs": [
    {
     "name": "stdout",
     "output_type": "stream",
     "text": [
      "cat is in list x\n"
     ]
    }
   ],
   "source": [
    "x = [50, 'cat','apple']\n",
    "\n",
    "if 60 in x:\n",
    "    print('60 is in list x')\n",
    "elif 'cat' in x:\n",
    "    print('cat is in list x')\n",
    "else:\n",
    "    print('this will not be printed')\n",
    "     "
   ]
  },
  {
   "cell_type": "code",
   "execution_count": 1,
   "metadata": {},
   "outputs": [
    {
     "name": "stdout",
     "output_type": "stream",
     "text": [
      "this is printed\n"
     ]
    }
   ],
   "source": [
    "x = 'cat'\n",
    "\n",
    "if 50 > 60:\n",
    "    print(\"this won't get printed\")\n",
    "elif x == 'cat':\n",
    "    print (\"this is printed\")\n",
    "elif 1/0:\n",
    "    print ('nothing')"
   ]
  },
  {
   "cell_type": "markdown",
   "metadata": {},
   "source": [
    "Pyhton's Ternary Operator"
   ]
  },
  {
   "cell_type": "code",
   "execution_count": 2,
   "metadata": {},
   "outputs": [
    {
     "data": {
      "text/plain": [
       "'adult'"
      ]
     },
     "execution_count": 2,
     "metadata": {},
     "output_type": "execute_result"
    }
   ],
   "source": [
    "age = 26\n",
    "x = 'adult' if age > 18 else 'child'\n",
    "x"
   ]
  },
  {
   "cell_type": "markdown",
   "metadata": {},
   "source": [
    "Pass Statement:\n",
    "                Occassionally, you may find that you want to write what is called a code stub: a placeholder for where you will eventually put a block of code that you havent emplemented yet. Here the pass statement is usefull"
   ]
  },
  {
   "cell_type": "code",
   "execution_count": null,
   "metadata": {},
   "outputs": [],
   "source": [
    "if age > 18:\n",
    "    pass"
   ]
  }
 ],
 "metadata": {
  "kernelspec": {
   "display_name": "base",
   "language": "python",
   "name": "python3"
  },
  "language_info": {
   "codemirror_mode": {
    "name": "ipython",
    "version": 3
   },
   "file_extension": ".py",
   "mimetype": "text/x-python",
   "name": "python",
   "nbconvert_exporter": "python",
   "pygments_lexer": "ipython3",
   "version": "3.12.4"
  }
 },
 "nbformat": 4,
 "nbformat_minor": 2
}
