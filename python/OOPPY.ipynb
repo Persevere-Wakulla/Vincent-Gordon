{
 "cells": [
  {
   "cell_type": "markdown",
   "metadata": {},
   "source": [
    "What is Object Oriented Programming?:\n",
    "\n",
    "        Object Oriented Programming[OOP] is all about creating objects\n",
    "\n",
    "        An object is a group of interrelated variables and functions.\n",
    "\n",
    "                variables are often referred to as properties.\n",
    "                functions are reffered to as the behavior of the objects.\n",
    "            for example a car can be an object\n",
    "\n",
    "                Its properties would be its color its model its price its brand etc\n",
    "                its behavior/function would be acceleration slowing down and gear change .\n",
    "            Another Example if we consider a dog as an object \n",
    "\n",
    "                then its properties would be his color his breed his name his weight etc\n",
    "                and his behavior/function would be walking barking playing etc.\n",
    "            These objects provide a better and clkear structure for the program.\n",
    "\n",
    "        "
   ]
  },
  {
   "cell_type": "markdown",
   "metadata": {},
   "source": [
    "Classes vs Instances:\n",
    "\n",
    "        A class is a blueprint or template of entities(things)of the same kind.\n",
    "\n",
    "        An Instance is a particular realization of a class.(with a unique memory address).\n",
    "\n",
    "            Classes:\n",
    "                Are used to create user-defined data structures\n",
    "                define functions called methods, which identify the behaviors and actions that an object created from the class can perform with its data.\n",
    "                It doesnt actually contain any data\n",
    "            Instance:\n",
    "                 contains real data."
   ]
  },
  {
   "cell_type": "markdown",
   "metadata": {},
   "source": [
    "Example:\n",
    "\n",
    "            A class is like a form or questionaire.\n",
    "\n",
    "             An instance is like a form that has been filled out with information.\n",
    "                 just like many people can fill out the same form with their own unique information.\n",
    "                     many instance can be created from a single class"
   ]
  },
  {
   "cell_type": "markdown",
   "metadata": {},
   "source": [
    "Example using a toy circle class"
   ]
  },
  {
   "cell_type": "code",
   "execution_count": 1,
   "metadata": {},
   "outputs": [],
   "source": [
    "from math import pi"
   ]
  },
  {
   "cell_type": "code",
   "execution_count": 1,
   "metadata": {},
   "outputs": [],
   "source": [
    "from math  import pi"
   ]
  },
  {
   "cell_type": "code",
   "execution_count": 5,
   "metadata": {},
   "outputs": [],
   "source": [
    "class Circle:\n",
    "    \"\"\"A Circle Instance models a circle with a radius\"\"\"\n",
    "    \n",
    "    def __init__ (self,radius = 1.0):\n",
    "        \"\"\"Initializer with default radius of 1.0\"\"\"\n",
    "        self.radius = radius #Create an instance variable radius\n",
    "        \n",
    "    def __str__ (self):\n",
    "        \"\"\"Return a descriptive string for this instance, invoked by print() and str()\"\"\"\n",
    "        return 'This is a circle with radius of {:.2f}'.format(self.radius)\n",
    "    \n",
    "    def __repr__ (self):\n",
    "        \"\"\"Return a formal string that can be used to re-create this instance, invoked by repr() \"\"\"\n",
    "        return 'Circle(radius={})'.format(self.radius)\n",
    "    def get_area(self):\n",
    "        \"\"\"Return the area of this Circle Instance\"\"\"\n",
    "        return self.radius * self.radius * pi\n",
    "    "
   ]
  },
  {
   "cell_type": "code",
   "execution_count": 6,
   "metadata": {},
   "outputs": [
    {
     "name": "stdout",
     "output_type": "stream",
     "text": [
      "This is a circle with radius of 2.10\n",
      "13.854423602330987\n",
      "2.1\n",
      "This is a circle with radius of 2.10\n",
      "Circle(radius=2.1)\n"
     ]
    }
   ],
   "source": [
    "c1 = Circle(2.1)      # Construct an instance\n",
    "\n",
    "print (c1)            # Invoke __str__(): This is a circle with a radius of 2.10\n",
    "print (c1.get_area()) # 13.85442360230987\n",
    "print (c1.radius)     # 2.1\n",
    "\n",
    "print (str(c1))        # Invoke __str__(): This is a circle with a radius of 2.10\n",
    "print (repr(c1))       # Invoke __reps__() : Circle(radius=2.1)\n"
   ]
  },
  {
   "cell_type": "markdown",
   "metadata": {},
   "source": [
    "All Class definitions start with the class keyword, which is followed by the name of the class and a colon. "
   ]
  },
  {
   "cell_type": "markdown",
   "metadata": {},
   "source": [
    "Any code that is indented below the class definition is considered part of the class's body."
   ]
  },
  {
   "cell_type": "markdown",
   "metadata": {},
   "source": [
    "\n",
    "class Circle:\n",
    "\n",
    "        \"\"\"A Circle Instance models a circle with a radius\"\"\"\n",
    "        pass\n",
    "\n",
    "Naming Convention:\n",
    "\n",
    "        Class names are initially-Capitalized (i.e CamelCase).\n",
    "        Variables and Method names are also in lower case.\n",
    "        The class is called Circle (in CamelCase). class Circle define the Circle class.\n",
    "        The body of the Circle class consists of a single statement: the pass keyword.\n",
    "            pass is often used as  a placholder indicating where code will eventually go.\n",
    "                It allows you to run this code without Python throwing an Error."
   ]
  },
  {
   "cell_type": "markdown",
   "metadata": {},
   "source": [
    "Initialize instance variables:\n",
    "\n",
    "    class Circle:\n",
    "\n",
    "            \"\"\"A Circle instance models a circle with a radius\"\"\"\n",
    "\n",
    "            def __init__(self,radius=1.0):\n",
    "            \"\"\"Initializer with default radius of 1.0\"\"\"\n",
    "            self.radius = radius     #Create an instance variable radius\n",
    "\n",
    "The Instance variables are declared within the init method\n",
    "\n",
    "self: The first parameter of all the member methods shall be an object called self (e.g init(self,...)), which binds to this instance (i.e,itself) during invocation.\n",
    "\n",
    "Every time a new Circle object is created, init () sets the initial state of the object by assigning the values of the objects properties.\n",
    "    \n",
    "    That is  init () initializes each new instance of the class.\n",
    "We can give  init () any number of parameters, but the first parameter will always be a variable called self.\n",
    "\n",
    "When a new class instance is created. the instance is automatically passed to the self parameter in init() so that new attributes can be defined on the object.\n",
    "\n",
    "Inside the init () method the self.radius = radius defines an instance variable radius.\n",
    "\n",
    "Take note that:\n",
    "\n",
    "        init () is not really the constructor but an initializer to create the instance variables.\n",
    "        init () shall never return a value\n",
    "        init () is optional and can be omitted if there is no instance variables."
   ]
  },
  {
   "cell_type": "markdown",
   "metadata": {},
   "source": [
    "Class/Instance attributes:\n",
    "\n",
    "    Attributes created in init () are called instance attributes.\n",
    "\n",
    "    An instance attribute's value is specific to a particular instance of the class.\n",
    "\n",
    "    All Dog objects have a name nd an age. but the values for the name and age attributes will vary depending on the Dog instance.\n",
    "\n",
    "    class attributes are attributes that have the same value for all class instances.\n",
    "\n",
    "        You can define a class attribute by assigning a value to a variable name outside of .__init__():\n",
    "\n",
    "class Circle:\n",
    "\n",
    "    \"\"\"A Circle instance models a circle with a radius\"\"\"\n",
    "    shape_object = \"Circle\"\n",
    "\n",
    "    def __init__(self,radius=1.0):\n",
    "    \"\"\"Initializer with default radius of 1.0\"\"\"\n",
    "    self.radius = radius # Create an instance variable radius\n",
    "\n",
    "\n",
    "    Class attributes are defined are defined directly beneath the first line of the class name and are indented by four spaces.\n",
    "\n",
    "    They must always be assigned an initial value.\n",
    "\n",
    "    When an instance of the class is created class attributes are automatically created and assigned to the new instance."
   ]
  },
  {
   "cell_type": "markdown",
   "metadata": {},
   "source": [
    "Instantiate an Object in Python:\n",
    "\n",
    "    Creating a new object from a class is called instantiating an object."
   ]
  },
  {
   "cell_type": "code",
   "execution_count": 19,
   "metadata": {},
   "outputs": [],
   "source": [
    "class Circle:\n",
    "    \"\"\"A Circle instance models a circle with a radius\"\"\"\n",
    "    shape_object = \"Circle\"\n",
    "\n",
    "    def __init__(self,radius=1.0):\n",
    "        \"\"\"Initializer with default radius of 1.0\"\"\"\n",
    "        self.radius = radius # Create an instance variable radius\n"
   ]
  },
  {
   "cell_type": "code",
   "execution_count": 20,
   "metadata": {},
   "outputs": [
    {
     "data": {
      "text/plain": [
       "2329764455936"
      ]
     },
     "execution_count": 20,
     "metadata": {},
     "output_type": "execute_result"
    }
   ],
   "source": [
    "c1 = Circle(3)\n",
    "id(c1)"
   ]
  },
  {
   "cell_type": "code",
   "execution_count": 21,
   "metadata": {},
   "outputs": [
    {
     "data": {
      "text/plain": [
       "2329764449024"
      ]
     },
     "execution_count": 21,
     "metadata": {},
     "output_type": "execute_result"
    }
   ],
   "source": [
    "c2 = Circle(35)\n",
    "id(c2)"
   ]
  },
  {
   "cell_type": "code",
   "execution_count": 22,
   "metadata": {},
   "outputs": [
    {
     "data": {
      "text/plain": [
       "False"
      ]
     },
     "execution_count": 22,
     "metadata": {},
     "output_type": "execute_result"
    }
   ],
   "source": [
    "c2 == c1"
   ]
  },
  {
   "cell_type": "code",
   "execution_count": 24,
   "metadata": {},
   "outputs": [
    {
     "data": {
      "text/plain": [
       "(3, 35, 'Circle', 'Circle')"
      ]
     },
     "execution_count": 24,
     "metadata": {},
     "output_type": "execute_result"
    }
   ],
   "source": [
    "c1.radius,c2.radius,c1.shape_object,c2.shape_object"
   ]
  },
  {
   "cell_type": "markdown",
   "metadata": {},
   "source": [
    "Class Method, Instance Method and Static Method:\n",
    "\n",
    "    Class Method (Decorator @classmethod)\n",
    "\n",
    "    A class method belongs to the class and is a function of the class.\n",
    "\n",
    "    It is declared with the @classmethod decorator. It accepts the class as its first argument. For example"
   ]
  },
  {
   "cell_type": "code",
   "execution_count": 41,
   "metadata": {},
   "outputs": [],
   "source": [
    "class MyClass:\n",
    "    @classmethod\n",
    "    def hello (self,name):\n",
    "        print (self)\n",
    "        print ('Hello from', self.__name__, ' ,',name)"
   ]
  },
  {
   "cell_type": "code",
   "execution_count": 42,
   "metadata": {},
   "outputs": [
    {
     "name": "stdout",
     "output_type": "stream",
     "text": [
      "<class '__main__.MyClass'>\n",
      "Hello from MyClass  , Furr\n"
     ]
    }
   ],
   "source": [
    "MyClass.hello('Furr')"
   ]
  },
  {
   "cell_type": "markdown",
   "metadata": {},
   "source": [
    "Instance Method:\n",
    "\n",
    "    Instance Methods are the most common type of method.\n",
    "\n",
    "    An instance method is invoked by an instance object (and not a class object).\n",
    "\n",
    "    It takes the instance (self) as its first argument. For example."
   ]
  },
  {
   "cell_type": "code",
   "execution_count": null,
   "metadata": {},
   "outputs": [],
   "source": []
  },
  {
   "cell_type": "code",
   "execution_count": 47,
   "metadata": {},
   "outputs": [],
   "source": [
    "class MyClass():\n",
    "    def hello(self):\n",
    "        print('Hello from',self.__class__.__name__)"
   ]
  },
  {
   "cell_type": "code",
   "execution_count": 48,
   "metadata": {},
   "outputs": [
    {
     "name": "stdout",
     "output_type": "stream",
     "text": [
      "Hello from MyClass\n"
     ]
    }
   ],
   "source": [
    "myinstance1 = MyClass()\n",
    "myinstance1.hello()"
   ]
  },
  {
   "cell_type": "markdown",
   "metadata": {},
   "source": [
    "Static Method:\n",
    "\n",
    "    A Static method is declared with a @staticmethod decorator.\n",
    "\n",
    "    It \"dosen't know its class\" and is attached to the class for convenience.\n",
    "\n",
    "    it does not depend on the state of the object and could be a separate function of a module.\n",
    "\n",
    "    A static method can be invoked via a class object or instance object For example."
   ]
  },
  {
   "cell_type": "code",
   "execution_count": 49,
   "metadata": {},
   "outputs": [],
   "source": [
    "class MyClass:\n",
    "    @staticmethod\n",
    "    def hello():\n",
    "        print('Hello, World!')"
   ]
  },
  {
   "cell_type": "code",
   "execution_count": 50,
   "metadata": {},
   "outputs": [
    {
     "name": "stdout",
     "output_type": "stream",
     "text": [
      "Hello, World!\n"
     ]
    }
   ],
   "source": [
    "myinstance1 = MyClass()\n",
    "myinstance1.hello()"
   ]
  }
 ],
 "metadata": {
  "kernelspec": {
   "display_name": "base",
   "language": "python",
   "name": "python3"
  },
  "language_info": {
   "codemirror_mode": {
    "name": "ipython",
    "version": 3
   },
   "file_extension": ".py",
   "mimetype": "text/x-python",
   "name": "python",
   "nbconvert_exporter": "python",
   "pygments_lexer": "ipython3",
   "version": "3.12.4"
  }
 },
 "nbformat": 4,
 "nbformat_minor": 2
}
