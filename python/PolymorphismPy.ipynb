{
 "cells": [
  {
   "cell_type": "markdown",
   "metadata": {},
   "source": [
    "Polymorphism:\n",
    "\n",
    "        The term polymorphism in the OOp language. Refers to the ability of an object to adapt the code to the type of the datait is processing.\n",
    "\n",
    "        In Python polymorphism is one of the key concepts and we can say that it is a built in feature.\n",
    "\n"
   ]
  },
  {
   "cell_type": "markdown",
   "metadata": {},
   "source": [
    "Example 1: Polymorphism in the addition operator, We know that the + operator is used extesively in Python programs. But it does not have a single usage.\n",
    "\n",
    "For integer data types + operator\n",
    "\n",
    "\n",
    "        is used to perform arithmetic addition operation.\n",
    "\n",
    "        for string data types + operator is used to perform concatenation."
   ]
  },
  {
   "cell_type": "code",
   "execution_count": 1,
   "metadata": {},
   "outputs": [
    {
     "name": "stdout",
     "output_type": "stream",
     "text": [
      "3\n"
     ]
    }
   ],
   "source": [
    "num1 = 1\n",
    "num2 = 2\n",
    "print(num1 + num2)"
   ]
  },
  {
   "cell_type": "code",
   "execution_count": 2,
   "metadata": {},
   "outputs": [
    {
     "name": "stdout",
     "output_type": "stream",
     "text": [
      "Python Programming\n"
     ]
    }
   ],
   "source": [
    "str1 = \"Python\"\n",
    "str2 = \"Programming\"\n",
    "print(str1+\" \"+str2)"
   ]
  },
  {
   "cell_type": "code",
   "execution_count": 3,
   "metadata": {},
   "outputs": [
    {
     "name": "stdout",
     "output_type": "stream",
     "text": [
      "12\n"
     ]
    }
   ],
   "source": [
    "print (5+7)"
   ]
  },
  {
   "cell_type": "markdown",
   "metadata": {},
   "source": [
    "Here we can see that a single operator + has been used to carry out different operations for distinct data types.\n",
    "\n",
    "is one of the most simple occurences of polymorphism in Python."
   ]
  },
  {
   "cell_type": "markdown",
   "metadata": {},
   "source": [
    "Example 2: Polymorphic len() function\n",
    "\n",
    "        Ther are some functions in Python which are compatible to run with multiple data types. \n",
    "\n",
    "        One such funtion is the len() function it can run with many data types in Python."
   ]
  },
  {
   "cell_type": "code",
   "execution_count": 4,
   "metadata": {},
   "outputs": [
    {
     "name": "stdout",
     "output_type": "stream",
     "text": [
      "9 length of string\n",
      "3 Number of items in list\n",
      "2 number of keys in dictionary\n"
     ]
    }
   ],
   "source": [
    "print (len(\"Programiz\"),\"length of string\")\n",
    "print(len([\"Python\",\"Java\",\"C\"]),\"Number of items in list\")\n",
    "print(len({\"Name\":\"John\",\"Address\":\"Nepal\"}),\"number of keys in dictionary\")"
   ]
  },
  {
   "cell_type": "markdown",
   "metadata": {},
   "source": [
    "Here we can see that many data types such as string, list tuple set and dictionary can work with the len() function.\n",
    "\n",
    "But it returns specific information about specific data types."
   ]
  },
  {
   "cell_type": "markdown",
   "metadata": {},
   "source": [
    "1. Polymorphism through Method overloading:\n",
    "\n",
    "    Method overloading in its traditional sense, where you can have more than one method having the same name with in the class where the methods differ in types or number of arguments passed, is not supported in Python.\n",
    "\n",
    "    Trying to have methods with the same name won't result in compile time errors in Python but only the last defined method is recognized in such a scenario. Calling any other overloaded function results in an error.\n",
    "\n",
    "    But you can still simulate polymorphism through method overloading by using default arguments in a method.\n",
    "\n",
    "            In the example there is 1 default argumennt in the method \"sum\".\n",
    "\n",
    "            If the method is called with 2 parameters for the 3rd, a default value is used\n",
    "\n",
    "            If the method is called with 3 parameters passed, The passed value is used for the 3rd parameter."
   ]
  },
  {
   "cell_type": "code",
   "execution_count": 5,
   "metadata": {},
   "outputs": [
    {
     "name": "stdout",
     "output_type": "stream",
     "text": [
      "sum is : 17\n",
      "sum is : 24\n"
     ]
    }
   ],
   "source": [
    "class OverloadDemo:\n",
    "    # sum method with one default parameter\n",
    "    def sum(self,a,b,c = 2):\n",
    "        s = a + b + c\n",
    "        return s\n",
    "    \n",
    "od = OverloadDemo()\n",
    "    \n",
    "# Calling method with 2 args\n",
    "sum = od.sum(7,8)\n",
    "print(\"sum is :\", sum)\n",
    "    \n",
    "# Calling method with 3 args    \n",
    "sum = od.sum(7,8,9)\n",
    "print(\"sum is :\",sum)"
   ]
  },
  {
   "cell_type": "markdown",
   "metadata": {},
   "source": [
    "2. Polymorphism through inheritance Method Overriding:\n",
    "\n",
    "        Method overriding provides the ability to change the implementations of a method in a child class which is already defined in one of its super class.\n",
    "\n",
    "        if there is a method in a super class and a method having the same name and same number of arguments in a chid class then the child class method is said to be overriding the parent class method.\n",
    "\n",
    "        calling methods\n",
    "\n",
    "            when the method is called with parent class object, method of the parent class is executed \n",
    "\n",
    "            when method is called with child class object method of the child class is executed.\n",
    "\n",
    "        So the appropriate overriden method is called based on the object type which is an example of Polymorphism."
   ]
  },
  {
   "cell_type": "code",
   "execution_count": 9,
   "metadata": {},
   "outputs": [
    {
     "name": "stdout",
     "output_type": "stream",
     "text": [
      "In parent class displayData method\n",
      "Drew\n",
      "30\n",
      "In the child class displayData method\n",
      "Drew\n",
      "30\n",
      "d007\n",
      "In parent class displayData method\n",
      "Drew\n",
      "30\n"
     ]
    }
   ],
   "source": [
    "class Person:\n",
    "    def __init__(self,name,age):\n",
    "        self.name = name\n",
    "        self.age = age\n",
    "        \n",
    "    def displayData(self):\n",
    "        print(\"In parent class displayData method\")\n",
    "        print(self.name)\n",
    "        print(self.age)\n",
    "        \n",
    "class Employee(Person):\n",
    "    def __init__(self, name, age,id):\n",
    "        # Calling constructor of super class\n",
    "        super().__init__(name, age)\n",
    "        self.empId = id\n",
    "        \n",
    "    def displayData(self):\n",
    "        print(\"In the child class displayData method\")\n",
    "        print(self.name)\n",
    "        print(self.age)\n",
    "        print(self.empId)\n",
    "        return super().displayData()\n",
    "    \n",
    "# Person class object\n",
    "person = Person(\"Drew\",30)\n",
    "person.displayData()\n",
    "\n",
    "# Employee class object\n",
    "emp = Employee('Drew',30,'d007')\n",
    "emp.displayData()\n",
    "        "
   ]
  },
  {
   "cell_type": "markdown",
   "metadata": {},
   "source": [
    "3. Polymorphism through operator overloading:\n",
    "\n",
    "Operator overloading meansd the ability to overload the operator to provide extra functionality in addition to its real operational meaning.\n",
    "\n",
    "    Operator overloading is also     an example of polymorphism as the same operator can perform different actions.\n",
    "\n",
    "For example \"+\" operator which is used with numbers to perform addition operations. But '+' operator when used with two strings concatenate those Strings and merge teo lists when used with lists in Python.\n",
    "\n",
    "\n",
    "Whern is Operator overloading required:\n",
    "\n",
    "    in the above example '+' operator worked with Strings and Lings because it is already overloaded to provide that functionality for String and List.\n",
    "\n",
    "    What if you want to use operator with custom objects.\n",
    "\n",
    "    For example if ypu want to use '+' operator with your custo class objects."
   ]
  },
  {
   "cell_type": "code",
   "execution_count": 14,
   "metadata": {},
   "outputs": [
    {
     "ename": "TypeError",
     "evalue": "unsupported operand type(s) for +: 'Point' and 'Point'",
     "output_type": "error",
     "traceback": [
      "\u001b[1;31m---------------------------------------------------------------------------\u001b[0m",
      "\u001b[1;31mTypeError\u001b[0m                                 Traceback (most recent call last)",
      "Cell \u001b[1;32mIn[14], line 9\u001b[0m\n\u001b[0;32m      6\u001b[0m p1 \u001b[38;5;241m=\u001b[39m Point(\u001b[38;5;241m1\u001b[39m,\u001b[38;5;241m2\u001b[39m)\n\u001b[0;32m      7\u001b[0m p2 \u001b[38;5;241m=\u001b[39m Point(\u001b[38;5;241m3\u001b[39m,\u001b[38;5;241m4\u001b[39m)\n\u001b[1;32m----> 9\u001b[0m \u001b[38;5;28mprint\u001b[39m(p1 \u001b[38;5;241m+\u001b[39m p2)\n",
      "\u001b[1;31mTypeError\u001b[0m: unsupported operand type(s) for +: 'Point' and 'Point'"
     ]
    }
   ],
   "source": [
    "class Point:\n",
    "    def __init__(self,x,y):\n",
    "        self.x = x\n",
    "        self.y = y\n",
    "\n",
    "p1 = Point(1,2)\n",
    "p2 = Point(3,4)\n",
    "\n",
    "print(p1 + p2)"
   ]
  },
  {
   "cell_type": "markdown",
   "metadata": {},
   "source": [
    "As you can see trying to add two objects result in an error 'unsupported operand type(s) for '+' because '+' operator doesn't know how to add these two objects.\n",
    "\n",
    "What we want to do here is to add the data (p1.x + p2.x) and (p1.y + p2.y) of these two objects but that will rquire operator overloading as that is some extra functinality that you want '+' operator to perform.\n",
    "\n",
    "For all operators internally Python defines methods to provide functionality for those operators.\n",
    "\n",
    "    For example functionality for '+' operator is provide by special method add().\n",
    "\n",
    "    Whenever '+' operator is used internally add() method is invoked to do the operation.\n",
    "    \n",
    "Internal methods that provide funtionality for the operators are known as magic methods in Python. \n",
    "\n",
    "These magic methods are automatically invoked when corresponding operators are used.\n",
    "\n",
    "When we want any operator to work with custom objects you need to override the corresponding special method that provides functionality for that operator.\n",
    "\n",
    "In the Example there is a class Point with two variables x and y. Two objects of Point class are instantiated and you try to add those objects withthe intention to add the data (p1.x + p2.x) and (p1.y + p2.y) of these two objects.\n",
    "\n",
    "In order to successfully do that magic method __add__() has to be overridden in your class to provide functionality.\n",
    "\n"
   ]
  },
  {
   "cell_type": "code",
   "execution_count": 16,
   "metadata": {},
   "outputs": [
    {
     "name": "stdout",
     "output_type": "stream",
     "text": [
      "(4, 6)\n"
     ]
    }
   ],
   "source": [
    "class Point:\n",
    "    def __init__(self,x,y):\n",
    "        self.x = x\n",
    "        self.y = y\n",
    "        \n",
    "    #overriding magic method\n",
    "    def __add__(self,other):\n",
    "            return self.x + other.x, self.y + other.y\n",
    "        \n",
    "\n",
    "        \n",
    "p1 = Point(1,2)\n",
    "p2 = Point(3,4)\n",
    "\n",
    "print(p1 + p2)"
   ]
  },
  {
   "cell_type": "markdown",
   "metadata": {},
   "source": [
    "Magic methods in Python:\n",
    "\n",
    "    Magic methods in Python are the methods prefixed with two underscores and suffixed with two underscores.\n",
    "\n",
    "        These magic methods are also known as Dunder (Double UNDERscores) in Python.\n",
    "\n",
    "    Magic methods for arithmetic operators:\n",
    "\n",
    "\n",
    "    Operators       Magic Methods                   Description\n",
    "        +           __add__(self,other)        Additive operators\n",
    "        -           __sub__(self,other)        Subtraction operators\n",
    "        *           __mul__(self,other)        Multiplication operators\n",
    "        /           __truediv__(self,other)    Division w/fractional result\n",
    "        %           __mod__(self,other)        Remainder operators\n",
    "        //          __floordiv__(self,other)   Div w/int result,dscard frac part\n",
    "        **          __pow__(self,other)        Return a 2 pow b, 4 a + b numbers\n",
    "        @           __matmul__(self,other)     Matrix Multiplication. \n",
    "\n",
    "\n",
    "Magic methods for Comparison operators:\n",
    "\n",
    "\n",
    "    Operator               Magic Methods               Description\n",
    "        <               __lt__(self,other)              less than\n",
    "        <=              __le__(self,other)              less than or equal two\n",
    "        ==              __eq__(self,other)              equal two\n",
    "        !=              __ne__(self,other)              not equal two\n",
    "\n",
    "Magic methods for unary operators:   \n",
    "\n",
    "    Operator            Magic Methods          Description\n",
    "        +              pos(self,other)      Unary '+', indicates pos val\n",
    "        -              neg(self,other)      Unary '-', negates expression\n",
    "        ~?             invert(self,other)   Returns bitwise inv of numbers\n",
    "\n",
    "Example: Overloading '+' operator in Python"
   ]
  },
  {
   "cell_type": "code",
   "execution_count": 19,
   "metadata": {},
   "outputs": [
    {
     "name": "stdout",
     "output_type": "stream",
     "text": [
      "60\n"
     ]
    }
   ],
   "source": [
    "class Point:\n",
    "    def __init__(self,x):\n",
    "        self.x = x\n",
    "        \n",
    "    def __mul__(self,other):\n",
    "        return self.x * other.x\n",
    "    \n",
    "p1 = Point(12)\n",
    "p2 = Point(5)\n",
    "\n",
    "print(p1 * p2)"
   ]
  },
  {
   "cell_type": "markdown",
   "metadata": {},
   "source": [
    "Example: Overloading comparison operator (>)\n"
   ]
  },
  {
   "cell_type": "code",
   "execution_count": 23,
   "metadata": {},
   "outputs": [
    {
     "name": "stdout",
     "output_type": "stream",
     "text": [
      "Drew earns more than POpTart - True\n"
     ]
    }
   ],
   "source": [
    "class Person:\n",
    "    def __init__(self,name,salary):\n",
    "        self.name = name\n",
    "        self.salary = salary\n",
    "        \n",
    "    # overriding magic method\n",
    "    def __gt__(self,other):\n",
    "        return self.salary > other.salary\n",
    "\n",
    "obj1 = Person('Drew',7802)\n",
    "obj2 = Person('POpTart',5565)\n",
    "\n",
    "print(obj1.name,'earns more than',obj2.name,'-',obj1 > obj2)"
   ]
  }
 ],
 "metadata": {
  "kernelspec": {
   "display_name": "base",
   "language": "python",
   "name": "python3"
  },
  "language_info": {
   "codemirror_mode": {
    "name": "ipython",
    "version": 3
   },
   "file_extension": ".py",
   "mimetype": "text/x-python",
   "name": "python",
   "nbconvert_exporter": "python",
   "pygments_lexer": "ipython3",
   "version": "3.12.4"
  }
 },
 "nbformat": 4,
 "nbformat_minor": 2
}
