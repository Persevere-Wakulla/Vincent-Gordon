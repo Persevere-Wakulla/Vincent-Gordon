{
 "cells": [
  {
   "cell_type": "markdown",
   "metadata": {},
   "source": [
    "What is a function in Python?:\n",
    "\n",
    "        In Python a function is a group of related statements that performs a specific task.\n",
    "\n",
    "        Functions help break our program into smaller and modular chunks.\n",
    "\n",
    "        As our program grows larger and larger, functions make it more organized and manageable.\n",
    "\n",
    "        Furthermore it avoids repetition and makes the code reuseable."
   ]
  },
  {
   "cell_type": "markdown",
   "metadata": {},
   "source": [
    "Syntax of Function:"
   ]
  },
  {
   "cell_type": "code",
   "execution_count": 1,
   "metadata": {},
   "outputs": [],
   "source": [
    "def funtion_name(parameters):\n",
    "    \"\"\"This function does nothing\"\"\"\n",
    "    #statement(s)"
   ]
  },
  {
   "cell_type": "code",
   "execution_count": 2,
   "metadata": {},
   "outputs": [
    {
     "data": {
      "text/plain": [
       "5"
      ]
     },
     "execution_count": 2,
     "metadata": {},
     "output_type": "execute_result"
    }
   ],
   "source": [
    "def fun_name(a,b):\n",
    "    \"\"\"This is a docstring-(comment/info)\"\"\"\n",
    "    c = a + b\n",
    "    return c\n",
    "    \n",
    "fun_name(2,3)"
   ]
  },
  {
   "cell_type": "markdown",
   "metadata": {},
   "source": [
    "Keyword 'def' that marks the sart of the function header.\n",
    "\n",
    "    A function 'name' to uniquely identify the function.\n",
    "\n",
    "    Parameters(arguments) through which we pass values to a function.\n",
    "\n",
    "        They are optional\n",
    "\n",
    "        A colon(:) to mark the end of the function header.\n",
    "\n",
    "        Optional documentation string(docstring) to describe what a function does.\n",
    "\n",
    "        One or more valid Python statements that make up the function body.\n",
    "\n",
    "        Statements must have the same indentation level(usually 4 spaces).\n",
    "\n",
    "        An optional return statement to return a value from the function.\n",
    "\n",
    "Docstrings(\"\"\" \"\"\"):\n",
    "\n",
    "    The first string after the function header is called the docstring and is short for documentation string.\n",
    "\n",
    "    it is briefly used to explain what a function does.\n"
   ]
  },
  {
   "cell_type": "code",
   "execution_count": 3,
   "metadata": {},
   "outputs": [
    {
     "name": "stdout",
     "output_type": "stream",
     "text": [
      "This is a docstring-(comment/info)\n"
     ]
    }
   ],
   "source": [
    "print(fun_name.__doc__)"
   ]
  },
  {
   "cell_type": "code",
   "execution_count": 4,
   "metadata": {},
   "outputs": [],
   "source": [
    "def greet(name):\n",
    "    \"\"\"\n",
    "    This function greets to \n",
    "    the person passed in as\n",
    "    a parameter    \n",
    "    \"\"\"\n",
    "    \n",
    "    print(\"Hello, \"+ name + \", Good Afternoon!\")"
   ]
  },
  {
   "cell_type": "code",
   "execution_count": 5,
   "metadata": {},
   "outputs": [
    {
     "name": "stdout",
     "output_type": "stream",
     "text": [
      "\n",
      "    This function greets to \n",
      "    the person passed in as\n",
      "    a parameter    \n",
      "    \n"
     ]
    }
   ],
   "source": [
    "print(greet.__doc__)"
   ]
  },
  {
   "cell_type": "markdown",
   "metadata": {},
   "source": [
    "The return Statement :\n",
    "\n",
    "    The return statement is used to exit a function and go back to the place from where it was called."
   ]
  },
  {
   "cell_type": "markdown",
   "metadata": {},
   "source": [
    "Scope and Lifetime Variables:\n",
    "\n",
    "    Scope of a variable is the portion of a program where the variable is recognized.\n",
    "\n",
    "    Parameters and variables defined inside a function are not visible from outside the function.\n",
    "        \n",
    "        Hence they have a local scope.\n",
    "\n",
    "    The lifetime of a variable is the period throughout which the variable exists in the memory. The lifetime of variables inside a function is as long as the function executes.\n",
    "\n",
    "    They are destroyed ance we return from the function.\n",
    "\n",
    "    Hence a function does not remember the value of a variable from its previous calls.\n",
    "\n",
    "Here is an example to illustarte the scope of a variable inside a function."
   ]
  },
  {
   "cell_type": "code",
   "execution_count": 6,
   "metadata": {},
   "outputs": [],
   "source": [
    "def my_func():\n",
    "    my_var = 10\n",
    "    print(\"Value inside function:\", my_var)"
   ]
  },
  {
   "cell_type": "code",
   "execution_count": 7,
   "metadata": {},
   "outputs": [
    {
     "name": "stdout",
     "output_type": "stream",
     "text": [
      "Value inside function: 10\n",
      "Value outside function: 20\n"
     ]
    }
   ],
   "source": [
    "my_var = 20\n",
    "\n",
    "my_func()  # value of my_var change inside the function\n",
    "\n",
    "print(\"Value outside function:\",my_var)"
   ]
  },
  {
   "cell_type": "markdown",
   "metadata": {},
   "source": [
    "The value of my_var is 20 initially.\n",
    "\n",
    "    Even though the function my_func() changed the value of my_var to 10, it did not affect the value outside the function.\n",
    "\n",
    "    This is because the variable my_var inside the function is different (local to the function) from the one outside.\n",
    "\n",
    "        Altough they have the same names they are two different variables with different scopes.\n",
    "\n",
    "The other side of it.... GLOBAL VARIABLES:"
   ]
  },
  {
   "cell_type": "code",
   "execution_count": 8,
   "metadata": {},
   "outputs": [],
   "source": [
    "def my_func():\n",
    "    my_var = 10\n",
    "    print(\"Value inside function:\",my_var)\n",
    "    print(\"Variable from outside the function.\",another_var)"
   ]
  },
  {
   "cell_type": "code",
   "execution_count": 9,
   "metadata": {},
   "outputs": [
    {
     "name": "stdout",
     "output_type": "stream",
     "text": [
      "Value inside function: 10\n",
      "Variable from outside the function. 74\n",
      "Value outside function: 20\n"
     ]
    }
   ],
   "source": [
    "my_var = 20\n",
    "another_var = 74\n",
    "\n",
    "my_func() # value of my_var changes inside the function\n",
    "\n",
    "print(\"Value outside function:\", my_var)"
   ]
  },
  {
   "cell_type": "markdown",
   "metadata": {},
   "source": [
    "Types of Functions:\n",
    "\n",
    "    Basically we can divide functions into the following 3 types:\n",
    "\n",
    "        Built-in functions-Functions that are built into Python.\n",
    "\n",
    "        User-defined functions-Functions defined by the users themselves.\n",
    "\n",
    "        Anonymous functions, which are also called lambda functions"
   ]
  },
  {
   "cell_type": "markdown",
   "metadata": {},
   "source": [
    "So variables outside of the function are visible from inside. They have a global scope.\n",
    "\n",
    "we can read these values from inside the function.\n",
    "\n",
    "But inside a function the outside variable cannot be changed unless we declare it with global keyword\n",
    "\n",
    "In order to modify the value of variables outside the function they must be declared as global variables using the keyword global."
   ]
  },
  {
   "cell_type": "code",
   "execution_count": 10,
   "metadata": {},
   "outputs": [],
   "source": [
    "def my_func():\n",
    "    my_var = 10\n",
    "    print(\"Value inside function:\", my_var)\n",
    "    global another_var \n",
    "    another_var += 1\n",
    "    print(\"Variable from outside the function:\", another_var)\n",
    "    "
   ]
  },
  {
   "cell_type": "code",
   "execution_count": 11,
   "metadata": {},
   "outputs": [
    {
     "name": "stdout",
     "output_type": "stream",
     "text": [
      "Value inside function: 10\n",
      "Variable from outside the function: 75\n",
      "Value outside function: 20\n"
     ]
    }
   ],
   "source": [
    "my_var = 20\n",
    "another_var = 74\n",
    "\n",
    "my_func() # value of my_var() changes inside the function\n",
    "\n",
    "print(\"Value outside function:\", my_var)\n"
   ]
  },
  {
   "cell_type": "code",
   "execution_count": 12,
   "metadata": {},
   "outputs": [
    {
     "name": "stdout",
     "output_type": "stream",
     "text": [
      "Hello World!\n",
      "Hello World\n"
     ]
    }
   ],
   "source": [
    "def hello():\n",
    "    print(\"Hello World!\")\n",
    "    #return (\"hello\")\n",
    "    #return \"hds\"\n",
    "    #return (10)\n",
    "    return 10\n",
    "hello()\n",
    "\n",
    "def hello_noreturn():\n",
    "    print(\"Hello World\")\n",
    "hello_noreturn()"
   ]
  },
  {
   "cell_type": "markdown",
   "metadata": {},
   "source": [
    "Function Arguments in Python:\n",
    "\n",
    "    There are 4 types of arguments that Python UDFs can take:\n",
    "\n",
    "        Default Arguments\n",
    "\n",
    "        Required Arguments\n",
    "\n",
    "        Keyword Arguments\n",
    "\n",
    "        Variable number of Arguments\n",
    "        "
   ]
  },
  {
   "cell_type": "markdown",
   "metadata": {},
   "source": [
    "Default Arguments:\n",
    "\n",
    "    Take a default value if no argument value is passed\n",
    "\n",
    "    You can assign this default value by with the assignment '=' operator."
   ]
  },
  {
   "cell_type": "code",
   "execution_count": 13,
   "metadata": {},
   "outputs": [],
   "source": [
    "#Define 'plus()' function\n",
    "\n",
    "def plus(a,b = 2):\n",
    "    return a + b\n"
   ]
  },
  {
   "cell_type": "code",
   "execution_count": 14,
   "metadata": {},
   "outputs": [
    {
     "data": {
      "text/plain": [
       "12"
      ]
     },
     "execution_count": 14,
     "metadata": {},
     "output_type": "execute_result"
    }
   ],
   "source": [
    "# Call 'plus()' with only 'a' parameter\n",
    "\n",
    "plus(2,b=10)"
   ]
  },
  {
   "cell_type": "code",
   "execution_count": 15,
   "metadata": {},
   "outputs": [
    {
     "data": {
      "text/plain": [
       "5"
      ]
     },
     "execution_count": 15,
     "metadata": {},
     "output_type": "execute_result"
    }
   ],
   "source": [
    "def fun_name(a = 2, b = 3):\n",
    "    c = a + b\n",
    "    return c\n",
    "\n",
    "fun_name()"
   ]
  },
  {
   "cell_type": "code",
   "execution_count": 16,
   "metadata": {},
   "outputs": [
    {
     "data": {
      "text/plain": [
       "11"
      ]
     },
     "execution_count": 16,
     "metadata": {},
     "output_type": "execute_result"
    }
   ],
   "source": [
    "fun_name(5,6)"
   ]
  },
  {
   "cell_type": "markdown",
   "metadata": {},
   "source": [
    "Required Arguments:\n",
    "\n",
    "    The required arguments of a function are those that have to be in there."
   ]
  },
  {
   "cell_type": "code",
   "execution_count": 17,
   "metadata": {},
   "outputs": [],
   "source": [
    "# Define 'plus()' m with required arguments\n",
    "def plus(a,b):\n",
    "    return a + b"
   ]
  },
  {
   "cell_type": "code",
   "execution_count": 18,
   "metadata": {},
   "outputs": [
    {
     "data": {
      "text/plain": [
       "30"
      ]
     },
     "execution_count": 18,
     "metadata": {},
     "output_type": "execute_result"
    }
   ],
   "source": [
    "plus(b = 10, a = 20)"
   ]
  },
  {
   "cell_type": "markdown",
   "metadata": {},
   "source": [
    "Variable Number of Arguments:\n",
    "\n",
    "        In cases where you don't know the exact number of arguments that you want to pass to a function you can use the following syntax with * args."
   ]
  },
  {
   "cell_type": "code",
   "execution_count": 26,
   "metadata": {},
   "outputs": [
    {
     "name": "stdout",
     "output_type": "stream",
     "text": [
      "6\n"
     ]
    }
   ],
   "source": [
    "def my_sum(my_integers):\n",
    "    result = 0\n",
    "    \n",
    "    for x in my_integers:\n",
    "        result += x\n",
    "        \n",
    "    return result\n",
    "\n",
    "list_of_integers = [1,2,3]\n",
    "\n",
    "print(my_sum(list_of_integers))"
   ]
  },
  {
   "cell_type": "markdown",
   "metadata": {},
   "source": [
    "This implementation works, but whenever you call this function you'll also need to create a list of arguments to pass to it.\n",
    "\n",
    "This can be inconvenient especially if you don't know up front all the values that should go into the list.\n",
    "\n",
    "This is where *args can be really useful."
   ]
  },
  {
   "cell_type": "code",
   "execution_count": 28,
   "metadata": {},
   "outputs": [
    {
     "name": "stdout",
     "output_type": "stream",
     "text": [
      "30\n"
     ]
    }
   ],
   "source": [
    "# sum_integers_args.py\n",
    "def my_sum(*args):\n",
    "    result = 0\n",
    "    \n",
    "    # Iterating over the Python *args tuple\n",
    "    for x in args:\n",
    "        \n",
    "        result += x\n",
    "        \n",
    "        \n",
    "    return result\n",
    "\n",
    "\n",
    "print(my_sum(1,2,3,7,8,4,3,2))"
   ]
  },
  {
   "cell_type": "markdown",
   "metadata": {},
   "source": [
    "You're no longer passing a list to my_sum().\n",
    "\n",
    "Instead you're passing three different positional arguments.\n",
    "\n",
    "my_sum() takes all the parameters that are provided in the input and packs themm all into a single iterable object named args.\n",
    "\n",
    "    Note that args is just a name. You're not required to use the name args. You can choose any name that you prefer such as (*integers)."
   ]
  },
  {
   "cell_type": "code",
   "execution_count": 29,
   "metadata": {},
   "outputs": [
    {
     "name": "stdout",
     "output_type": "stream",
     "text": [
      "6\n"
     ]
    }
   ],
   "source": [
    "# sum_integers_args_2.py\n",
    "\n",
    "def my_sum(*integers):\n",
    "    result = 0 \n",
    "    for x in integers:\n",
    "        result += x\n",
    "    return result\n",
    "print(my_sum(1,2,3))"
   ]
  },
  {
   "cell_type": "code",
   "execution_count": 32,
   "metadata": {},
   "outputs": [
    {
     "name": "stdout",
     "output_type": "stream",
     "text": [
      "First time:\n",
      "This is the first argument of 1st function call \n",
      "(2, 3, 4, 5)\n",
      "2\n",
      "3\n",
      "4\n",
      "5\n",
      "Second time:\n",
      "This is the first argument of 2nd function call\n",
      "('asd', 'Bcd')\n",
      "asd\n",
      "Bcd\n",
      "Third time:\n",
      "This is the first argument and only argument of 3rd function call\n",
      "()\n"
     ]
    }
   ],
   "source": [
    "def varfunc(name,*args):\n",
    "        print(\"This is the first argument \"+str(name))\n",
    "        # This print will make you understand that the args is a \n",
    "        print(args)\n",
    "        for item in args:\n",
    "                print(item)\n",
    "                \n",
    "print(\"First time:\")\n",
    "varfunc(\"of 1st function call \",2,3,4,5)\n",
    "\n",
    "print(\"Second time:\")\n",
    "varfunc(\"of 2nd function call\",\"asd\",\"Bcd\")\n",
    "\n",
    "print(\"Third time:\")\n",
    "varfunc(\"and only argument of 3rd function call\")"
   ]
  },
  {
   "cell_type": "markdown",
   "metadata": {},
   "source": [
    "Using the Python 'kwargs' Variable in Function Definitions:\n",
    "\n",
    "**kwargs works just like *args. but instead of accepting positional arguments it accepts keyword(or named) arguments."
   ]
  },
  {
   "cell_type": "code",
   "execution_count": 40,
   "metadata": {},
   "outputs": [
    {
     "name": "stdout",
     "output_type": "stream",
     "text": [
      "o-O Python Is Kewl! Pizza Delicious!\n"
     ]
    }
   ],
   "source": [
    "def concatenate(**kwargs):\n",
    "    \n",
    "    result = \"\"\n",
    "    \n",
    "    # Iterating over the Python kwargs dictionary\n",
    "    for arg in kwargs.values():\n",
    "        result += arg\n",
    "        \n",
    "    return result\n",
    "\n",
    "print(concatenate(a = \"o-O \",b = \"Python \", c = \"Is \", d = \"Kewl\", e = \"! \",f = \"Pizza \",g = \"Delicious!\"))"
   ]
  },
  {
   "cell_type": "markdown",
   "metadata": {},
   "source": [
    "Like *args, **kwargs is just a name that can be changed to whatever you want.\n",
    "\n",
    "Again, what is important here is the use of the unpacking operator(**)"
   ]
  },
  {
   "cell_type": "code",
   "execution_count": 42,
   "metadata": {},
   "outputs": [
    {
     "name": "stdout",
     "output_type": "stream",
     "text": [
      "Ice Ice Baby Yeah!\n"
     ]
    }
   ],
   "source": [
    "def concatenate(**words):\n",
    "    result = \"\"\n",
    "    for arg in words.values():\n",
    "        result += arg\n",
    "    return result\n",
    "print(concatenate(a=\"Ice \",b=\"Ice \",c=\"Baby \",d=\"Yeah\",e=\"!\"))"
   ]
  },
  {
   "cell_type": "code",
   "execution_count": 58,
   "metadata": {},
   "outputs": [
    {
     "name": "stdout",
     "output_type": "stream",
     "text": [
      "Name: Furr\n",
      "Roll: Admin\n",
      "Age:38\n",
      "Gender: male\n",
      "None\n"
     ]
    }
   ],
   "source": [
    "def varFunc(name,roll,**options):\n",
    "        print(\"Name: \" +name)\n",
    "        print(\"Roll: \"+str(roll))\n",
    "        if \"age\" in options:\n",
    "                print(\"Age:\"+str(options.get('age')))\n",
    "        if \"gender\" in options:\n",
    "                print(\"Gender: \"+str (options.get(\"gender\")))\n",
    "                \n",
    "print(varFunc('Furr','Admin',age= 38,gender=\"male\"))"
   ]
  }
 ],
 "metadata": {
  "kernelspec": {
   "display_name": "base",
   "language": "python",
   "name": "python3"
  },
  "language_info": {
   "codemirror_mode": {
    "name": "ipython",
    "version": 3
   },
   "file_extension": ".py",
   "mimetype": "text/x-python",
   "name": "python",
   "nbconvert_exporter": "python",
   "pygments_lexer": "ipython3",
   "version": "3.12.4"
  }
 },
 "nbformat": 4,
 "nbformat_minor": 2
}
