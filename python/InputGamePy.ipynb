{
 "cells": [
  {
   "cell_type": "markdown",
   "metadata": {},
   "source": [
    "Project 2:\n",
    "\n",
    "        Question \n",
    "\n",
    "        A robot moves in a plane starting from the original point(0,0). The Robot can move toward UP, DOWN, LEFT, RIGHT with a given steps. The Trace of robot movement is shown as the following:\n",
    "\n",
    "            Up: 5\n",
    "            DOWN: 3\n",
    "            LEFT: 3\n",
    "            RIGHT: 2\n",
    "\n",
    "        The numbers after the direction are steps.\n",
    "\n",
    "        Write a program to comnpute the distance from start position after a sequence of movement. If the distance is a float, then just print the nearest integer.\n",
    "\n",
    "            Use the following distance calculation measures\n",
    "\n",
    "            Description: The Minkowski distance between two variables X and Y is defined as 'img' Below.\n",
    "\n",
    "            Define a function for Minkowski, and try, p = 1, p = 2 and p = 3.\n",
    "\n",
    "            state your observations.\n",
    "\n",
    "        When p =2, then Minkowski behaves like Euclidean distance metric.\n",
    "        \"Euclidean img in folder\"\n",
    "\n",
    "        When p = 1, then Minkowski behaves like Manhattan distance metric.\n",
    "        \"Images Folder has Manhattan image\"\n",
    "\n",
    "        If The following tuples are given as input to the program:\n",
    "\n",
    "        UP: 5\n",
    "        DOWN: 3\n",
    "        LEFT: 3\n",
    "        RIGHT: 2\n",
    "\n",
    "        Then, the output of the program should be: 2\n",
    "\n"
   ]
  },
  {
   "cell_type": "code",
   "execution_count": 1,
   "metadata": {},
   "outputs": [],
   "source": [
    "from PIL import Image,ImageDraw,ImageFont\n",
    "from IPython.display import display\n",
    "\n",
    "import matplotlib.pyplot as plt\n",
    "%matplotlib inline\n",
    "import numpy as np"
   ]
  },
  {
   "cell_type": "code",
   "execution_count": 12,
   "metadata": {},
   "outputs": [],
   "source": [
    "minkowski = r'..//..//..//../Pictures/Screenshots/minkowski.png'\n",
    "img = Image.open(minkowski)\n",
    "img\n",
    "img.save('minsk.png')"
   ]
  },
  {
   "cell_type": "code",
   "execution_count": 20,
   "metadata": {},
   "outputs": [],
   "source": [
    "import math"
   ]
  },
  {
   "cell_type": "code",
   "execution_count": 21,
   "metadata": {},
   "outputs": [],
   "source": [
    "start_pos = [0,0]\n",
    "end_pos = [0,0]"
   ]
  },
  {
   "cell_type": "code",
   "execution_count": 22,
   "metadata": {},
   "outputs": [],
   "source": [
    "actions = [\n",
    "    ( \"UP\",5),\n",
    "    ( \"DOWN\",3),\n",
    "    ( \"LEFT\",3),\n",
    "    ( \"RIGHT\",2),\n",
    "]"
   ]
  },
  {
   "cell_type": "code",
   "execution_count": 23,
   "metadata": {},
   "outputs": [],
   "source": [
    "for action in actions:\n",
    "    # get the directions and steps\n",
    "    direction = action[0]\n",
    "    steps =     action[1]\n",
    "    \n",
    "    if direction == \"UP\":\n",
    "        end_pos[1] += steps\n",
    "        \n",
    "    elif direction == \"DOWN\":\n",
    "        end_pos[1] -= steps\n",
    "        \n",
    "    elif direction == \"LEFT\":\n",
    "        end_pos[0] -= steps\n",
    "        \n",
    "    elif direction == \"RIGHT\":\n",
    "        end_pos[0] += steps\n",
    "        \n",
    "    else:\n",
    "        pass\n",
    "    "
   ]
  },
  {
   "cell_type": "code",
   "execution_count": 26,
   "metadata": {},
   "outputs": [
    {
     "data": {
      "text/plain": [
       "([-1, 2], [0, 0])"
      ]
     },
     "execution_count": 26,
     "metadata": {},
     "output_type": "execute_result"
    }
   ],
   "source": [
    "end_pos,start_pos"
   ]
  },
  {
   "cell_type": "code",
   "execution_count": 27,
   "metadata": {},
   "outputs": [],
   "source": [
    "# Calculate Minkowski distance\n",
    "def minkowski_distance(end_pos,start_pos,root):\n",
    "    dist = ((end_pos[0] - start_pos[0]) ** root + (end_pos[1] - start_pos[1]) ** root) ** (1/root)\n",
    "    \n",
    "    return dist"
   ]
  },
  {
   "cell_type": "code",
   "execution_count": 28,
   "metadata": {},
   "outputs": [
    {
     "name": "stdout",
     "output_type": "stream",
     "text": [
      "Minkowski distance with root = 1, is = 1.0\n",
      "Minkowski distance with root = 2, is = 2.23606797749979\n",
      "Minkowski distance with root = 3, is = 1.912931182772389\n"
     ]
    }
   ],
   "source": [
    "# try with root = 1, 2, 3\n",
    "root = 1\n",
    "print('Minkowski distance with root = {}, is = {}'.format(root,minkowski_distance(end_pos, start_pos,root)))\n",
    "\n",
    "root = 2\n",
    "print('Euclidean distance with root = {}, is = {}'.format(root,minkowski_distance(end_pos, start_pos,root)))\n",
    "\n",
    "root = 3\n",
    "print('Cubic Minkowski distance with root = {}, is = {}'.format(root,minkowski_distance(end_pos, start_pos,root)))"
   ]
  }
 ],
 "metadata": {
  "kernelspec": {
   "display_name": "base",
   "language": "python",
   "name": "python3"
  },
  "language_info": {
   "codemirror_mode": {
    "name": "ipython",
    "version": 3
   },
   "file_extension": ".py",
   "mimetype": "text/x-python",
   "name": "python",
   "nbconvert_exporter": "python",
   "pygments_lexer": "ipython3",
   "version": "3.12.4"
  }
 },
 "nbformat": 4,
 "nbformat_minor": 2
}
