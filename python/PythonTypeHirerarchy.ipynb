{
 "cells": [
  {
   "cell_type": "markdown",
   "metadata": {},
   "source": [
    "Python Standard Type Hierarchy\n",
    "Also known as the data model in Python.\n",
    "\n",
    "'None':\n",
    "- Single object with this value. Accessed through built in name None. Truth Value is false.\n",
    "\n",
    "'Ellipses':\n",
    " - Single object with this value. Accessed through the built in name Ellipses. It is used to indicate the presence of the \"_\" syntax in a slice. Its Truth Value is True.\n",
    "\n",
    "'Numbers':\n",
    " - Immutable. Created through numeric literals and outputs of arithmetic expressions and arithmetic built in functions. SubTypes:\n",
    "    \n",
    "    'Integers':\n",
    "        \n",
    "        'Plain Integers' - These represent numbers in the range  \n",
    "               -2147483648 through 2147483647.\n",
    "        \n",
    "        'Long Integers' - These represent numbers in an unlimited range subject to \n",
    "                available(virtual) memory only\n",
    "    \n",
    "    'Floating Point Numbers' - These represent machine-level double precision floating  point numbers.\n",
    "    \n",
    "    'Complex Numbers' - These represent complex numbers as a pair of machine-level double precision floating point numbers.\n",
    "\n",
    "'Sequences' - These represent finite ordered sets indexed by natural numbers. Subtypes are based on mutability\n",
    "    \n",
    "    'Immutable Sequences':\n",
    "            'Strings' - The items of a string are characters.\n",
    "            'Unicode' - The items of a Unicode are Unicode Characters.\n",
    "            'Tuples' - The items of a tuple are arbitrary Python objects.\n",
    "   \n",
    "    'Mutable Sequences':\n",
    "            'List' - The items of a list are arbitrary Python objects.\n",
    "\n",
    "'Mappings' - These represent finite sets of objects indexed by arbitrary indexed sets.\n",
    "    'Dictionaries' - These represent finite sets of objects indexed by nearly arbitrary values. These indexes must be of an immutable data type.\n",
    "\n",
    "'Callable Types':\n",
    "    'User-defined Functions'\n",
    "    'User-defined Methods'\n",
    "    'Built-in Functions'\n",
    "    'Built-in Methods'\n",
    "    'Classes'\n",
    "    'Class Instances'\n",
    "\n",
    "'Modules'\n",
    "\n",
    "'Files'\n",
    "\n",
    "'Internal Types'"
   ]
  }
 ],
 "metadata": {
  "kernelspec": {
   "display_name": "base",
   "language": "python",
   "name": "python3"
  },
  "language_info": {
   "name": "python",
   "version": "3.12.4"
  }
 },
 "nbformat": 4,
 "nbformat_minor": 2
}
