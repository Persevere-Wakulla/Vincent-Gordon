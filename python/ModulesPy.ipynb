{
 "cells": [
  {
   "cell_type": "markdown",
   "metadata": {},
   "source": [
    "A module is a Python file that has functions or classes. (simply save the pyhton file with .py extension)\n",
    "\n",
    "    A Python program can use one or more modules.\n",
    "\n",
    "    Modules can have one or more functions.\n",
    "\n",
    "    Thus they help you to organize your code. Instead of one long Python file, you can have several files(modules).\n",
    "\n",
    "Modular progrmming refers to the process of breaking a large programming task into separate,smaller, more manageable subtasks or modules.\n",
    "\n",
    "    Individual modules can the be grouped together like building blocks to create a larger application.\n",
    "\n",
    "There are several advantages to modularizing code in a large application:\n",
    "\n",
    "    Simplicity: Rather than focusing on the entire problem at hand, a module typically focuses on one relatively small portion of the problem.\n",
    "\n",
    "    Maintainability: Modules are typically designed so that they enforce logical boundaries between different problem domains.\n",
    "\n",
    "    Reuseability: Functionally defined in a single module can be easily reused(through an appropriately defined interface) by other parts of the application. This eliminates the need to duplicate code.\n",
    "\n",
    "    Scoping: Modules typiucally define a separate namespace, which helps avoid collisions between identifiers in different areas of a program.\n",
    "\n",
    "Functions, Modules, and Packages are all constructs in Python that promote code modularization.\n",
    "\n",
    "\n",
    "\n",
    "\n"
   ]
  },
  {
   "cell_type": "markdown",
   "metadata": {},
   "source": [
    "Import modules: \n",
    "\n",
    "    You can load a module with the import keyword.\n",
    "\n",
    "    In the example below we load the os module. This short for operating system, so you can do system tasks.\n"
   ]
  },
  {
   "cell_type": "code",
   "execution_count": 1,
   "metadata": {},
   "outputs": [],
   "source": [
    "import os"
   ]
  },
  {
   "cell_type": "markdown",
   "metadata": {},
   "source": [
    "To see all functions in a module:"
   ]
  },
  {
   "cell_type": "code",
   "execution_count": 2,
   "metadata": {},
   "outputs": [
    {
     "name": "stdout",
     "output_type": "stream",
     "text": [
      "['DirEntry', 'EX_OK', 'F_OK', 'GenericAlias', 'Mapping', 'MutableMapping', 'O_APPEND', 'O_BINARY', 'O_CREAT', 'O_EXCL', 'O_NOINHERIT', 'O_RANDOM', 'O_RDONLY', 'O_RDWR', 'O_SEQUENTIAL', 'O_SHORT_LIVED', 'O_TEMPORARY', 'O_TEXT', 'O_TRUNC', 'O_WRONLY', 'P_DETACH', 'P_NOWAIT', 'P_NOWAITO', 'P_OVERLAY', 'P_WAIT', 'PathLike', 'R_OK', 'SEEK_CUR', 'SEEK_END', 'SEEK_SET', 'TMP_MAX', 'W_OK', 'X_OK', '_AddedDllDirectory', '_Environ', '__all__', '__builtins__', '__doc__', '__file__', '__loader__', '__name__', '__package__', '__spec__', '_check_methods', '_execvpe', '_exists', '_exit', '_fspath', '_get_exports_list', '_walk_symlinks_as_files', '_wrap_close', 'abc', 'abort', 'access', 'add_dll_directory', 'altsep', 'chdir', 'chmod', 'close', 'closerange', 'cpu_count', 'curdir', 'defpath', 'device_encoding', 'devnull', 'dup', 'dup2', 'environ', 'error', 'execl', 'execle', 'execlp', 'execlpe', 'execv', 'execve', 'execvp', 'execvpe', 'extsep', 'fdopen', 'fsdecode', 'fsencode', 'fspath', 'fstat', 'fsync', 'ftruncate', 'get_blocking', 'get_exec_path', 'get_handle_inheritable', 'get_inheritable', 'get_terminal_size', 'getcwd', 'getcwdb', 'getenv', 'getlogin', 'getpid', 'getppid', 'isatty', 'kill', 'linesep', 'link', 'listdir', 'listdrives', 'listmounts', 'listvolumes', 'lseek', 'lstat', 'makedirs', 'mkdir', 'name', 'open', 'pardir', 'path', 'pathsep', 'pipe', 'popen', 'putenv', 'read', 'readlink', 'remove', 'removedirs', 'rename', 'renames', 'replace', 'rmdir', 'scandir', 'sep', 'set_blocking', 'set_handle_inheritable', 'set_inheritable', 'spawnl', 'spawnle', 'spawnv', 'spawnve', 'st', 'startfile', 'stat', 'stat_result', 'statvfs_result', 'strerror', 'supports_bytes_environ', 'supports_dir_fd', 'supports_effective_ids', 'supports_fd', 'supports_follow_symlinks', 'symlink', 'sys', 'system', 'terminal_size', 'times', 'times_result', 'truncate', 'umask', 'uname_result', 'unlink', 'unsetenv', 'urandom', 'utime', 'waitpid', 'waitstatus_to_exitcode', 'walk', 'write']\n"
     ]
    }
   ],
   "source": [
    "print(dir(os))"
   ]
  },
  {
   "cell_type": "code",
   "execution_count": 3,
   "metadata": {},
   "outputs": [
    {
     "name": "stdout",
     "output_type": "stream",
     "text": [
      "c:\\Users\\PCC-03\\Desktop\\Dev Gordon K31638\\Git Labs\\python\n"
     ]
    }
   ],
   "source": [
    "print(os.getcwd())"
   ]
  },
  {
   "cell_type": "code",
   "execution_count": 7,
   "metadata": {},
   "outputs": [
    {
     "name": "stdout",
     "output_type": "stream",
     "text": [
      "['.git', '.vscode', 'ArithmeticOperations.ipynb', 'ConditionalStatementsPy.ipynb', 'Dictionaries.ipynb', 'ExceptionsPy.ipynb', 'FileHandlingPy.ipynb', 'ForLoopPy.ipynb', 'FunctionsPy.ipynb', 'IfStatementsPy.ipynb', 'Images', 'InheritancePy.ipynb', 'InputGamePy.ipynb', 'IteratorsPy.ipynb', 'LambdaFxPy.ipynb', 'ListAndTuples.ipynb', 'MathFunctionInPy.ipynb', 'ModulesPy.ipynb', 'OOPPY.ipynb', 'OperatorPrecedence.ipynb', 'PasswordCheckerPy.ipynb', 'PolymorphismPy.ipynb', 'Python', 'PythonObjectTypes.ipynb', 'PythonStrings.ipynb', 'PythonTypeHirerarchy.ipynb', 'README.md', 'TypeConversion Numeric DataTYpe.ipynb', 'variablesAndExpressions.ipynb', 'WhileLoopPy.ipynb', 'WLooProjectPy.ipynb', 'WordCountPy.ipynb']\n"
     ]
    }
   ],
   "source": [
    "print(os.listdir())"
   ]
  },
  {
   "cell_type": "code",
   "execution_count": 8,
   "metadata": {},
   "outputs": [],
   "source": [
    "os.mkdir('tempdir')"
   ]
  },
  {
   "cell_type": "code",
   "execution_count": 9,
   "metadata": {},
   "outputs": [],
   "source": [
    "os.rmdir('tempdir')"
   ]
  },
  {
   "cell_type": "markdown",
   "metadata": {},
   "source": [
    "Creating a Python Module:\n",
    "\n",
    "    First create a python script my_calc.py which has the addition,subtraction,product and division functions for two numbers as shown below.\n",
    "\n",
    "     def add(x,y):\n",
    "         return x + y\n",
    "    \n",
    "     def sub(x,y):\n",
    "         return x - y\n",
    "    \n",
    "     def prod(x,y):\n",
    "         return x * y\n",
    "    \n",
    "     def div(x,y):\n",
    "         if(y == 0):\n",
    "             return \"Not Possible\"\n",
    "         else:\n",
    "             return x / y"
   ]
  },
  {
   "cell_type": "markdown",
   "metadata": {},
   "source": [
    "Importing the Module:\n",
    "\n",
    "    We can import the Created Module 'calculate' differently.\n",
    "\n",
    "        Using the import statement:\n",
    "            \n",
    "                Example: import my_calc as calc\n",
    "\n",
    "        Using the from statement:\n",
    "\n",
    "            We can import particular members of the module by using, 'from <foo> import <bar>'.\n",
    "\n",
    "            The main advantage of this is we can access members directly without using the module name.\n",
    "\n",
    "                Example: 'from my_calc import add'\n",
    "        \n",
    "        Using comma(,):\n",
    "\n",
    "            To import more than one class or method we can use, operator as follows.\n",
    "\n",
    "                Example: 'from my_calc import add,sub,pro,div'\n",
    "\n",
    "        Using asterisk (*):\n",
    "\n",
    "            The '*' is short for everything.\n",
    "\n",
    "            To import all the existed classes or methods at a time. we can use * at the end, as shown below.\n",
    "\n",
    "                Example: 'from my_calc import *'\n",
    "\n",
    "To access:\n",
    "\n",
    "    the contents in the module use dot operator as.\n"
   ]
  },
  {
   "cell_type": "code",
   "execution_count": 11,
   "metadata": {},
   "outputs": [],
   "source": [
    "import my_calc"
   ]
  },
  {
   "cell_type": "code",
   "execution_count": 12,
   "metadata": {},
   "outputs": [],
   "source": [
    "from my_calc import add"
   ]
  },
  {
   "cell_type": "code",
   "execution_count": 13,
   "metadata": {},
   "outputs": [],
   "source": [
    "from my_calc import add,sub\n"
   ]
  },
  {
   "cell_type": "code",
   "execution_count": null,
   "metadata": {},
   "outputs": [],
   "source": [
    "from my_calc import *\n"
   ]
  },
  {
   "cell_type": "code",
   "execution_count": 14,
   "metadata": {},
   "outputs": [],
   "source": [
    "import my_calc as calc"
   ]
  },
  {
   "cell_type": "code",
   "execution_count": 15,
   "metadata": {},
   "outputs": [
    {
     "name": "stdout",
     "output_type": "stream",
     "text": [
      "Add 100\n",
      "Sub -60\n",
      "Mul 1600\n",
      "Div 0.25\n"
     ]
    }
   ],
   "source": [
    "a = 20 \n",
    "b = 80\n",
    "\n",
    "print(\"Add\",calc.add(a,b))\n",
    "print(\"Sub\",calc.sub(a,b))\n",
    "print(\"Mul\",calc.prod(a,b))\n",
    "print(\"Div\",calc.div(a,b))"
   ]
  },
  {
   "cell_type": "code",
   "execution_count": 16,
   "metadata": {},
   "outputs": [
    {
     "data": {
      "text/plain": [
       "['__builtins__',\n",
       " '__cached__',\n",
       " '__doc__',\n",
       " '__file__',\n",
       " '__loader__',\n",
       " '__name__',\n",
       " '__package__',\n",
       " '__spec__',\n",
       " 'add',\n",
       " 'div',\n",
       " 'prod',\n",
       " 'sub']"
      ]
     },
     "execution_count": 16,
     "metadata": {},
     "output_type": "execute_result"
    }
   ],
   "source": [
    "dir(calc)"
   ]
  },
  {
   "cell_type": "markdown",
   "metadata": {},
   "source": [
    "The Module Search Path:\n",
    "\n",
    "    Let's take a look at what happens when Python executes the statement:\n",
    "\n",
    "        import my_calc as my_calc\n",
    "    \n",
    "    When the interpreter executes the above import statement, it searches for my_calc.py in a list of directories assembled from the following sources:\n",
    "\n",
    "        The directory from which the input script was run or the current directory if the interpreter is being run interactively.\n",
    "\n",
    "        The list of directories contained in the PYTHONPATH environment variable, if it is set.(The format for PYTHONPATH is OS-dependent but should mimic the path environment variable.)\n",
    "\n",
    "        An installation-dependent list of directories configured at the time Python is installed.\n",
    "\n",
    "    The resulting search path is accessible in the Python variable. sys.path, which is obtained from a module named sys:"
   ]
  },
  {
   "cell_type": "code",
   "execution_count": 17,
   "metadata": {},
   "outputs": [
    {
     "data": {
      "text/plain": [
       "['c:\\\\Users\\\\PCC-03\\\\Desktop\\\\Dev Gordon K31638\\\\Git Labs\\\\python',\n",
       " 'c:\\\\Users\\\\PCC-03\\\\anaconda3\\\\python312.zip',\n",
       " 'c:\\\\Users\\\\PCC-03\\\\anaconda3\\\\DLLs',\n",
       " 'c:\\\\Users\\\\PCC-03\\\\anaconda3\\\\Lib',\n",
       " 'c:\\\\Users\\\\PCC-03\\\\anaconda3',\n",
       " '',\n",
       " 'c:\\\\Users\\\\PCC-03\\\\anaconda3\\\\Lib\\\\site-packages',\n",
       " 'c:\\\\Users\\\\PCC-03\\\\anaconda3\\\\Lib\\\\site-packages\\\\win32',\n",
       " 'c:\\\\Users\\\\PCC-03\\\\anaconda3\\\\Lib\\\\site-packages\\\\win32\\\\lib',\n",
       " 'c:\\\\Users\\\\PCC-03\\\\anaconda3\\\\Lib\\\\site-packages\\\\Pythonwin']"
      ]
     },
     "execution_count": 17,
     "metadata": {},
     "output_type": "execute_result"
    }
   ],
   "source": [
    "import sys \n",
    "sys.path"
   ]
  }
 ],
 "metadata": {
  "kernelspec": {
   "display_name": "base",
   "language": "python",
   "name": "python3"
  },
  "language_info": {
   "codemirror_mode": {
    "name": "ipython",
    "version": 3
   },
   "file_extension": ".py",
   "mimetype": "text/x-python",
   "name": "python",
   "nbconvert_exporter": "python",
   "pygments_lexer": "ipython3",
   "version": "3.12.4"
  }
 },
 "nbformat": 4,
 "nbformat_minor": 2
}
