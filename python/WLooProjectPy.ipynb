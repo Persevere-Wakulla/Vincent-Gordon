{
 "cells": [
  {
   "cell_type": "markdown",
   "metadata": {},
   "source": [
    "Simple Projects on loops \n",
    "\n",
    "            Write a program to calculate factorial of a number.(while loop)"
   ]
  },
  {
   "cell_type": "code",
   "execution_count": 5,
   "metadata": {},
   "outputs": [
    {
     "name": "stdout",
     "output_type": "stream",
     "text": [
      "Enter number: \n",
      "Factorial 0f 8 is 40320\n"
     ]
    }
   ],
   "source": [
    "print (\"Enter number: \")\n",
    "\n",
    "number = int(input())\n",
    "\n",
    "number_entered = number\n",
    "\n",
    "fac = 1\n",
    "\n",
    "if number == 0:\n",
    "    result = 1\n",
    "else:\n",
    "    while number >= 1:\n",
    "        fac = fac * number\n",
    "        number = number -1\n",
    "    result = fac\n",
    "print (\"Factorial 0f {} is {}\".format(number_entered,result))"
   ]
  },
  {
   "cell_type": "markdown",
   "metadata": {},
   "source": [
    "                Write a program to generate fibbonaci numbers(using while loops)"
   ]
  },
  {
   "cell_type": "code",
   "execution_count": 6,
   "metadata": {},
   "outputs": [
    {
     "name": "stdout",
     "output_type": "stream",
     "text": [
      "[1, 1, 2, 3, 5, 8]\n"
     ]
    }
   ],
   "source": [
    "count = int(input(\"How many fibbonaci numbers would you like to generate?\"))\n",
    "\n",
    "i = 1\n",
    "if count == 0:\n",
    "    fib = []\n",
    "elif count ==1:\n",
    "    fib = [1]\n",
    "elif count ==2:\n",
    "    fib = [1,1]\n",
    "elif count > 2:\n",
    "    fib = [1,1]\n",
    "    while i < (count - 1):\n",
    "        fib.append(fib[i] + fib[i - 1])\n",
    "        i += 1\n",
    "        \n",
    "# print the series\n",
    "print (fib)"
   ]
  },
  {
   "cell_type": "markdown",
   "metadata": {},
   "source": [
    "                Write a program which takes 2 digits, X,Y as input and generates a 2-dimensional array.\n",
    "                The element value in the i-th row and j-th column of the array should be i * j. Note i = 0.1 _ X - 1: j = 0,1,jY-1\n",
    "                Suppose the following inputs are given to the program 3,5\n",
    "\n",
    "                Then the output of the program should be [0,0,0,0,0],[0,1,2,3,4],[0,2,4,6,8]"
   ]
  },
  {
   "cell_type": "code",
   "execution_count": 8,
   "metadata": {},
   "outputs": [
    {
     "name": "stdout",
     "output_type": "stream",
     "text": [
      "5,5\n",
      "[[0, 0, 0, 0, 0], [0, 1, 2, 3, 4], [0, 2, 4, 6, 8], [0, 3, 6, 9, 12], [0, 4, 8, 12, 16]]\n"
     ]
    }
   ],
   "source": [
    "input_str = input(\"Enter array dimension (m,n e.g. 3 ,5) :\")\n",
    "print(input_str)\n",
    "\n",
    "dimensions = [int(x) for x in input_str.split(',')]\n",
    "\n",
    "rowNum = dimensions[0]\n",
    "colNum = dimensions[1]\n",
    "\n",
    "multilist = [[0 for col in range (colNum)] for row in range (rowNum)]\n",
    "\n",
    "for row in range (rowNum):\n",
    "    for col in range (colNum):\n",
    "        multilist[row][col] = row * col\n",
    "print (multilist)"
   ]
  },
  {
   "cell_type": "code",
   "execution_count": null,
   "metadata": {},
   "outputs": [],
   "source": []
  }
 ],
 "metadata": {
  "kernelspec": {
   "display_name": "base",
   "language": "python",
   "name": "python3"
  },
  "language_info": {
   "codemirror_mode": {
    "name": "ipython",
    "version": 3
   },
   "file_extension": ".py",
   "mimetype": "text/x-python",
   "name": "python",
   "nbconvert_exporter": "python",
   "pygments_lexer": "ipython3",
   "version": "3.12.4"
  }
 },
 "nbformat": 4,
 "nbformat_minor": 2
}
