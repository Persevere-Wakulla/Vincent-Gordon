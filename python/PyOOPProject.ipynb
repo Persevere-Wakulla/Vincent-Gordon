{
 "cells": [
  {
   "cell_type": "markdown",
   "metadata": {},
   "source": [
    "STACK - Abstract Data Structure - implementation using basic python + OOP\n",
    "    \n",
    " + The name Stack data structure resembles a pile of objects, stack of papers, or a tower of blocks, where adding and removing of items occur only at the top of the pile.\n",
    "\n",
    " + A stack an abstract linear data type, collection of objects that supports fast last-in, first-out(LIFO) semantics for inserts and deletes.\n",
    "\n",
    " + Unlike lists or arrays, stacks typically don't allow for random access to the objects they contain.\n",
    "\n",
    " + The insert and delete operations are also often called push and pop.\n",
    "\n",
    " + Stacks and Queues are both linear collections of items.\n",
    "\n",
    "   * However, in a queue, the least recently added item is removed first, following the First in First Out or FIFO manner.\n",
    "   * On the other hand, in a stack, the most recently added item is removed in the beginning following the LIFO.\n",
    "\n",
    "A real-life example of a stack is a pile of heavy and precious plates, all kept on top of the other. If you wish to add a plate or remove one, you can do that only from the top. However, if you want to remove a lower plate from the stack, you have to remove the topmost plates one by one, in order to\n",
    "\n",
    " + A useful real-world analogy for a stack data structure is a stack of plates:\n",
    "    * New Plates are added to the top of the stack. And because the plates are precious and heavy, only the topmost plate can be moved(last-in,first-out). To reach the plates lower down in the stack the topmost plates must be removed one by one."
   ]
  },
  {
   "cell_type": "code",
   "execution_count": 1,
   "metadata": {},
   "outputs": [],
   "source": [
    "from IPython.display import Image"
   ]
  },
  {
   "cell_type": "markdown",
   "metadata": {},
   "source": [
    "Image Example in Folder\n"
   ]
  },
  {
   "cell_type": "markdown",
   "metadata": {},
   "source": [
    "+ The Basic operations which are performed in the stack are mentioned below:\n",
    "   * Push: Adds an item in the stack. Once the stack is full, it is said to be in an Overflow condition.\n",
    "   * Pop: Removes an item from the stack. It follows a reversed order to pop items similar to the way when items are pushed. It is said to be an Underflow condition.\n",
    "   * Peek or Top: Returns top element of Stack.\n",
    "   * isEmpty: Returns true if stack is empty, else false.\n",
    "\n",
    "+ Applications of Stack\n",
    "   * They are used to reverse a string. Each of the characters are pushed in and then popped off, which results in a reversed string.\n",
    "   * It is used in Expression Evaluation and Expression Conversion (infix to postfix,infix to prefix,postfix to infix,prefix to infix).\n",
    "   * It is used for forward and backward features in web browsers.\n",
    "   * It is used for recursive parsing and parenthesis checking.\n",
    "   * It is used for Backtracking like finding paths to a maze or exhaustive searching.\n",
    "   * It is used in Alogorithms like TOwer of Hanoi, tree traversals, histogram problem and also in graph algorithms like Topological Sorting."
   ]
  },
  {
   "cell_type": "markdown",
   "metadata": {},
   "source": [
    "Understanding Stack Operations:"
   ]
  },
  {
   "cell_type": "markdown",
   "metadata": {},
   "source": [
    "There are mainly two types of Primitive stack operations:\n",
    "\n",
    " + Push: It is performed to insert and store an element in the stack. However, when you try to insert an element in a stack which is full, the Overflow condition occurs.\n",
    "\n",
    " + Pop: Let's consider editing a Python file using the undo feature in your editor so you can have a clear understtanding of the stack operations. At first, a new function called Insert is added. The pus operation adds the Insert function into the stack:\n",
    "\n",
    " Image example is in the folder\n",
    "\n",
    " Now , a word Delete is removed from any of the comments. This word also gets added tothe stack:\n",
    "\n",
    " Image example 'OP2' is in the  folder\n",
    "\n",
    " The Delete is added to the top of the stack. Finally let us indent a comment to align things appropriately which is also inserted into the stack:\n",
    "\n",
    " Image example 'OP3' is in the folder\n",
    "\n",
    "Pop:\n",
    "  + Now to perform the pop operations, let us make use of the undo feature. When we first hit the undo, it removes the top-most element of the stack (here, which is Comment):\n",
    "\n",
    "Image example 'OP4' is in the folder\n",
    "\n",
    "and the stack is now left with two commands. When the next undo is hit again, the next command is removed from the stack:\n"
   ]
  },
  {
   "cell_type": "markdown",
   "metadata": {},
   "source": [
    "Implementing Stack in Python:"
   ]
  },
  {
   "cell_type": "markdown",
   "metadata": {},
   "source": [
    "+ Python gives you a lot of options for implementing a Python stack. However, there are some basic implementation of Python stack that will fulfill most of your needs.\n",
    "\n",
    "+ Some of those implementations are as follows:\n",
    "\n",
    "  * using list \n",
    "  * using collections.deque\n",
    "  * using custom method (of course ! we are going to do a toy implementation in this project !)\n",
    "  * numerous 3rd party packages"
   ]
  },
  {
   "cell_type": "markdown",
   "metadata": {},
   "source": [
    "Option 1 - The list Built-in"
   ]
  },
  {
   "cell_type": "markdown",
   "metadata": {},
   "source": [
    "+ Python's built-in list type makes a decent stack data structures as supports push and pop operations in amortized O(1) time."
   ]
  },
  {
   "cell_type": "code",
   "execution_count": 1,
   "metadata": {},
   "outputs": [],
   "source": [
    "# define a stack\n",
    "s = []\n",
    "\n",
    "# add some items to it\n",
    "s.append('eat')\n",
    "s.append('sleep')\n",
    "s.append('code')"
   ]
  },
  {
   "cell_type": "code",
   "execution_count": 3,
   "metadata": {},
   "outputs": [
    {
     "data": {
      "text/plain": [
       "['eat', 'sleep', 'code']"
      ]
     },
     "execution_count": 3,
     "metadata": {},
     "output_type": "execute_result"
    }
   ],
   "source": [
    "# print the stack\n",
    "s\n",
    "['eat', 'sleep', 'code']"
   ]
  },
  {
   "cell_type": "code",
   "execution_count": 4,
   "metadata": {},
   "outputs": [
    {
     "data": {
      "text/plain": [
       "'code'"
      ]
     },
     "execution_count": 4,
     "metadata": {},
     "output_type": "execute_result"
    }
   ],
   "source": [
    "s.pop()"
   ]
  },
  {
   "cell_type": "code",
   "execution_count": 5,
   "metadata": {},
   "outputs": [
    {
     "data": {
      "text/plain": [
       "'sleep'"
      ]
     },
     "execution_count": 5,
     "metadata": {},
     "output_type": "execute_result"
    }
   ],
   "source": [
    "s.pop()"
   ]
  },
  {
   "cell_type": "code",
   "execution_count": 6,
   "metadata": {},
   "outputs": [
    {
     "data": {
      "text/plain": [
       "'eat'"
      ]
     },
     "execution_count": 6,
     "metadata": {},
     "output_type": "execute_result"
    }
   ],
   "source": [
    "s.pop()"
   ]
  },
  {
   "cell_type": "code",
   "execution_count": 7,
   "metadata": {},
   "outputs": [
    {
     "data": {
      "text/plain": [
       "[]"
      ]
     },
     "execution_count": 7,
     "metadata": {},
     "output_type": "execute_result"
    }
   ],
   "source": [
    "s"
   ]
  },
  {
   "cell_type": "markdown",
   "metadata": {},
   "source": [
    "Option 2 - The list Built-in"
   ]
  },
  {
   "cell_type": "markdown",
   "metadata": {},
   "source": [
    "+ Using collections.deque\n",
    "+ Python contains a module named collections. This comprises of the deque class which is a double-ended queue that supports inserting and removing elements from either ends.\n",
    "+ Because deques support adding and removing elements from either and equally well, they can save both as queues an as stacks.\n",
    "\n",
    "The method of deque is similar to the lists:"
   ]
  },
  {
   "cell_type": "code",
   "execution_count": 9,
   "metadata": {},
   "outputs": [],
   "source": [
    "from collections import deque\n",
    "\n",
    "q = deque()\n",
    "\n",
    "q.append('eat')\n",
    "q.append('sleep')\n",
    "q.append('code')"
   ]
  },
  {
   "cell_type": "code",
   "execution_count": 10,
   "metadata": {},
   "outputs": [
    {
     "data": {
      "text/plain": [
       "'code'"
      ]
     },
     "execution_count": 10,
     "metadata": {},
     "output_type": "execute_result"
    }
   ],
   "source": [
    "q.pop()"
   ]
  },
  {
   "cell_type": "code",
   "execution_count": 11,
   "metadata": {},
   "outputs": [
    {
     "data": {
      "text/plain": [
       "'sleep'"
      ]
     },
     "execution_count": 11,
     "metadata": {},
     "output_type": "execute_result"
    }
   ],
   "source": [
    "q.pop()"
   ]
  },
  {
   "cell_type": "code",
   "execution_count": 12,
   "metadata": {},
   "outputs": [
    {
     "data": {
      "text/plain": [
       "'eat'"
      ]
     },
     "execution_count": 12,
     "metadata": {},
     "output_type": "execute_result"
    }
   ],
   "source": [
    "q.pop()"
   ]
  },
  {
   "cell_type": "markdown",
   "metadata": {},
   "source": [
    "Option 3 - Custom method using classes/objects"
   ]
  },
  {
   "cell_type": "markdown",
   "metadata": {},
   "source": [
    "+ The following stack implementation asssumes that the end of the list will hold the top elementof the stack.\n",
    "+ As the stack grows(as push operations occur), new items will be added on the end of the list.\n",
    "+ pop operations will manipulate that same end."
   ]
  },
  {
   "cell_type": "code",
   "execution_count": 13,
   "metadata": {},
   "outputs": [],
   "source": [
    "# define stack class\n",
    "class StackTopn:\n",
    "    def __init__(self):\n",
    "        self.items = []\n",
    "\n",
    "    # for printing the stack contents\n",
    "    def __str__(self):\n",
    "        return \" \".join([str(i) for i in self.items])\n",
    "\n",
    "    def isEmpty(self):\n",
    "        return self.items == []\n",
    "\n",
    "    def push(self, item):\n",
    "        self.items.append(item)\n",
    "\n",
    "    def pop(self):\n",
    "        return self.items.pop()\n",
    "\n",
    "    def peek(self):\n",
    "        return self.items[len(self.items) - 1]\n",
    "    \n",
    "    def size(self):\n",
    "        return len(self.items)\n",
    "    \n",
    "    def display_all_items(self):\n",
    "        return (self.items)"
   ]
  },
  {
   "cell_type": "code",
   "execution_count": 14,
   "metadata": {},
   "outputs": [],
   "source": [
    "# Initialize a stack\n",
    "s = StackTopn()"
   ]
  },
  {
   "cell_type": "code",
   "execution_count": 15,
   "metadata": {},
   "outputs": [
    {
     "name": "stdout",
     "output_type": "stream",
     "text": [
      "\n"
     ]
    }
   ],
   "source": [
    "print(s)"
   ]
  },
  {
   "cell_type": "code",
   "execution_count": 16,
   "metadata": {},
   "outputs": [
    {
     "data": {
      "text/plain": [
       "True"
      ]
     },
     "execution_count": 16,
     "metadata": {},
     "output_type": "execute_result"
    }
   ],
   "source": [
    "s.isEmpty()"
   ]
  },
  {
   "cell_type": "code",
   "execution_count": 17,
   "metadata": {},
   "outputs": [],
   "source": [
    "s.push('FIRST')\n",
    "s.push('SECOND')\n",
    "s.push('THRID')"
   ]
  },
  {
   "cell_type": "code",
   "execution_count": 20,
   "metadata": {},
   "outputs": [
    {
     "name": "stdout",
     "output_type": "stream",
     "text": [
      "FIRST SECOND THRID\n"
     ]
    }
   ],
   "source": [
    "print(s)"
   ]
  },
  {
   "cell_type": "code",
   "execution_count": 21,
   "metadata": {},
   "outputs": [
    {
     "name": "stdout",
     "output_type": "stream",
     "text": [
      "THRID\n"
     ]
    }
   ],
   "source": [
    "# get the recent item inserted\n",
    "print(s.peek())"
   ]
  },
  {
   "cell_type": "code",
   "execution_count": 22,
   "metadata": {},
   "outputs": [
    {
     "name": "stdout",
     "output_type": "stream",
     "text": [
      "FIRST\n",
      "SECOND\n",
      "THRID\n"
     ]
    }
   ],
   "source": [
    "# view the stack\n",
    "for item in s.display_all_items():\n",
    "    print(item)"
   ]
  },
  {
   "cell_type": "code",
   "execution_count": 23,
   "metadata": {},
   "outputs": [
    {
     "data": {
      "text/plain": [
       "['FIRST', 'SECOND', 'THRID']"
      ]
     },
     "execution_count": 23,
     "metadata": {},
     "output_type": "execute_result"
    }
   ],
   "source": [
    "# view the stack\n",
    "s.display_all_items()"
   ]
  },
  {
   "cell_type": "code",
   "execution_count": 24,
   "metadata": {},
   "outputs": [],
   "source": [
    "# add a boolean\n",
    "s.push(True)"
   ]
  },
  {
   "cell_type": "code",
   "execution_count": 25,
   "metadata": {},
   "outputs": [
    {
     "name": "stdout",
     "output_type": "stream",
     "text": [
      "Size of stack =  4\n"
     ]
    }
   ],
   "source": [
    "print('Size of stack = ',s.size())"
   ]
  },
  {
   "cell_type": "code",
   "execution_count": 27,
   "metadata": {},
   "outputs": [
    {
     "data": {
      "text/plain": [
       "['FIRST', 'SECOND', 'THRID', True, 8.4]"
      ]
     },
     "execution_count": 27,
     "metadata": {},
     "output_type": "execute_result"
    }
   ],
   "source": [
    "s.push(8.4)\n",
    "s.display_all_items()"
   ]
  },
  {
   "cell_type": "code",
   "execution_count": 28,
   "metadata": {},
   "outputs": [
    {
     "data": {
      "text/plain": [
       "8.4"
      ]
     },
     "execution_count": 28,
     "metadata": {},
     "output_type": "execute_result"
    }
   ],
   "source": [
    "# Last in first out\n",
    "s.pop()"
   ]
  },
  {
   "cell_type": "code",
   "execution_count": 29,
   "metadata": {},
   "outputs": [
    {
     "data": {
      "text/plain": [
       "['FIRST', 'SECOND', 'THRID', True]"
      ]
     },
     "execution_count": 29,
     "metadata": {},
     "output_type": "execute_result"
    }
   ],
   "source": [
    "s.display_all_items()\n"
   ]
  },
  {
   "cell_type": "markdown",
   "metadata": {},
   "source": [
    "Another implementation"
   ]
  },
  {
   "cell_type": "markdown",
   "metadata": {},
   "source": [
    "+ TOP is the beginning of the list (0th element)"
   ]
  },
  {
   "cell_type": "code",
   "execution_count": 30,
   "metadata": {},
   "outputs": [],
   "source": [
    "class StackTop0:\n",
    "    def __init__(self):\n",
    "        self.items = []\n",
    "    \n",
    "    def isEmpty(self):\n",
    "        return self.items == []\n",
    "    \n",
    "    def push(self,item):\n",
    "        self.items.insert(0,item)\n",
    "        \n",
    "    def pop(self):\n",
    "        return self.items.pop(0)\n",
    "    \n",
    "    def peek(self):\n",
    "        return self.items[0]\n",
    "    \n",
    "    def size(self):\n",
    "        return len(self.items)\n",
    "    \n",
    "    def display_all_items(self):\n",
    "        return (self.items)\n",
    "            "
   ]
  },
  {
   "cell_type": "code",
   "execution_count": 31,
   "metadata": {},
   "outputs": [],
   "source": [
    "stop0 = StackTop0()"
   ]
  },
  {
   "cell_type": "code",
   "execution_count": 32,
   "metadata": {},
   "outputs": [
    {
     "data": {
      "text/plain": [
       "True"
      ]
     },
     "execution_count": 32,
     "metadata": {},
     "output_type": "execute_result"
    }
   ],
   "source": [
    "stop0.isEmpty()"
   ]
  },
  {
   "cell_type": "code",
   "execution_count": 33,
   "metadata": {},
   "outputs": [],
   "source": [
    "stop0.push('FIRST')\n",
    "stop0.push('SECOND')\n",
    "stop0.push('THRID')"
   ]
  },
  {
   "cell_type": "code",
   "execution_count": 34,
   "metadata": {},
   "outputs": [
    {
     "name": "stdout",
     "output_type": "stream",
     "text": [
      "THRID\n"
     ]
    }
   ],
   "source": [
    "# get the recent item inserted\n",
    "print(stop0.peek())"
   ]
  },
  {
   "cell_type": "markdown",
   "metadata": {},
   "source": [
    "Exercise - 1"
   ]
  },
  {
   "cell_type": "code",
   "execution_count": 37,
   "metadata": {},
   "outputs": [
    {
     "data": {
      "text/plain": [
       "'z'"
      ]
     },
     "execution_count": 37,
     "metadata": {},
     "output_type": "execute_result"
    }
   ],
   "source": [
    "m = StackTopn()\n",
    "m.push('x')\n",
    "m.push('y')\n",
    "m.pop()\n",
    "m.push('z')\n",
    "\n",
    "# top value ?\n",
    "m.peek()"
   ]
  },
  {
   "cell_type": "markdown",
   "metadata": {},
   "source": [
    "Exercise - 2"
   ]
  },
  {
   "cell_type": "code",
   "execution_count": 38,
   "metadata": {},
   "outputs": [
    {
     "ename": "IndexError",
     "evalue": "list index out of range",
     "output_type": "error",
     "traceback": [
      "\u001b[1;31m---------------------------------------------------------------------------\u001b[0m",
      "\u001b[1;31mIndexError\u001b[0m                                Traceback (most recent call last)",
      "Cell \u001b[1;32mIn[38], line 10\u001b[0m\n\u001b[0;32m      7\u001b[0m     m\u001b[38;5;241m.\u001b[39mpop()\n\u001b[0;32m      9\u001b[0m \u001b[38;5;66;03m# what is the top item in the stack?\u001b[39;00m\n\u001b[1;32m---> 10\u001b[0m m\u001b[38;5;241m.\u001b[39mpeek()\n",
      "Cell \u001b[1;32mIn[30], line 15\u001b[0m, in \u001b[0;36mStackTop0.peek\u001b[1;34m(self)\u001b[0m\n\u001b[0;32m     14\u001b[0m \u001b[38;5;28;01mdef\u001b[39;00m \u001b[38;5;21mpeek\u001b[39m(\u001b[38;5;28mself\u001b[39m):\n\u001b[1;32m---> 15\u001b[0m     \u001b[38;5;28;01mreturn\u001b[39;00m \u001b[38;5;28mself\u001b[39m\u001b[38;5;241m.\u001b[39mitems[\u001b[38;5;241m0\u001b[39m]\n",
      "\u001b[1;31mIndexError\u001b[0m: list index out of range"
     ]
    }
   ],
   "source": [
    "m = StackTop0()\n",
    "m.push('x')\n",
    "m.push('y')\n",
    "m.push('z')\n",
    "\n",
    "while not m.isEmpty():\n",
    "    m.pop()\n",
    "    \n",
    "# what is the top item in the stack?\n",
    "m.peek()"
   ]
  },
  {
   "cell_type": "markdown",
   "metadata": {},
   "source": [
    "Exercise - 3 \n",
    "    Write a function revstring(mystr) that uses a stack to reverse the characters in a string."
   ]
  },
  {
   "cell_type": "code",
   "execution_count": 36,
   "metadata": {},
   "outputs": [
    {
     "data": {
      "text/plain": [
       "['b', 'a', 'n', 'g', 'a', 'l', 'o', 'r', 'e']"
      ]
     },
     "execution_count": 36,
     "metadata": {},
     "output_type": "execute_result"
    }
   ],
   "source": [
    "# Initiate a stack (TOPn)\n",
    "myStack = StackTopn()\n",
    "\n",
    "input_string = 'bangalore'\n",
    "\n",
    "for ch in input_string:\n",
    "    myStack.push(ch)\n",
    "    \n",
    "# print the stack\n",
    "myStack.display_all_items()"
   ]
  },
  {
   "cell_type": "code",
   "execution_count": 39,
   "metadata": {},
   "outputs": [
    {
     "name": "stdout",
     "output_type": "stream",
     "text": [
      "reverse string is :  ['e', 'r', 'o', 'l', 'a', 'g', 'n', 'a', 'b']\n",
      "reverse string is :  erolagnab\n"
     ]
    }
   ],
   "source": [
    "# get the reverse of the string\n",
    "rev_string = []\n",
    "rev_str = ''\n",
    "\n",
    "while not myStack.isEmpty():\n",
    "    pop_ch = myStack.pop()\n",
    "    \n",
    "    rev_string.append(pop_ch)\n",
    "    rev_str = rev_str + pop_ch\n",
    "    \n",
    "print(\"reverse string is : \", rev_string)\n",
    "print(\"reverse string is : \", rev_str)"
   ]
  }
 ],
 "metadata": {
  "kernelspec": {
   "display_name": "base",
   "language": "python",
   "name": "python3"
  },
  "language_info": {
   "codemirror_mode": {
    "name": "ipython",
    "version": 3
   },
   "file_extension": ".py",
   "mimetype": "text/x-python",
   "name": "python",
   "nbconvert_exporter": "python",
   "pygments_lexer": "ipython3",
   "version": "3.12.4"
  }
 },
 "nbformat": 4,
 "nbformat_minor": 2
}
