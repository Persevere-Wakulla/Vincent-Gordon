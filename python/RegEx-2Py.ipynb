{
 "cells": [
  {
   "cell_type": "markdown",
   "metadata": {},
   "source": [
    "\\ - BackSlash\n",
    "\n",
    "    BackSlash is used to escape various charactesr including all metacharacters.\n",
    "\n",
    "    For Example,\n",
    "        - \\$a match if a string contains $ followed by a.\n",
    "\n",
    "    Here, $ is not interpreted by a RegEx engine in a special way\n",
    "    "
   ]
  },
  {
   "cell_type": "markdown",
   "metadata": {},
   "source": [
    "Special Sequences\n",
    "\n",
    "    Special sequences make commonly used patterns easier to write."
   ]
  },
  {
   "cell_type": "markdown",
   "metadata": {},
   "source": [
    "\\A - Matches if the specified characters are at the start of a string.\n",
    "\n",
    "Image example is in the folder."
   ]
  },
  {
   "cell_type": "code",
   "execution_count": 1,
   "metadata": {},
   "outputs": [],
   "source": [
    "import re"
   ]
  },
  {
   "cell_type": "code",
   "execution_count": 2,
   "metadata": {},
   "outputs": [
    {
     "name": "stdout",
     "output_type": "stream",
     "text": [
      "['the']\n",
      "[]\n"
     ]
    }
   ],
   "source": [
    "print(re.findall(r'\\Athe','the telegraph'))\n",
    "print(re.findall(r'\\Athe','In the sun'))"
   ]
  },
  {
   "cell_type": "markdown",
   "metadata": {},
   "source": [
    "\\b - Matches if the specified characters are at the beginning or end of a word.\n",
    "\n",
    "Image example in folder"
   ]
  },
  {
   "cell_type": "code",
   "execution_count": 3,
   "metadata": {},
   "outputs": [
    {
     "name": "stdout",
     "output_type": "stream",
     "text": [
      "['foo']\n",
      "['foo']\n",
      "[]\n",
      "['foo']\n",
      "['foo']\n",
      "[]\n"
     ]
    }
   ],
   "source": [
    "print(re.findall(r'\\bfoo', 'football'))\n",
    "print(re.findall(r'\\bfoo', 'a football'))\n",
    "print(re.findall(r'\\bfoo', 'afootball'))\n",
    "\n",
    "print(re.findall(r'foo\\b','the foo'))\n",
    "print(re.findall(r'foo\\b','the afoo test'))\n",
    "print(re.findall(r'foo\\b','theafootest'))"
   ]
  },
  {
   "cell_type": "markdown",
   "metadata": {},
   "source": [
    "\\B - Opposite of \\b.\n",
    "\n",
    "Matches if the specified characters are not at the beginning or end of a word.\n",
    "\n",
    "Image example in folder"
   ]
  },
  {
   "cell_type": "code",
   "execution_count": 4,
   "metadata": {},
   "outputs": [
    {
     "name": "stdout",
     "output_type": "stream",
     "text": [
      "[]\n",
      "[]\n",
      "['foo']\n",
      "[]\n",
      "[]\n",
      "['foo']\n"
     ]
    }
   ],
   "source": [
    "print(re.findall(r'\\Bfoo', 'football'))\n",
    "print(re.findall(r'\\Bfoo', 'a football'))\n",
    "print(re.findall(r'\\Bfoo', 'afootball'))\n",
    "\n",
    "print(re.findall(r'foo\\B','the foo'))\n",
    "print(re.findall(r'foo\\B','the afoo test'))\n",
    "print(re.findall(r'foo\\B','theafootest'))"
   ]
  },
  {
   "cell_type": "markdown",
   "metadata": {},
   "source": [
    "\\d - Matches any decimal digit. Equivalent to [0-9]   \n",
    "\n",
    "Image example in folder"
   ]
  },
  {
   "cell_type": "code",
   "execution_count": 5,
   "metadata": {},
   "outputs": [
    {
     "name": "stdout",
     "output_type": "stream",
     "text": [
      "['1', '7', '6']\n",
      "[]\n"
     ]
    }
   ],
   "source": [
    "print(re.findall(r'\\d','17abc6'))\n",
    "print(re.findall(r'\\d','Python Data Science'))"
   ]
  },
  {
   "cell_type": "code",
   "execution_count": 6,
   "metadata": {},
   "outputs": [
    {
     "name": "stdout",
     "output_type": "stream",
     "text": [
      "<re.Match object; span=(0, 9), match='foofoobar'>\n",
      "<re.Match object; span=(0, 12), match='foofoobar123'>\n",
      "<re.Match object; span=(0, 9), match='foofoo123'>\n"
     ]
    },
    {
     "name": "stderr",
     "output_type": "stream",
     "text": [
      "<>:1: SyntaxWarning: invalid escape sequence '\\d'\n",
      "<>:2: SyntaxWarning: invalid escape sequence '\\d'\n",
      "<>:3: SyntaxWarning: invalid escape sequence '\\d'\n",
      "<>:1: SyntaxWarning: invalid escape sequence '\\d'\n",
      "<>:2: SyntaxWarning: invalid escape sequence '\\d'\n",
      "<>:3: SyntaxWarning: invalid escape sequence '\\d'\n",
      "C:\\Users\\PCC-03\\AppData\\Local\\Temp\\ipykernel_2812\\4047419235.py:1: SyntaxWarning: invalid escape sequence '\\d'\n",
      "  print(re.search('(foo(bar)?)+(\\d\\d\\d)?','foofoobar'))\n",
      "C:\\Users\\PCC-03\\AppData\\Local\\Temp\\ipykernel_2812\\4047419235.py:2: SyntaxWarning: invalid escape sequence '\\d'\n",
      "  print(re.search('(foo(bar)?)+(\\d\\d\\d)?','foofoobar123'))\n",
      "C:\\Users\\PCC-03\\AppData\\Local\\Temp\\ipykernel_2812\\4047419235.py:3: SyntaxWarning: invalid escape sequence '\\d'\n",
      "  print(re.search('(foo(bar)?)+(\\d\\d\\d)?','foofoo123'))\n"
     ]
    }
   ],
   "source": [
    "print(re.search('(foo(bar)?)+(\\d\\d\\d)?','foofoobar'))\n",
    "print(re.search('(foo(bar)?)+(\\d\\d\\d)?','foofoobar123'))\n",
    "print(re.search('(foo(bar)?)+(\\d\\d\\d)?','foofoo123'))"
   ]
  },
  {
   "cell_type": "markdown",
   "metadata": {},
   "source": [
    "at least one occurence of 'foo' optionally followed by 'bar', all optionally followed by 3 decimal digit characters."
   ]
  },
  {
   "cell_type": "markdown",
   "metadata": {},
   "source": [
    "\\D - Matches any non-decimal digit. Equivalent to [^0-9]\n",
    "\n",
    "    Image example in folder"
   ]
  },
  {
   "cell_type": "code",
   "execution_count": 7,
   "metadata": {},
   "outputs": [
    {
     "name": "stdout",
     "output_type": "stream",
     "text": [
      "['a', 'b', '\"']\n",
      "[]\n"
     ]
    }
   ],
   "source": [
    "print(re.findall(r'\\D','1ab34\"50'))\n",
    "print(re.findall(r'\\D','1234'))"
   ]
  },
  {
   "cell_type": "markdown",
   "metadata": {},
   "source": [
    "\\s - Matches where a string contains any whitespace character.\n",
    "\n",
    "    Equivalent to searching for any of these whitespace characters [\\t\\n\\r\\f\\v]\n",
    "\n",
    "Image example in folder"
   ]
  },
  {
   "cell_type": "code",
   "execution_count": 8,
   "metadata": {},
   "outputs": [
    {
     "name": "stdout",
     "output_type": "stream",
     "text": [
      "[' ']\n",
      "[]\n"
     ]
    }
   ],
   "source": [
    "print(re.findall(r'\\s','Python RegEx'))\n",
    "print(re.findall(r'\\s','PythonRegEx'))"
   ]
  },
  {
   "cell_type": "markdown",
   "metadata": {},
   "source": [
    "\\S - Matches where a string contains any non-whitespace character.\n",
    "\n",
    "Equivalent to [^\\t\\n\\r\\f\\v]\n",
    "\n",
    "Image example in folder"
   ]
  },
  {
   "cell_type": "code",
   "execution_count": 9,
   "metadata": {},
   "outputs": [
    {
     "name": "stdout",
     "output_type": "stream",
     "text": [
      "['a', 'b', 'c']\n",
      "[]\n"
     ]
    }
   ],
   "source": [
    "print(re.findall(r'\\S','a b c'))\n",
    "print(re.findall(r'\\S',''))"
   ]
  },
  {
   "cell_type": "markdown",
   "metadata": {},
   "source": [
    "\\w - Matches any alphanumeric character (digits and alphabets).\n",
    "\n",
    "Equivalent to [a-zA-Z0-9_]. By the way,underscore_ is also considered an alphanumeric character.\n",
    "\n",
    "Image example in folder"
   ]
  },
  {
   "cell_type": "code",
   "execution_count": 10,
   "metadata": {},
   "outputs": [
    {
     "name": "stdout",
     "output_type": "stream",
     "text": [
      "['1', '2', 'c']\n",
      "[]\n"
     ]
    }
   ],
   "source": [
    "print(re.findall(r'\\w','12&\":;c\"'))\n",
    "print(re.findall(r'\\w','%\">!'))"
   ]
  },
  {
   "cell_type": "markdown",
   "metadata": {},
   "source": [
    "\\W - Matches any non-alphanumeric character. Equivalent to [^a-zA-Z0-9_]\n",
    "\n",
    "Image example in folder"
   ]
  },
  {
   "cell_type": "code",
   "execution_count": 11,
   "metadata": {},
   "outputs": [
    {
     "name": "stdout",
     "output_type": "stream",
     "text": [
      "['&', '\"', ':', ';', '\"']\n",
      "['&', '#', '&', '#', '&', '#', '&', '&', '#', '&', '#', '&']\n",
      "['%']\n",
      "[]\n"
     ]
    }
   ],
   "source": [
    "print(re.findall(r'\\W','12&\":;c\"'))\n",
    "print(re.findall(r'\\W','&#&#&#&&#&#&'))\n",
    "\n",
    "print(re.findall(r'\\W','1a2%c'))\n",
    "print(re.findall(r'\\W','Python'))"
   ]
  },
  {
   "cell_type": "markdown",
   "metadata": {},
   "source": [
    "\\Z - Matches if the specified characters are at the end of a string.\n",
    "\n",
    "Image example in folder"
   ]
  },
  {
   "cell_type": "code",
   "execution_count": 15,
   "metadata": {},
   "outputs": [
    {
     "name": "stdout",
     "output_type": "stream",
     "text": [
      "['Python']\n",
      "['Python']\n",
      "[]\n",
      "[]\n"
     ]
    }
   ],
   "source": [
    "print(re.findall(r'Python\\Z','I like Python'))\n",
    "print(re.findall(r'Python\\Z','I like programming in Python'))\n",
    "print(re.findall(r'Python\\Z','I like Python Programming'))\n",
    "print(re.findall(r'Python\\Z','Python is fun'))"
   ]
  }
 ],
 "metadata": {
  "kernelspec": {
   "display_name": "base",
   "language": "python",
   "name": "python3"
  },
  "language_info": {
   "codemirror_mode": {
    "name": "ipython",
    "version": 3
   },
   "file_extension": ".py",
   "mimetype": "text/x-python",
   "name": "python",
   "nbconvert_exporter": "python",
   "pygments_lexer": "ipython3",
   "version": "3.12.4"
  }
 },
 "nbformat": 4,
 "nbformat_minor": 2
}
