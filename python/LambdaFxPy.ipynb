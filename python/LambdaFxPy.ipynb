{
 "cells": [
  {
   "cell_type": "markdown",
   "metadata": {},
   "source": [
    "Lambda Function:\n",
    "\n",
    "    More about lambda functions, but first a little bit about Python sorted() function\n",
    "\n",
    "        The sorted() function sorts the elements of a given iterable in a specific order (either ascending or descending) and returns the sorted iterable as a list.\n",
    "\n",
    "    The syntax of the sorted() function is:\n",
    "\n",
    "        sorted(iterable, key = None, reverse = False)\n",
    "    \n",
    "    Parameters for the sorted() function\n",
    "\n",
    "        sorted() can take a maximum of 3 parameters:\n",
    "\n",
    "            Iterable - A sequence (string, tuple,list) or collection (set, dictionary,frozen set) or any other iterator.\n",
    "\n",
    "            Reverse - (Optional) - If True, the sorted list is reversed (or sorted in descending order). Defaults to false if not provided.\n",
    "\n",
    "            Key - (Optional) - A Function that serves as a key for the sort comparison. Defaults to None."
   ]
  },
  {
   "cell_type": "code",
   "execution_count": 1,
   "metadata": {},
   "outputs": [
    {
     "name": "stdout",
     "output_type": "stream",
     "text": [
      "4\n"
     ]
    }
   ],
   "source": [
    "x = lambda a,b: a + b\n",
    "print(x(1,3))"
   ]
  },
  {
   "cell_type": "code",
   "execution_count": 2,
   "metadata": {},
   "outputs": [
    {
     "name": "stdout",
     "output_type": "stream",
     "text": [
      "48\n"
     ]
    }
   ],
   "source": [
    "x = lambda a,b,c: a * b * c\n",
    "print(x(2,4,6))"
   ]
  },
  {
   "cell_type": "code",
   "execution_count": 3,
   "metadata": {},
   "outputs": [
    {
     "name": "stdout",
     "output_type": "stream",
     "text": [
      "48\n"
     ]
    }
   ],
   "source": [
    "def x(a,b,c):\n",
    "    return (a*b*c)\n",
    "print(x(2,4,6))"
   ]
  },
  {
   "cell_type": "markdown",
   "metadata": {},
   "source": [
    "Example 1: Sort string ,list and tuple."
   ]
  },
  {
   "cell_type": "code",
   "execution_count": 4,
   "metadata": {},
   "outputs": [
    {
     "name": "stdout",
     "output_type": "stream",
     "text": [
      "['a', 'e', 'i', 'o', 'u']\n",
      "['P', 'h', 'n', 'o', 't', 'y']\n",
      "['a', 'e', 'i', 'o', 'u']\n"
     ]
    }
   ],
   "source": [
    "# Vowels List\n",
    "py_list = ['e','a','u','o','i']\n",
    "print(sorted(py_list))\n",
    "\n",
    "# String\n",
    "py_string = \"Python\"\n",
    "print(sorted(py_string))\n",
    "\n",
    "# Vowels Tuple\n",
    "py_tuple = ('e','a','u','o','i')\n",
    "print(sorted(py_tuple))"
   ]
  },
  {
   "cell_type": "markdown",
   "metadata": {},
   "source": [
    "In all cases above a sorted list is returned:"
   ]
  },
  {
   "cell_type": "markdown",
   "metadata": {},
   "source": [
    "Example 2: Sort in descending order:\n",
    "\n",
    "    The sorted() function accepts a reverse parameter as an optional argument.\n",
    "\n",
    "    Setting reverse = True sorts the iterable in the descending order.\n",
    "\n",
    "In the the examples below the list is returned reversed or in descending order."
   ]
  },
  {
   "cell_type": "code",
   "execution_count": 5,
   "metadata": {},
   "outputs": [
    {
     "name": "stdout",
     "output_type": "stream",
     "text": [
      "['u', 'o', 'i', 'e', 'a']\n",
      "['u', 'o', 'i', 'e', 'a']\n"
     ]
    }
   ],
   "source": [
    "# Set\n",
    "py_set = {'e','a','u','o','i'}\n",
    "print(sorted(py_set,reverse=True))\n",
    "\n",
    "# Dictionary\n",
    "py_dict = {'e':1,'a':2,'u':3,'o':4,'i':5}\n",
    "print(sorted(py_dict,reverse=True))"
   ]
  },
  {
   "cell_type": "markdown",
   "metadata": {},
   "source": [
    "Example 3: Sort the list using sorted() having a key function\n",
    "\n",
    "If you want your own implementation for sorting sorted() also accepts a key function as an optional parameter.\n",
    "\n",
    "Based on the returned value of the key function you can sort the given iterable.\n",
    "\n",
    "    sorted(iterable,key = len)\n",
    "\n",
    "            Here, len() is Python's built-in function to count the length of an object.\n",
    "\n",
    "            The list is sorted based on the length of the element. from the lowest count to the highest."
   ]
  },
  {
   "cell_type": "code",
   "execution_count": 6,
   "metadata": {},
   "outputs": [
    {
     "name": "stdout",
     "output_type": "stream",
     "text": [
      "Sorted list: [(4, 10), (1, 13), (2, 20), (3, 40)]\n"
     ]
    }
   ],
   "source": [
    "# Take the second element for sort\n",
    "def take_second(elem):\n",
    "    return elem[1]\n",
    "# Random List\n",
    "random = [(2,20),(3,40),(4,10),(1,13)]\n",
    "\n",
    "# Sort List with key\n",
    "sorted_list = sorted(random, key = take_second)\n",
    "\n",
    "# Print List\n",
    "print(\"Sorted list:\",sorted_list)"
   ]
  },
  {
   "cell_type": "markdown",
   "metadata": {},
   "source": [
    "Example 4: Sorting with multiple keys:"
   ]
  },
  {
   "cell_type": "code",
   "execution_count": null,
   "metadata": {},
   "outputs": [],
   "source": [
    "# Let us suppose that we have the following List:\n",
    "\n",
    "# Nested list of student's info in a Science Olympiad\n",
    "# List elements: (Student's Name, Marks out of 100, Age )"
   ]
  },
  {
   "cell_type": "code",
   "execution_count": 33,
   "metadata": {},
   "outputs": [],
   "source": [
    "participant_list = [\n",
    "    (\"CrummyGWeed\", 100,30),\n",
    "    (\"RogueDrifter\", 100,35),\n",
    "    (\"xM0NT3C0R3xFurr\",100, 25),\n",
    "    (\"UGOD\", 100,25),\n",
    "    (\"TRANZExGOD\", 100,44),\n",
    "]"
   ]
  },
  {
   "cell_type": "markdown",
   "metadata": {},
   "source": [
    "We want to sort the list in such a way that the student with the highest marks is in the beginning.\n",
    "\n",
    "In case the students have equal marks. they must be sorted so that the younger participant comes first."
   ]
  },
  {
   "cell_type": "code",
   "execution_count": 36,
   "metadata": {},
   "outputs": [],
   "source": [
    "def sorter(item):\n",
    "    # Since highest marks first. least error = most marks\n",
    "    error = 100 - item[1]\n",
    "    age = item[2]\n",
    "    return (error,age)"
   ]
  },
  {
   "cell_type": "code",
   "execution_count": 37,
   "metadata": {},
   "outputs": [
    {
     "name": "stdout",
     "output_type": "stream",
     "text": [
      "CrummyGWeed \t (0, 30)\n",
      "RogueDrifter \t (0, 35)\n",
      "xM0NT3C0R3xFurr \t (0, 25)\n",
      "UGOD \t (0, 258)\n",
      "TRANZExGOD \t (0, 44)\n"
     ]
    }
   ],
   "source": [
    "for each_item in participant_list:\n",
    "    print(each_item[0], \"\\t\", sorter(each_item))"
   ]
  },
  {
   "cell_type": "markdown",
   "metadata": {},
   "source": [
    "Essentially we want the output in the ascending order of error(100 - marks)"
   ]
  },
  {
   "cell_type": "code",
   "execution_count": 38,
   "metadata": {},
   "outputs": [
    {
     "name": "stdout",
     "output_type": "stream",
     "text": [
      "[('xM0NT3C0R3xFurr', 100, 25), ('CrummyGWeed', 100, 30), ('RogueDrifter', 100, 35), ('TRANZExGOD', 100, 44), ('UGOD', 100, 258)]\n"
     ]
    }
   ],
   "source": [
    "sorted_list = sorted(participant_list, key = sorter)\n",
    "print(sorted_list)"
   ]
  },
  {
   "cell_type": "code",
   "execution_count": 39,
   "metadata": {},
   "outputs": [
    {
     "data": {
      "text/plain": [
       "False"
      ]
     },
     "execution_count": 39,
     "metadata": {},
     "output_type": "execute_result"
    }
   ],
   "source": [
    "(10,22) > (25,12)"
   ]
  },
  {
   "cell_type": "markdown",
   "metadata": {},
   "source": [
    "let us take a look at lambda function using sorted function"
   ]
  },
  {
   "cell_type": "code",
   "execution_count": 55,
   "metadata": {},
   "outputs": [],
   "source": [
    "# Initializing list of directories\n",
    "lists=[\n",
    "    {\"name\" : \"Vince\",\"age\":19},\n",
    "    {\"name\" : \"Vinny\",\"age\":20},\n",
    "    {\"name\" : \"Vincent\",\"age\":19},\n",
    "]"
   ]
  },
  {
   "cell_type": "code",
   "execution_count": 56,
   "metadata": {},
   "outputs": [
    {
     "name": "stdout",
     "output_type": "stream",
     "text": [
      "The list printed sorting by age: \n",
      "\n",
      "[{'name': 'Vince', 'age': 19}, {'name': 'Vincent', 'age': 19}, {'name': 'Vinny', 'age': 20}]\n"
     ]
    }
   ],
   "source": [
    "# Using sorted and lambda to print list sorted by age\n",
    "print (\"The list printed sorting by age: \\n\")\n",
    "print (sorted(lists, key= lambda i: i[\"age\"]))"
   ]
  },
  {
   "cell_type": "code",
   "execution_count": 59,
   "metadata": {},
   "outputs": [
    {
     "name": "stdout",
     "output_type": "stream",
     "text": [
      "The list printed sorting by age and name: \n",
      "\n",
      "[{'name': 'Vince', 'age': 19}, {'name': 'Vincent', 'age': 19}, {'name': 'Vinny', 'age': 20}]\n"
     ]
    }
   ],
   "source": [
    "# Using sorted and lambda to print list sorted\n",
    "# by both age and name.\n",
    "print (\"The list printed sorting by age and name: \\n\")\n",
    "print (sorted(lists,key = lambda i: (i['age'],i['name'])))"
   ]
  },
  {
   "cell_type": "code",
   "execution_count": 60,
   "metadata": {},
   "outputs": [
    {
     "name": "stdout",
     "output_type": "stream",
     "text": [
      "The list printed sorting by age in descending order: \n",
      "\n",
      "[{'name': 'Vinny', 'age': 20}, {'name': 'Vince', 'age': 19}, {'name': 'Vincent', 'age': 19}]\n"
     ]
    }
   ],
   "source": [
    "# using sorted and lambda to print list sorted\n",
    "# by age in descending order\n",
    "print (\"The list printed sorting by age in descending order: \\n\")\n",
    "print (sorted(lists, key = lambda i: i[\"age\"], reverse= True))"
   ]
  }
 ],
 "metadata": {
  "kernelspec": {
   "display_name": "base",
   "language": "python",
   "name": "python3"
  },
  "language_info": {
   "codemirror_mode": {
    "name": "ipython",
    "version": 3
   },
   "file_extension": ".py",
   "mimetype": "text/x-python",
   "name": "python",
   "nbconvert_exporter": "python",
   "pygments_lexer": "ipython3",
   "version": "3.12.4"
  }
 },
 "nbformat": 4,
 "nbformat_minor": 2
}
