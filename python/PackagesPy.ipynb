{
 "cells": [
  {
   "cell_type": "markdown",
   "metadata": {},
   "source": [
    "Python Packages:\n",
    "\n",
    "    Suppose you have developed a very large application that includes many modules.\n",
    "\n",
    "    As the number of modules grows, it becomes difficult to keep track of them all if they are dumped into location. This is particularly so if they have similar names or functionality.\n",
    "\n",
    "    You might wish for a means of grouping and organizing them.\n",
    "\n",
    "    Packages allow for a hierarchical structuring of the module namespace using dot notation.\n",
    "\n",
    "    Consider the following arrangement:"
   ]
  },
  {
   "cell_type": "code",
   "execution_count": 3,
   "metadata": {},
   "outputs": [],
   "source": [
    "from IPython.display import Image"
   ]
  },
  {
   "cell_type": "code",
   "execution_count": 4,
   "metadata": {},
   "outputs": [],
   "source": [
    "import sys"
   ]
  },
  {
   "cell_type": "markdown",
   "metadata": {},
   "source": [
    "Python_dir_Model in Images show a directory named pkg that contains 2 modules.\n",
    "\n",
    "        mod1.py\n",
    "        mod2.py\n",
    "\n",
    "    The contents of the modules are:\n",
    "\n",
    "        def foo():\n",
    "            print('[mod1] foo()')\n",
    "        class Foo:\n",
    "            pass\n",
    "\n",
    "    save the above in mod1.py under the 'Pkg' directory in your local folder.\n",
    "\n",
    "\n",
    "        def bar():\n",
    "            print('[mod2] bar()')\n",
    "        class Bar:\n",
    "            pass\n",
    "\n",
    "    save the above in mod2.py under the 'Pkg' directory in your local folder.\n",
    "\n",
    "Given the structure, if the Pkg directory resides in a location where it can be found(in one of the directories contained in sys.path).\n",
    "\n",
    "    We can refer to the two modules with dot notation(Pkg.mod1,Pkg.mod2).\n",
    "\n",
    "    import them with the syntax we're already familiar with."
   ]
  },
  {
   "cell_type": "markdown",
   "metadata": {},
   "source": [
    "Import - Option 1:\n"
   ]
  },
  {
   "cell_type": "code",
   "execution_count": 5,
   "metadata": {},
   "outputs": [],
   "source": [
    "import Pkg.mod1,Pkg.mod2"
   ]
  },
  {
   "cell_type": "code",
   "execution_count": 6,
   "metadata": {},
   "outputs": [
    {
     "name": "stdout",
     "output_type": "stream",
     "text": [
      "[mod1] foo()\n"
     ]
    }
   ],
   "source": [
    "Pkg.mod1.foo()"
   ]
  },
  {
   "cell_type": "code",
   "execution_count": 7,
   "metadata": {},
   "outputs": [
    {
     "name": "stdout",
     "output_type": "stream",
     "text": [
      "[mod2] bar()\n"
     ]
    }
   ],
   "source": [
    "Pkg.mod2.bar()"
   ]
  },
  {
   "cell_type": "markdown",
   "metadata": {},
   "source": [
    "Import - Option 2:\n",
    "\n",
    "    Restart the kernel and do not execute option 1"
   ]
  },
  {
   "cell_type": "code",
   "execution_count": 8,
   "metadata": {},
   "outputs": [
    {
     "data": {
      "text/plain": [
       "<module 'Pkg' (namespace) from ['c:\\\\Users\\\\PCC-03\\\\Desktop\\\\Dev Gordon K31638\\\\Git Labs\\\\python\\\\Pkg', 'c:\\\\Users\\\\PCC-03\\\\Desktop\\\\Dev Gordon K31638\\\\Git Labs\\\\python\\\\Pkg']>"
      ]
     },
     "execution_count": 8,
     "metadata": {},
     "output_type": "execute_result"
    }
   ],
   "source": [
    "import Pkg\n",
    "Pkg"
   ]
  },
  {
   "cell_type": "markdown",
   "metadata": {},
   "source": [
    "But this is of little avail.\n",
    "\n",
    "Though this is, strictly speaking a syntactically correct Python statement, it doesn't do much of anything useful.\n",
    "\n",
    "In particular, it does not place any of the modules in 'Pkg' into the local namespace"
   ]
  },
  {
   "cell_type": "markdown",
   "metadata": {},
   "source": [
    "Importing * From a Package - Option 6"
   ]
  },
  {
   "cell_type": "markdown",
   "metadata": {},
   "source": [
    "Image example 'Model2' in Image directory"
   ]
  },
  {
   "cell_type": "markdown",
   "metadata": {},
   "source": [
    "There are now four modules defined in the 'Pkgs' directory. Their contents are shown below.\n",
    "\n",
    "    # mod111.py\n",
    "        def foo():\n",
    "            print('[mod111] foo()')\n",
    "            \n",
    "        class Foo:\n",
    "            pass\n",
    "\n",
    "    # mod222.py\n",
    "        def bar():\n",
    "            print('[mod2] bar()')\n",
    "\n",
    "        class Bar:\n",
    "            pass\n",
    "\n",
    "    # mod333.py\n",
    "        def baz():\n",
    "            print('[mod333] baz()')\n",
    "\n",
    "        class Baz:\n",
    "            pass \n",
    "\n",
    "    # mod444.py\n",
    "        def qux():\n",
    "            print('[mod444] qux()')\n",
    "\n",
    "        class Qux:\n",
    "            pass           \n",
    "\n",
    "Restart Kernel\n",
    "\n",
    "do not run option  1...5"
   ]
  },
  {
   "cell_type": "code",
   "execution_count": 4,
   "metadata": {},
   "outputs": [],
   "source": [
    "from Pkgs.mod111 import *"
   ]
  },
  {
   "cell_type": "code",
   "execution_count": 5,
   "metadata": {},
   "outputs": [
    {
     "name": "stdout",
     "output_type": "stream",
     "text": [
      "['Baz', 'Foo', 'In', 'Out', '_', '__', '___', '__builtin__', '__builtins__', '__doc__', '__loader__', '__name__', '__package__', '__spec__', '__vsc_ipynb_file__', '_dh', '_i', '_i1', '_i2', '_i3', '_i4', '_i5', '_ih', '_ii', '_iii', '_oh', 'baz', 'exit', 'foo', 'get_ipython', 'open', 'quit']\n"
     ]
    }
   ],
   "source": [
    "print(dir())"
   ]
  }
 ],
 "metadata": {
  "kernelspec": {
   "display_name": "base",
   "language": "python",
   "name": "python3"
  },
  "language_info": {
   "codemirror_mode": {
    "name": "ipython",
    "version": 3
   },
   "file_extension": ".py",
   "mimetype": "text/x-python",
   "name": "python",
   "nbconvert_exporter": "python",
   "pygments_lexer": "ipython3",
   "version": "3.12.4"
  }
 },
 "nbformat": 4,
 "nbformat_minor": 2
}
