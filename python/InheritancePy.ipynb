{
 "cells": [
  {
   "cell_type": "markdown",
   "metadata": {},
   "source": [
    "Inheritance in OOP:\n",
    "\n",
    "        Inheritance models what is called an \"is a relationship\".\n",
    "\n",
    "        This means that when you have a Derived class that inherits from a Base class. you created a relationship where Derived is a specialized version of Base.\n",
    "\n",
    "        Inheritance is represented using the unified Modeling Language or UML in the folowing way:"
   ]
  },
  {
   "cell_type": "markdown",
   "metadata": {},
   "source": [
    "The Cylnder class as a subclass of Circle class:\n",
    "\n",
    "    We shall define a Cylnder class as a subclass of Circle.\n",
    "\n",
    "    The Cylnder class shall inherit attributes radius and get_area() from the superclass Circle, and its own attributes height and get_volume()."
   ]
  },
  {
   "cell_type": "code",
   "execution_count": 18,
   "metadata": {},
   "outputs": [],
   "source": [
    "from math import pi"
   ]
  },
  {
   "cell_type": "code",
   "execution_count": 19,
   "metadata": {},
   "outputs": [],
   "source": [
    "class Circle:\n",
    "    \"\"\"A Circle Instance models a circle with a radius\"\"\"\n",
    "    \n",
    "    shape_object = \"Circle\"\n",
    "    \n",
    "    def __init__ (self,radius = 1.0):\n",
    "        \"\"\"Initializer with default radius of 1.0\"\"\"\n",
    "        self.radius = radius #Create an instance variable radius\n",
    "        \n",
    "        \n",
    "        # Replace .description() with__str__()\n",
    "    def __str__ (self):\n",
    "        \"\"\"Return a descriptive string for this instance, invoked by print() and str()\"\"\"\n",
    "        return 'This is a circle with radius of {:.2f}'.format(self.radius)\n",
    "       \n",
    "    def get_area(self):\n",
    "        \"\"\"Return the area of this Circle Instance\"\"\"\n",
    "        return self.radius * self.radius * pi\n",
    "    "
   ]
  },
  {
   "cell_type": "code",
   "execution_count": 20,
   "metadata": {},
   "outputs": [],
   "source": [
    "class Cylinder(Circle):\n",
    "    \"\"\"The Cylinder class is a subclass of Circle\"\"\"\n",
    "    \n",
    "    def __init__(self,radius = 1.0,height = 1.0):\n",
    "        \"\"\"Initializer\"\"\"\n",
    "        super().__init__(radius) # Invoke superclass' initializer (Python3)\n",
    "        # or \n",
    "        # super(Cylinder,self).__init__(radius) (Python2)\n",
    "        # Circle.__init__(self,radius)      Explicit superclass class\n",
    "        self.height = height\n",
    "    \n",
    "    def __str__(self):\n",
    "        \"\"\"Self Description for print () and str ()\"\"\"\"TypeConversion Numeric DataTYpe.ipynb\"\n",
    "        # If __str__ is missing in the subclass, print () will invoke the superclass version!\n",
    "        \n",
    "        return 'Cylinder(radius ={},height={})'.format(self.radius,self.height)\n",
    "    \n",
    "    def get_volume(self):\n",
    "        \"\"\"Return the volume of the cylinder\"\"\"\n",
    "        return self.get_area() * self.height # Inherited get_area"
   ]
  },
  {
   "cell_type": "code",
   "execution_count": 21,
   "metadata": {},
   "outputs": [],
   "source": [
    "cy1 = Cylinder(1.1,2.2) # Output: Cylinder(radius=1.10,height=2.20)\n"
   ]
  },
  {
   "cell_type": "code",
   "execution_count": 22,
   "metadata": {},
   "outputs": [
    {
     "name": "stdout",
     "output_type": "stream",
     "text": [
      "Cylinder(radius =1.1,height=2.2)\n"
     ]
    }
   ],
   "source": [
    "print(cy1)  # Invoke __str__()"
   ]
  },
  {
   "cell_type": "code",
   "execution_count": 23,
   "metadata": {},
   "outputs": [
    {
     "name": "stdout",
     "output_type": "stream",
     "text": [
      "3.8013271108436504\n"
     ]
    }
   ],
   "source": [
    "print(cy1.get_area()) # Use superclass' method"
   ]
  },
  {
   "cell_type": "code",
   "execution_count": 24,
   "metadata": {},
   "outputs": [
    {
     "name": "stdout",
     "output_type": "stream",
     "text": [
      "8.362919643856031\n"
     ]
    }
   ],
   "source": [
    "print(cy1.get_volume())     # Invoke its method"
   ]
  },
  {
   "cell_type": "code",
   "execution_count": 25,
   "metadata": {},
   "outputs": [
    {
     "name": "stdout",
     "output_type": "stream",
     "text": [
      "1.1\n",
      "2.2\n"
     ]
    }
   ],
   "source": [
    "print(cy1.radius)\n",
    "print(cy1.height)"
   ]
  },
  {
   "cell_type": "code",
   "execution_count": 26,
   "metadata": {},
   "outputs": [
    {
     "name": "stdout",
     "output_type": "stream",
     "text": [
      "Cylinder(radius =1.0,height=1.0)\n",
      "3.141592653589793\n",
      "3.141592653589793\n"
     ]
    }
   ],
   "source": [
    "cy2 = Cylinder()  # Default radius and height\n",
    "print(cy2)         # output: Cylinder(radius =1.0,height=1.0)\n",
    "print(cy2.get_area())\n",
    "print(cy2.get_volume())"
   ]
  },
  {
   "cell_type": "code",
   "execution_count": 27,
   "metadata": {},
   "outputs": [
    {
     "name": "stdout",
     "output_type": "stream",
     "text": [
      "['__class__', '__delattr__', '__dict__', '__dir__', '__doc__', '__eq__', '__format__', '__ge__', '__getattribute__', '__getstate__', '__gt__', '__hash__', '__init__', '__init_subclass__', '__le__', '__lt__', '__module__', '__ne__', '__new__', '__reduce__', '__reduce_ex__', '__repr__', '__setattr__', '__sizeof__', '__str__', '__subclasshook__', '__weakref__', 'get_area', 'get_volume', 'height', 'radius', 'shape_object']\n"
     ]
    }
   ],
   "source": [
    "print(dir(cy1)) \n",
    "# ['get_area','get_volume','height','radius'...]"
   ]
  },
  {
   "cell_type": "code",
   "execution_count": 28,
   "metadata": {},
   "outputs": [
    {
     "name": "stdout",
     "output_type": "stream",
     "text": [
      "<function Circle.get_area at 0x00000149CAF2D1C0>\n"
     ]
    }
   ],
   "source": [
    "print(Cylinder.get_area)"
   ]
  },
  {
   "cell_type": "code",
   "execution_count": 29,
   "metadata": {},
   "outputs": [
    {
     "name": "stdout",
     "output_type": "stream",
     "text": [
      "This is a circle with radius of 3.30\n",
      "True\n",
      "False\n"
     ]
    }
   ],
   "source": [
    "c1= Circle(3.3)\n",
    "print(c1)\n",
    "\n",
    "print(isinstance(c1,Circle))    # True\n",
    "print(isinstance(c1,Cylinder))  # False     (A superclass object is Not a subclass object)"
   ]
  },
  {
   "cell_type": "markdown",
   "metadata": {},
   "source": [
    "Types of inheritance in Python:\n",
    "\n",
    "        There are 5 types of inheritance in Python      \n",
    "                Single inheritance\n",
    "                Multiple inheritance\n",
    "                Multilevel inheritance\n",
    "                Heirarchical inheritance\n",
    "                Hybrid inheritance"
   ]
  },
  {
   "cell_type": "markdown",
   "metadata": {},
   "source": [
    "1. Single inheritance:\n",
    "\n",
    "    Only 1 base class and 1 derived class is called Single inheritance."
   ]
  },
  {
   "cell_type": "code",
   "execution_count": 30,
   "metadata": {},
   "outputs": [
    {
     "name": "stdout",
     "output_type": "stream",
     "text": [
      "This is India\n",
      "This is State\n"
     ]
    }
   ],
   "source": [
    "class Country:\n",
    "    def ShowCountry(self):\n",
    "        print(\"This is India\")\n",
    "        \n",
    "class State(Country):\n",
    "    def ShowState(self):\n",
    "        print(\"This is State\")\n",
    "        \n",
    "st = State()\n",
    "st.ShowCountry()\n",
    "st.ShowState()"
   ]
  },
  {
   "cell_type": "markdown",
   "metadata": {},
   "source": [
    "2. Multiple inheritance:\n",
    "\n",
    "    When a derived class contains more than 1 base class it's called Multiple inheritance."
   ]
  },
  {
   "cell_type": "code",
   "execution_count": 31,
   "metadata": {},
   "outputs": [
    {
     "name": "stdout",
     "output_type": "stream",
     "text": [
      "Studdent No : 60\n",
      "Student Name : Lucky\n",
      "Mark1 : 60\n",
      "Mark2 : 100\n",
      "Total : 160\n"
     ]
    }
   ],
   "source": [
    "class Student:\n",
    "    def method1(self,sno,sname):\n",
    "        self.sno=sno\n",
    "        self.sname= sname\n",
    "        \n",
    "    def method2(self):\n",
    "        print(\"Studdent No :\" ,self.sno)\n",
    "        print(\"Student Name :\",self.sname)\n",
    "        \n",
    "class Marks:\n",
    "    def setmarks(self,m1,m2):\n",
    "        self.mark1 = m1\n",
    "        self.mark2 = m2\n",
    "        \n",
    "    def putmarks(self):\n",
    "        print(\"Mark1 :\",self.mark1)\n",
    "        print(\"Mark2 :\",self.mark2)\n",
    "        \n",
    "class Result(Marks,Student):    # multiple inheritance\n",
    "    def calc(self):\n",
    "        self.total = self.mark1 + self.mark2\n",
    "        \n",
    "    def puttotal(self):\n",
    "        print(\"Total :\" ,self.total)\n",
    "        \n",
    "r = Result()\n",
    "r.method1(60,\"Lucky\")\n",
    "r.setmarks(60,100)\n",
    "r.calc()\n",
    "r.method2()\n",
    "r.putmarks()\n",
    "r.puttotal()"
   ]
  },
  {
   "cell_type": "markdown",
   "metadata": {},
   "source": [
    "3. MultiLevel inheritance:\n",
    "\n",
    "        A derived class derived from base class which is again derived from class.\n",
    "\n",
    "        A->B->C->D->E"
   ]
  },
  {
   "cell_type": "code",
   "execution_count": 32,
   "metadata": {},
   "outputs": [
    {
     "name": "stdout",
     "output_type": "stream",
     "text": [
      "Student No : 55\n",
      "Student Name : xM0NT3C0R3x\n",
      "Mark1 :  30\n",
      "Mark2 : 20\n",
      "Total : 50\n"
     ]
    }
   ],
   "source": [
    "class Student:\n",
    "    def setStud(self,sno,sname):\n",
    "        self.sno = sno\n",
    "        self.sname = sname\n",
    "    \n",
    "    def putStud(self):\n",
    "        print(\"Student No :\" , self.sno)\n",
    "        print(\"Student Name :\",self.sname)\n",
    "        \n",
    "class Marks(Student):\n",
    "    def setMarks(self,m1,m2):\n",
    "        self.mark1 = m1\n",
    "        self.mark2 = m2\n",
    "        \n",
    "    def putMarks(self):\n",
    "        print(\"Mark1 : \",self.mark1)\n",
    "        print(\"Mark2 :\", self.mark2)\n",
    "        \n",
    "class Result(Marks):\n",
    "    def calc(self):\n",
    "        self.total = self.mark1 + self.mark2\n",
    "        \n",
    "    def putTotal(self):\n",
    "        print(\"Total :\", self.total)\n",
    "        \n",
    "r = Result()\n",
    "r.setStud(55,'xM0NT3C0R3x')\n",
    "r.setMarks(30,20)\n",
    "r.calc()\n",
    "r.putStud()\n",
    "r.putMarks()\n",
    "r.putTotal()\n"
   ]
  },
  {
   "cell_type": "markdown",
   "metadata": {},
   "source": [
    "4. Hierarchial inheritance:\n",
    "\n",
    "    A one base class contains more than one derived class.\n",
    "\n",
    "father -> child1 and child2"
   ]
  },
  {
   "cell_type": "code",
   "execution_count": 33,
   "metadata": {},
   "outputs": [
    {
     "name": "stdout",
     "output_type": "stream",
     "text": [
      "This is the method in class one\n",
      "Value of X =  1000\n",
      "Value of Y =  2000\n",
      "This is the method in class one\n",
      "Value of X =  1000\n",
      "Value of Y =  2000\n",
      "This is the method in class two\n",
      "X + Y = 3000\n",
      "This method is in class three\n",
      "X * Y = 2000000\n"
     ]
    }
   ],
   "source": [
    "class One:\n",
    "    def display(self):\n",
    "        self.x = 1000\n",
    "        self.y = 2000\n",
    "        print(\"This is the method in class one\")\n",
    "        print(\"Value of X = \", self.x)\n",
    "        print(\"Value of Y = \", self.y)\n",
    "class Two(One):\n",
    "    def add(self):\n",
    "        print(\"This is the method in class two\")\n",
    "        print(\"X + Y =\",(self.x + self.y))\n",
    "\n",
    "class Three(One):\n",
    "    def mul(self):\n",
    "        print(\"This method is in class three\")\n",
    "        print(\"X * Y =\",(self.x * self.y))\n",
    "        \n",
    "t1 = Two()\n",
    "t2 = Three()\n",
    "\n",
    "t1.display()\n",
    "t2.display()\n",
    "t1.add()\n",
    "t2.mul()\n",
    "        "
   ]
  },
  {
   "cell_type": "markdown",
   "metadata": {},
   "source": [
    "5. Hybrid Inheritance\n",
    "\n",
    "        Combination of multiple + multilevel inheritance."
   ]
  },
  {
   "cell_type": "code",
   "execution_count": 34,
   "metadata": {},
   "outputs": [
    {
     "name": "stdout",
     "output_type": "stream",
     "text": [
      "Student No : 90\n",
      "Student Name : Akms 47\n",
      "Mark1 :  100\n",
      "Mark2 :  80\n",
      "Practical mark = 200\n",
      "Total : 380\n"
     ]
    }
   ],
   "source": [
    "class Student:\n",
    "    def setStud(self,sno,sname):\n",
    "        self.sno = sno\n",
    "        self.sname = sname\n",
    "        \n",
    "    def putStud(self):\n",
    "        print(\"Student No :\", self.sno)\n",
    "        print(\"Student Name :\",self.sname)\n",
    "        \n",
    "class Marks(Student):\n",
    "    def setMarks(self,m1,m2):\n",
    "        self.mark1 = m1\n",
    "        self.mark2 = m2\n",
    "        \n",
    "    def putMarks(self):\n",
    "        print(\"Mark1 : \", self.mark1)\n",
    "        print(\"Mark2 : \", self.mark2)\n",
    "        \n",
    "class Practical:\n",
    "    def getPractical(self,p1):\n",
    "        self.p1 = p1\n",
    "    def putPractical(self):\n",
    "        print(\"Practical mark =\", self.p1)\n",
    "        \n",
    "class Result(Marks,Practical):\n",
    "    def calc(self):\n",
    "        self.total = self.mark1 + self.mark2 + self.p1\n",
    "        \n",
    "    def putTotal(self):\n",
    "        print(\"Total :\", self.total)\n",
    "        \n",
    "r = Result()\n",
    "\n",
    "r.setStud(90,\"Akms 47\")\n",
    "r.setMarks(100,80)\n",
    "r.getPractical(200)\n",
    "r.calc()\n",
    "r.putStud()\n",
    "r.putMarks()\n",
    "r.putPractical()\n",
    "r.putTotal()\n",
    "        "
   ]
  }
 ],
 "metadata": {
  "kernelspec": {
   "display_name": "base",
   "language": "python",
   "name": "python3"
  },
  "language_info": {
   "codemirror_mode": {
    "name": "ipython",
    "version": 3
   },
   "file_extension": ".py",
   "mimetype": "text/x-python",
   "name": "python",
   "nbconvert_exporter": "python",
   "pygments_lexer": "ipython3",
   "version": "3.12.4"
  }
 },
 "nbformat": 4,
 "nbformat_minor": 2
}
