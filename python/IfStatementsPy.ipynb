{
 "cells": [
  {
   "cell_type": "code",
   "execution_count": null,
   "metadata": {},
   "outputs": [
    {
     "name": "stdout",
     "output_type": "stream",
     "text": [
      "X is smaller than five!\n"
     ]
    }
   ],
   "source": [
    "x = 5\n",
    "\n",
    "if x > 5:\n",
    "    print('X is larger than five!')\n",
    "else:\n",
    "    print('X is smaller than five!')\n",
    "       "
   ]
  },
  {
   "cell_type": "code",
   "execution_count": null,
   "metadata": {},
   "outputs": [
    {
     "name": "stdout",
     "output_type": "stream",
     "text": [
      "Hey , X is exactly five\n"
     ]
    }
   ],
   "source": [
    "x = 5 \n",
    "\n",
    "if x == 5:\n",
    "    print ('Hey , X is exactly five')\n",
    "elif x > 5:\n",
    "    print (\"X is now more than Five!\")\n",
    "else:\n",
    "    print (\"X is now LESS than Five!\")\n",
    "    "
   ]
  },
  {
   "cell_type": "code",
   "execution_count": 9,
   "metadata": {},
   "outputs": [
    {
     "name": "stdout",
     "output_type": "stream",
     "text": [
      "I will buy 5 dozen\n"
     ]
    }
   ],
   "source": [
    "orange_quality = 'fresh'\n",
    "orange_price = 4.0\n",
    "\n",
    "if orange_quality == 'fresh':\n",
    "    if orange_price < 5:\n",
    "        print (\"I will buy 5 dozen\")\n",
    "    else:\n",
    "        print (\"I will buy 2 dozen\")\n",
    "else:\n",
    "        print (\"I will not buy any oranges\")"
   ]
  },
  {
   "cell_type": "code",
   "execution_count": 12,
   "metadata": {},
   "outputs": [
    {
     "name": "stdout",
     "output_type": "stream",
     "text": [
      "Please enter a number between 1 and 20\n",
      "You've entered an invalid number\n"
     ]
    }
   ],
   "source": [
    "print (\"Please enter a number between 1 and 20\")\n",
    "\n",
    "enter_num = int(input(\"> \"))  # int() added ensure input is treated as a number, not a string\n",
    "\n",
    "if enter_num >= 1 and enter_num <= 20: # conditional statement that ensures limit is betweeen 1 and 20\n",
    "    print (\"You have entered a valid number\")\n",
    "    \n",
    "    if enter_num % 2 == 0: # test for even/odd\n",
    "        print (\"Your number is even\")\n",
    "        \n",
    "    elif enter_num % 2 == 1: # test for even/odd\n",
    "        print (\"Your number is odd\")\n",
    "        \n",
    "else: \n",
    "    print (\"You've entered an invalid number\")"
   ]
  }
 ],
 "metadata": {
  "kernelspec": {
   "display_name": "base",
   "language": "python",
   "name": "python3"
  },
  "language_info": {
   "codemirror_mode": {
    "name": "ipython",
    "version": 3
   },
   "file_extension": ".py",
   "mimetype": "text/x-python",
   "name": "python",
   "nbconvert_exporter": "python",
   "pygments_lexer": "ipython3",
   "version": "3.12.4"
  }
 },
 "nbformat": 4,
 "nbformat_minor": 2
}
