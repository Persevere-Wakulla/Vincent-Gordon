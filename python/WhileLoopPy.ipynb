{
 "cells": [
  {
   "cell_type": "markdown",
   "metadata": {},
   "source": [
    "While Loop - Indefinite Iterations\n",
    "\n",
    "        Iteration  means executing the same block of code over and over, potentially many times. A programming structure that implements iteration called a loop.\n",
    "\n",
    "        in programming there are two types of iterations indefinite and definite:\n",
    "\n",
    "        Indefinite iterations\n",
    "        Definite iterations\n",
    "\n",
    "        Below is an example of basic While Loop Syntax:\n",
    "\n",
    "        While <expression>:\n",
    "            <statements(s)>\n",
    "\n",
    "        <statement(s)> represents the block to be repeatedly executed, often referred to as the body of the loop. This is denoted with indentation just as in an if statement. The controlling expression <expression>, typically involves one or more variables that are initialized prior to starting the loop and then modified somewhere in the loop body.\n",
    "\n",
    "        When a while loop is encountered it's first evaluated in Boolean Context. If it is true the loop body is executed. Then its checked again and if its still true the body is executed again. This continues until it becomes false, at which point program execution proceeds to the first statement beyond the loop body."
   ]
  },
  {
   "cell_type": "code",
   "execution_count": 1,
   "metadata": {},
   "outputs": [
    {
     "name": "stdout",
     "output_type": "stream",
     "text": [
      "value of n is 0\n",
      "value of n is 1\n",
      "value of n is 2\n",
      "value of n is 3\n",
      "value of n is 4\n",
      "value of n is 5\n"
     ]
    }
   ],
   "source": [
    "n = 0 \n",
    "\n",
    "while n <= 5:\n",
    "    print (\"value of n is\", n )\n",
    "    n +=1"
   ]
  },
  {
   "cell_type": "code",
   "execution_count": 3,
   "metadata": {},
   "outputs": [
    {
     "name": "stdout",
     "output_type": "stream",
     "text": [
      "this is iteration number: 1\n",
      "[1, 2, 3, 4, 5]\n",
      "this is iteration number: 2\n",
      "[1, 2, 3, 4]\n",
      "this is iteration number: 3\n",
      "[1, 2, 3]\n",
      "this is iteration number: 4\n",
      "[1, 2]\n",
      "this is iteration number: 5\n",
      "[1]\n"
     ]
    }
   ],
   "source": [
    "a = [1,2,3,4,5]\n",
    "x = 1\n",
    "\n",
    "while a: \n",
    "    print (\"this is iteration number:\",x)\n",
    "    x += 1\n",
    "    print(a)\n",
    "    a.pop()"
   ]
  },
  {
   "cell_type": "markdown",
   "metadata": {},
   "source": [
    "Nested While Loops \n",
    "        While loops can have other control structure such as if statements or other while loops nested under them"
   ]
  },
  {
   "cell_type": "code",
   "execution_count": 4,
   "metadata": {},
   "outputs": [
    {
     "name": "stdout",
     "output_type": "stream",
     "text": [
      "> 1\n",
      ">>> first\n",
      ">>> second\n",
      "> 2\n",
      ">>> first\n",
      ">>> second\n",
      "> 3\n",
      ">>> first\n",
      ">>> second\n",
      "> 4\n",
      ">>> first\n",
      ">>> second\n",
      "> 5\n",
      ">>> first\n",
      ">>> second\n"
     ]
    }
   ],
   "source": [
    "a = [1,2,3,4,5]\n",
    "while a:\n",
    "    print('>',a.pop(0))\n",
    "    b = ['first','second']\n",
    "    while b:\n",
    "        print ('>>>', b.pop(0))"
   ]
  },
  {
   "cell_type": "markdown",
   "metadata": {},
   "source": [
    "Break and Continue Statements\n",
    "\n",
    "                In Each example you have seen so far, the entire body of the while loop is executed on each iteration. Python provides two keywords that terminate a loop iteration prematurely.\n",
    "\n",
    "                        The Pyhton break statement immediatley terminates a loop entirely. Program execution proceeds to the first statement following the loop body\n",
    "\n",
    "                        The Python continue statement immediatley terminates the current loop iteration. Execution jumps to the top of the loop, and the controlling expression is reevaluated to determine whether the loop will execute again or terminate."
   ]
  },
  {
   "cell_type": "code",
   "execution_count": 5,
   "metadata": {},
   "outputs": [
    {
     "name": "stdout",
     "output_type": "stream",
     "text": [
      "Value of n is: 0\n",
      "Value of n is: 1\n"
     ]
    }
   ],
   "source": [
    "n = 0 \n",
    "while n <= 5:\n",
    "    print ('Value of n is:',n)\n",
    "    n += 1\n",
    "    if n == 2:\n",
    "        break\n",
    "    "
   ]
  },
  {
   "cell_type": "code",
   "execution_count": 8,
   "metadata": {},
   "outputs": [
    {
     "name": "stdout",
     "output_type": "stream",
     "text": [
      "Value of n is: 0\n",
      "Hello\n",
      "Value of n is: 1\n",
      "Hello\n",
      "Value of n is: 2\n",
      "Hello\n",
      "Value of n is: 3\n",
      "Hello\n",
      "Value of n is: 4\n",
      "Hello\n",
      "Value of n is: 5\n",
      "Hello\n"
     ]
    }
   ],
   "source": [
    "n = 0 \n",
    "while n <= 5:\n",
    "    print ('Value of n is:',n)\n",
    "    n += 1\n",
    "    print ('Hello')"
   ]
  },
  {
   "cell_type": "code",
   "execution_count": 9,
   "metadata": {},
   "outputs": [
    {
     "name": "stdout",
     "output_type": "stream",
     "text": [
      "Value of n is: 0\n",
      "Hello\n",
      "Value of n is: 1\n",
      "Value of n is: 2\n",
      "Hello\n",
      "Value of n is: 3\n",
      "Hello\n",
      "Value of n is: 4\n",
      "Hello\n",
      "Value of n is: 5\n",
      "Hello\n"
     ]
    }
   ],
   "source": [
    "n = 0 \n",
    "while n <= 5:\n",
    "    print ('Value of n is:',n)\n",
    "    n += 1\n",
    "    if n == 2:\n",
    "        continue\n",
    "    print ('Hello')"
   ]
  }
 ],
 "metadata": {
  "kernelspec": {
   "display_name": "base",
   "language": "python",
   "name": "python3"
  },
  "language_info": {
   "codemirror_mode": {
    "name": "ipython",
    "version": 3
   },
   "file_extension": ".py",
   "mimetype": "text/x-python",
   "name": "python",
   "nbconvert_exporter": "python",
   "pygments_lexer": "ipython3",
   "version": "3.12.4"
  }
 },
 "nbformat": 4,
 "nbformat_minor": 2
}
