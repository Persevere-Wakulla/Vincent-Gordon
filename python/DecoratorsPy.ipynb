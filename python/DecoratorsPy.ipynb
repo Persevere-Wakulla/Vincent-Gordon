{
 "cells": [
  {
   "cell_type": "markdown",
   "metadata": {},
   "source": [
    "Decorators:\n",
    "\n",
    "    In Python, functions are the first class objects.\n",
    "        which means that\n",
    "\n",
    "        Functions\n",
    "            are objects:\n",
    "            they can be referenced to,\n",
    "            passed to a variable and \n",
    "            returned from other functions as well.\n",
    "        \n",
    "        Functions can be defined inside another function and can\n",
    "        also be passed as argument to another function. \n",
    "\n",
    "        Decorators allow programmers to modify the behavior fo function or class.\n",
    "\n",
    "        Decorators allow us to wrap another functionin order to extend the behavior of wrapped function, without permanently modifying it.\n",
    "\n",
    "    Any generic functionality you can 'tack on' to an existing class or function's behavior makes a great use case for decoration.\n",
    "\n",
    "    This includes:\n",
    "\n",
    "        logging\n",
    "        enforcing access control and authentication,\n",
    "        instrumentation and timing functions\n",
    "        rate-limiting\n",
    "        caching and more\n",
    "    First you have to know or remember that function names are references to functions and that we can assign multiple names to the same function:\n",
    "\n",
    "    "
   ]
  },
  {
   "cell_type": "code",
   "execution_count": 23,
   "metadata": {},
   "outputs": [],
   "source": [
    "from IPython.display import Image"
   ]
  },
  {
   "cell_type": "code",
   "execution_count": 24,
   "metadata": {},
   "outputs": [],
   "source": [
    "def success(x):\n",
    "    return x + 1"
   ]
  },
  {
   "cell_type": "code",
   "execution_count": 25,
   "metadata": {},
   "outputs": [
    {
     "data": {
      "text/plain": [
       "11"
      ]
     },
     "execution_count": 25,
     "metadata": {},
     "output_type": "execute_result"
    }
   ],
   "source": [
    "success(10)"
   ]
  },
  {
   "cell_type": "code",
   "execution_count": 26,
   "metadata": {},
   "outputs": [],
   "source": [
    "successor = success"
   ]
  },
  {
   "cell_type": "code",
   "execution_count": 27,
   "metadata": {},
   "outputs": [
    {
     "data": {
      "text/plain": [
       "21"
      ]
     },
     "execution_count": 27,
     "metadata": {},
     "output_type": "execute_result"
    }
   ],
   "source": [
    "successor(20)"
   ]
  },
  {
   "cell_type": "markdown",
   "metadata": {},
   "source": [
    "This means that we have 2 names i.e \"sucess\" and \"successor\" for the same function.\n",
    "\n",
    "The next important fact is that we can delete either \"success\" or \"successor\" without deleting the function itself."
   ]
  },
  {
   "cell_type": "code",
   "execution_count": 28,
   "metadata": {},
   "outputs": [
    {
     "data": {
      "text/plain": [
       "11"
      ]
     },
     "execution_count": 28,
     "metadata": {},
     "output_type": "execute_result"
    }
   ],
   "source": [
    "del success \n",
    "successor(10)"
   ]
  },
  {
   "cell_type": "markdown",
   "metadata": {},
   "source": [
    "Functions inside Functions"
   ]
  },
  {
   "cell_type": "code",
   "execution_count": 30,
   "metadata": {},
   "outputs": [],
   "source": [
    "def f():\n",
    "    \n",
    "    def g():\n",
    "        print(\"Hi, It's me 'g'\")\n",
    "        print(\"Thanks for calling me\")\n",
    "        \n",
    "    print(\"This is function 'f'\")\n",
    "    print(\"I am calling 'g' now:\\n\")\n",
    "    \n",
    "    g()"
   ]
  },
  {
   "cell_type": "code",
   "execution_count": 31,
   "metadata": {},
   "outputs": [
    {
     "name": "stdout",
     "output_type": "stream",
     "text": [
      "This is function 'f'\n",
      "I am calling 'g' now:\n",
      "\n",
      "Hi, It's me 'g'\n",
      "Thanks for calling me\n"
     ]
    }
   ],
   "source": [
    "f()"
   ]
  },
  {
   "cell_type": "markdown",
   "metadata": {},
   "source": [
    "Another example using \"proper\" return statements in the functions:\n",
    "\n"
   ]
  },
  {
   "cell_type": "code",
   "execution_count": 32,
   "metadata": {},
   "outputs": [],
   "source": [
    "def temperature(t):\n",
    "    def celsius2fahrenheit(x):\n",
    "        return 9 * x / 5 + 32\n",
    "    \n",
    "    result = \"It's \" + str(celsius2fahrenheit(t)) + \" degrees!\"\n",
    "    return result"
   ]
  },
  {
   "cell_type": "code",
   "execution_count": 33,
   "metadata": {},
   "outputs": [
    {
     "name": "stdout",
     "output_type": "stream",
     "text": [
      "It's 68.0 degrees!\n"
     ]
    }
   ],
   "source": [
    "print(temperature(20))"
   ]
  },
  {
   "cell_type": "markdown",
   "metadata": {},
   "source": [
    "Example - factorial"
   ]
  },
  {
   "cell_type": "code",
   "execution_count": 35,
   "metadata": {},
   "outputs": [],
   "source": [
    "def factorial(n):\n",
    "    \"\"\"Calculates the factoral of n,\n",
    "        n should be an integer and n <= 0\"\"\"\n",
    "    if n == 0:\n",
    "        return 1\n",
    "    else:\n",
    "        return n * factorial(n-1)    "
   ]
  },
  {
   "cell_type": "code",
   "execution_count": 36,
   "metadata": {},
   "outputs": [
    {
     "data": {
      "text/plain": [
       "120"
      ]
     },
     "execution_count": 36,
     "metadata": {},
     "output_type": "execute_result"
    }
   ],
   "source": [
    "factorial(5)"
   ]
  },
  {
   "cell_type": "markdown",
   "metadata": {},
   "source": [
    "What happens if someone passes a negative value or a float number to this function?"
   ]
  },
  {
   "cell_type": "code",
   "execution_count": 37,
   "metadata": {},
   "outputs": [],
   "source": [
    "def factorial(n):\n",
    "    \"\"\"Calculates the factoral of n,\n",
    "        n should be an integer and n <= 0\"\"\"\n",
    "    if type(n) == int and n >= 0:\n",
    "        if n == 0:\n",
    "            return 1\n",
    "        else:\n",
    "            return n * factorial(n-1)    \n",
    "    else:\n",
    "        raise TypeError(\"n has to be a positive integer or zero\")"
   ]
  },
  {
   "cell_type": "code",
   "execution_count": 38,
   "metadata": {},
   "outputs": [
    {
     "data": {
      "text/plain": [
       "362880"
      ]
     },
     "execution_count": 38,
     "metadata": {},
     "output_type": "execute_result"
    }
   ],
   "source": [
    "factorial(9)"
   ]
  },
  {
   "cell_type": "code",
   "execution_count": 39,
   "metadata": {},
   "outputs": [
    {
     "ename": "TypeError",
     "evalue": "n has to be a positive integer or zero",
     "output_type": "error",
     "traceback": [
      "\u001b[1;31m---------------------------------------------------------------------------\u001b[0m",
      "\u001b[1;31mTypeError\u001b[0m                                 Traceback (most recent call last)",
      "Cell \u001b[1;32mIn[39], line 1\u001b[0m\n\u001b[1;32m----> 1\u001b[0m factorial(\u001b[38;5;241m-\u001b[39m\u001b[38;5;241m5\u001b[39m)\n",
      "Cell \u001b[1;32mIn[37], line 10\u001b[0m, in \u001b[0;36mfactorial\u001b[1;34m(n)\u001b[0m\n\u001b[0;32m      8\u001b[0m         \u001b[38;5;28;01mreturn\u001b[39;00m n \u001b[38;5;241m*\u001b[39m factorial(n\u001b[38;5;241m-\u001b[39m\u001b[38;5;241m1\u001b[39m)    \n\u001b[0;32m      9\u001b[0m \u001b[38;5;28;01melse\u001b[39;00m:\n\u001b[1;32m---> 10\u001b[0m     \u001b[38;5;28;01mraise\u001b[39;00m \u001b[38;5;167;01mTypeError\u001b[39;00m(\u001b[38;5;124m\"\u001b[39m\u001b[38;5;124mn has to be a positive integer or zero\u001b[39m\u001b[38;5;124m\"\u001b[39m)\n",
      "\u001b[1;31mTypeError\u001b[0m: n has to be a positive integer or zero"
     ]
    }
   ],
   "source": [
    "factorial(-5)"
   ]
  },
  {
   "cell_type": "markdown",
   "metadata": {},
   "source": [
    "If you call this function with 4 for example i.e. factorial(4), the first thing that is checked is whether it is my positive integer.\n",
    "\n",
    "The 'problem' now appears in the recursion step.\n",
    "\n",
    "Now factorial(3) is called.\n",
    "\n",
    "This call and all others also check wheteher it is a positive whole number.\n",
    "\n",
    "But this is unnecessary: If you subtract the value '1' from a positive whole number, you get a positive whole number or 0 again. So both well-defined argument values for our function."
   ]
  },
  {
   "cell_type": "code",
   "execution_count": 42,
   "metadata": {},
   "outputs": [],
   "source": [
    "def factorial(n):\n",
    "    \"\"\"Calculates the factorial of n,\n",
    "       n should be an integer and n <=0 \"\"\"\n",
    "    def inner_factorial(n):\n",
    "        if n == 0:\n",
    "            print('returning ...{}'.format(n))\n",
    "            return 1\n",
    "        else:\n",
    "            ret_value = n * inner_factorial(n-1)\n",
    "            print('returning ..{}'.format(ret_value))\n",
    "            return ret_value\n",
    "        \n",
    "    if type(n) == int and n>=0:\n",
    "        return inner_factorial(n)\n",
    "    else:\n",
    "        raise TypeError('n should be a positive int or 0')"
   ]
  },
  {
   "cell_type": "code",
   "execution_count": 43,
   "metadata": {},
   "outputs": [
    {
     "name": "stdout",
     "output_type": "stream",
     "text": [
      "returning ...0\n",
      "returning ..1\n",
      "returning ..2\n",
      "returning ..6\n"
     ]
    },
    {
     "data": {
      "text/plain": [
       "6"
      ]
     },
     "execution_count": 43,
     "metadata": {},
     "output_type": "execute_result"
    }
   ],
   "source": [
    "factorial(3)"
   ]
  },
  {
   "cell_type": "markdown",
   "metadata": {},
   "source": [
    "Functions as Parameters:\n",
    "\n",
    "    Due to the fact that every parameter of a function is a reference to an object and functions are objects as well we can pass functions or better 'refrences to functions' as parameters to a function."
   ]
  },
  {
   "cell_type": "code",
   "execution_count": 44,
   "metadata": {},
   "outputs": [],
   "source": [
    "def g():\n",
    "    print(\"Hi it's me 'g'\")\n",
    "    print(\"Thanks for calling me\")\n",
    "    \n",
    "def f(func):\n",
    "    print(\"Hi it's me 'f'\")\n",
    "    print(\"I will call 'func' now\\n\")\n",
    "    func()"
   ]
  },
  {
   "cell_type": "code",
   "execution_count": 45,
   "metadata": {},
   "outputs": [
    {
     "name": "stdout",
     "output_type": "stream",
     "text": [
      "Hi it's me 'f'\n",
      "I will call 'func' now\n",
      "\n",
      "Hi it's me 'g'\n",
      "Thanks for calling me\n"
     ]
    }
   ],
   "source": [
    "f(g)"
   ]
  },
  {
   "cell_type": "markdown",
   "metadata": {},
   "source": [
    "Functions returning Functions:\n",
    "\n",
    "    The output of a function is also a reference to an object. Therefore functions can return references to function objects."
   ]
  },
  {
   "cell_type": "code",
   "execution_count": 47,
   "metadata": {},
   "outputs": [],
   "source": [
    "def f(x):\n",
    "    def g(y):\n",
    "        return y + x + 3\n",
    "    return g"
   ]
  },
  {
   "cell_type": "markdown",
   "metadata": {},
   "source": [
    "try with arg value 10"
   ]
  },
  {
   "cell_type": "code",
   "execution_count": 48,
   "metadata": {},
   "outputs": [
    {
     "data": {
      "text/plain": [
       "<function __main__.f.<locals>.g(y)>"
      ]
     },
     "execution_count": 48,
     "metadata": {},
     "output_type": "execute_result"
    }
   ],
   "source": [
    "f(10)"
   ]
  },
  {
   "cell_type": "code",
   "execution_count": 49,
   "metadata": {},
   "outputs": [
    {
     "data": {
      "text/plain": [
       "<function __main__.f.<locals>.g(y)>"
      ]
     },
     "execution_count": 49,
     "metadata": {},
     "output_type": "execute_result"
    }
   ],
   "source": [
    "nf1 = f(10)\n",
    "nf1"
   ]
  },
  {
   "cell_type": "code",
   "execution_count": 50,
   "metadata": {},
   "outputs": [
    {
     "data": {
      "text/plain": [
       "33"
      ]
     },
     "execution_count": 50,
     "metadata": {},
     "output_type": "execute_result"
    }
   ],
   "source": [
    "nf1(20)"
   ]
  },
  {
   "cell_type": "markdown",
   "metadata": {},
   "source": [
    "We will implement a poynomial \"factory\" function.\n",
    "\n",
    "we will start with writing a version which can create polynomials of degree2.\n",
    "\n",
    "Image Example in folder"
   ]
  },
  {
   "cell_type": "code",
   "execution_count": 51,
   "metadata": {},
   "outputs": [],
   "source": [
    "def polynomial_creator(a, b, c):\n",
    "\n",
    "    def polynomial(x):\n",
    "        return a * x**2 + b * x + c\n",
    "    return polynomial"
   ]
  },
  {
   "cell_type": "code",
   "execution_count": 52,
   "metadata": {},
   "outputs": [],
   "source": [
    "p1 = polynomial_creator(2,3,-1)\n",
    "p2 = polynomial_creator(-1,2,1)"
   ]
  },
  {
   "cell_type": "code",
   "execution_count": 53,
   "metadata": {},
   "outputs": [
    {
     "data": {
      "text/plain": [
       "<function __main__.polynomial_creator.<locals>.polynomial(x)>"
      ]
     },
     "execution_count": 53,
     "metadata": {},
     "output_type": "execute_result"
    }
   ],
   "source": [
    "p1"
   ]
  },
  {
   "cell_type": "code",
   "execution_count": 54,
   "metadata": {},
   "outputs": [
    {
     "name": "stdout",
     "output_type": "stream",
     "text": [
      "   -2,    1,   -7\n",
      "   -1,   -2,   -2\n",
      "    0,   -1,    1\n",
      "    1,    4,    2\n"
     ]
    }
   ],
   "source": [
    "for x in range(-2,2,1):\n",
    "    print(\"{:5d},{:5d},{:5d}\".format(x,p1(x),p2(x)))"
   ]
  },
  {
   "cell_type": "markdown",
   "metadata": {},
   "source": [
    "We can generalize our factory function so that it can work polynomials of arbitray degree:\n",
    "\n",
    "Image example in folder"
   ]
  },
  {
   "cell_type": "code",
   "execution_count": 55,
   "metadata": {},
   "outputs": [],
   "source": [
    "def polynomial_creator(*coefficients):\n",
    "    \"\"\"coefficients are in the form a_n,...a_1,a_0\n",
    "    \"\"\"\n",
    "    def polynomial(x):\n",
    "        res = 0\n",
    "        for index, coeff in enumerate(coefficients[::-1]):\n",
    "            res += coeff * x** index\n",
    "        return res\n",
    "    return polynomial\n",
    "\n",
    "p1 = polynomial_creator(4)\n",
    "p2 = polynomial_creator(2,4)\n",
    "p3 = polynomial_creator(1,8,-1,3,2)\n",
    "p4 = polynomial_creator(-1,2,1)\n",
    "        "
   ]
  },
  {
   "cell_type": "code",
   "execution_count": 56,
   "metadata": {},
   "outputs": [
    {
     "name": "stdout",
     "output_type": "stream",
     "text": [
      "-2 4 0 -56 -7\n",
      "-1 4 2 -9 -2\n",
      "0 4 4 2 1\n",
      "1 4 6 13 2\n"
     ]
    }
   ],
   "source": [
    "for x in range(-2,2,1):\n",
    "    print(x,p1(x),p2(x),p3(x),p4(x))"
   ]
  },
  {
   "cell_type": "markdown",
   "metadata": {},
   "source": [
    "The function p3 implements, for example, the following polynomial:\n",
    "\n",
    "        p3(x)=x^4 + 8 * x^3 - x^2 + 3 * x + 2\n",
    "\n",
    "    The polynomial function inside of our decorator polynomial_creator can be implemented mor efficiently. \n",
    "\n",
    "    We can factorize it in a way so that it doesnt need any exponentiation.\n",
    "\n",
    "    Factorized version of a general polynomial without exponentiation:\n",
    "\n",
    "        res = (...(an * x + an_1) * x + ... + a1) * x + a0"
   ]
  },
  {
   "cell_type": "code",
   "execution_count": 57,
   "metadata": {},
   "outputs": [],
   "source": [
    "def polynomial_creator(*coeffs):\n",
    "    \"\"\"coefficients are in the form a_n,a_n_1...a_1,a_0\n",
    "    \"\"\"\n",
    "    def polynomial(x):\n",
    "        res = coeffs[0]\n",
    "        for i in range(1, len(coeffs)):\n",
    "            res = res * x +coeffs[i]\n",
    "        return res\n",
    "    return polynomial\n",
    "\n",
    "p1 = polynomial_creator(4)\n",
    "p2 = polynomial_creator(2,4)\n",
    "p3 = polynomial_creator(1,8,-1,3,2)\n",
    "p4 = polynomial_creator(-1,2,1)\n",
    "        "
   ]
  },
  {
   "cell_type": "code",
   "execution_count": 58,
   "metadata": {},
   "outputs": [
    {
     "name": "stdout",
     "output_type": "stream",
     "text": [
      "-2 4 0 -56 -7\n",
      "-1 4 2 -9 -2\n",
      "0 4 4 2 1\n",
      "1 4 6 13 2\n"
     ]
    }
   ],
   "source": [
    "for x in range(-2,2,1):\n",
    "    print(x,p1(x),p2(x),p3(x),p4(x))"
   ]
  },
  {
   "cell_type": "markdown",
   "metadata": {},
   "source": [
    "A Simple Decorator:"
   ]
  },
  {
   "cell_type": "code",
   "execution_count": 64,
   "metadata": {},
   "outputs": [],
   "source": [
    "def our_decorator(func):\n",
    "    def function_wrapper(x):\n",
    "        print(\"Before calling \" + func.__name__)\n",
    "        func(x)\n",
    "        print(\"After calling \" + func.__name__)\n",
    "        \n",
    "    return function_wrapper"
   ]
  },
  {
   "cell_type": "code",
   "execution_count": 65,
   "metadata": {},
   "outputs": [],
   "source": [
    "def foo(x):\n",
    "    print(\"Hi, foo has been called with \" + str(x))"
   ]
  },
  {
   "cell_type": "code",
   "execution_count": 66,
   "metadata": {},
   "outputs": [
    {
     "name": "stdout",
     "output_type": "stream",
     "text": [
      "We call foo before decoration\n",
      "Hi, foo has been called with Hi\n"
     ]
    }
   ],
   "source": [
    "print(\"We call foo before decoration\")\n",
    "\n",
    "foo(\"Hi\")"
   ]
  },
  {
   "cell_type": "code",
   "execution_count": 67,
   "metadata": {},
   "outputs": [
    {
     "name": "stdout",
     "output_type": "stream",
     "text": [
      "We now decorate foo with f:\n"
     ]
    }
   ],
   "source": [
    "print(\"We now decorate foo with f:\")\n",
    "foo = our_decorator(foo)"
   ]
  },
  {
   "cell_type": "code",
   "execution_count": 68,
   "metadata": {},
   "outputs": [
    {
     "name": "stdout",
     "output_type": "stream",
     "text": [
      "We Call foo after decoration:\n",
      "Before calling foo\n",
      "Hi, foo has been called with 42\n",
      "After calling foo\n"
     ]
    }
   ],
   "source": [
    "print(\"We Call foo after decoration:\")\n",
    "foo(42)"
   ]
  },
  {
   "cell_type": "markdown",
   "metadata": {},
   "source": [
    "If you look at the output of the previous program, you can see what's going on. After the decoration \"foo = our_decorator(foo)\", foo is a reference to the 'function_wrapper'. 'foo' will be called inside of 'function_wrapper', but before and after the call some additional code will be executed, i.e. in our case two print functions."
   ]
  },
  {
   "cell_type": "markdown",
   "metadata": {},
   "source": [
    "The Usual Syntax for Decorators in Python:\n",
    "\n",
    "The decotartion occurs in the line before the function header. The\"@\" is followed by the decorator function name.\n",
    "\n",
    "We eill rewrite now our  initial example. Instead of writing the statement \n",
    "\n",
    "        foo = our_decorator(foo)\n",
    "    \n",
    "    we can write\n",
    "\n",
    "        @our_decorator"
   ]
  },
  {
   "cell_type": "code",
   "execution_count": 69,
   "metadata": {},
   "outputs": [
    {
     "name": "stdout",
     "output_type": "stream",
     "text": [
      "Before calling foo\n",
      "hi, foo has been called with Hi\n",
      "After calling foo\n"
     ]
    }
   ],
   "source": [
    "def our_decorator(func):\n",
    "    def function_wrapper(x):\n",
    "        print(\"Before calling \"+ func.__name__)\n",
    "        func(x)\n",
    "        print(\"After calling \"+ func.__name__)\n",
    "    return function_wrapper\n",
    "@our_decorator\n",
    "def foo(x)    :\n",
    "    print(\"hi, foo has been called with \" + str(x))\n",
    "    \n",
    "foo(\"Hi\")"
   ]
  },
  {
   "cell_type": "markdown",
   "metadata": {},
   "source": [
    "It is also possible to decorate third party functions, e.g. functions we import from a module.\n",
    "\n",
    "We can't use the Python syntax with the \"at\" sign in this case:"
   ]
  },
  {
   "cell_type": "markdown",
   "metadata": {},
   "source": [
    "Use cases for decorators:\n",
    "\n",
    "Example 1 (Checking Arguments with a Decorator)"
   ]
  },
  {
   "cell_type": "code",
   "execution_count": 72,
   "metadata": {},
   "outputs": [],
   "source": [
    "def argument_test_natural_number(f):\n",
    "    def helper(x):\n",
    "        if type(x) == int and x > 0:\n",
    "            return f(x)\n",
    "        else:\n",
    "            raise Exception(\"Argument is not an integer\")\n",
    "    return helper"
   ]
  },
  {
   "cell_type": "code",
   "execution_count": 73,
   "metadata": {},
   "outputs": [],
   "source": [
    "@argument_test_natural_number\n",
    "def factorial(n):\n",
    "    if n == 1:\n",
    "        return 1\n",
    "    else:\n",
    "        return n * factorial(n-1)"
   ]
  },
  {
   "cell_type": "code",
   "execution_count": 74,
   "metadata": {},
   "outputs": [
    {
     "name": "stdout",
     "output_type": "stream",
     "text": [
      "1 1\n",
      "2 2\n",
      "3 6\n",
      "4 24\n",
      "5 120\n",
      "6 720\n",
      "7 5040\n",
      "8 40320\n",
      "9 362880\n"
     ]
    }
   ],
   "source": [
    "for i in range(1,10):\n",
    "    print(i,factorial(i))"
   ]
  },
  {
   "cell_type": "code",
   "execution_count": 75,
   "metadata": {},
   "outputs": [
    {
     "ename": "Exception",
     "evalue": "Argument is not an integer",
     "output_type": "error",
     "traceback": [
      "\u001b[1;31m---------------------------------------------------------------------------\u001b[0m",
      "\u001b[1;31mException\u001b[0m                                 Traceback (most recent call last)",
      "Cell \u001b[1;32mIn[75], line 1\u001b[0m\n\u001b[1;32m----> 1\u001b[0m factorial(\u001b[38;5;241m-\u001b[39m\u001b[38;5;241m1\u001b[39m)\n",
      "Cell \u001b[1;32mIn[72], line 6\u001b[0m, in \u001b[0;36margument_test_natural_number.<locals>.helper\u001b[1;34m(x)\u001b[0m\n\u001b[0;32m      4\u001b[0m     \u001b[38;5;28;01mreturn\u001b[39;00m f(x)\n\u001b[0;32m      5\u001b[0m \u001b[38;5;28;01melse\u001b[39;00m:\n\u001b[1;32m----> 6\u001b[0m     \u001b[38;5;28;01mraise\u001b[39;00m \u001b[38;5;167;01mException\u001b[39;00m(\u001b[38;5;124m\"\u001b[39m\u001b[38;5;124mArgument is not an integer\u001b[39m\u001b[38;5;124m\"\u001b[39m)\n",
      "\u001b[1;31mException\u001b[0m: Argument is not an integer"
     ]
    }
   ],
   "source": [
    "factorial(-1)"
   ]
  },
  {
   "cell_type": "markdown",
   "metadata": {},
   "source": [
    "Example 2:\n",
    "\n",
    "Counting Function Calls with Decorators The Following\n",
    "example uses a decorator to count the number of times a function has been called. To be precise, we can use this decoratore solely for functions with exactly one parameter:"
   ]
  }
 ],
 "metadata": {
  "kernelspec": {
   "display_name": "base",
   "language": "python",
   "name": "python3"
  },
  "language_info": {
   "codemirror_mode": {
    "name": "ipython",
    "version": 3
   },
   "file_extension": ".py",
   "mimetype": "text/x-python",
   "name": "python",
   "nbconvert_exporter": "python",
   "pygments_lexer": "ipython3",
   "version": "3.12.4"
  }
 },
 "nbformat": 4,
 "nbformat_minor": 2
}
