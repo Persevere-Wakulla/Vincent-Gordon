{
 "cells": [
  {
   "cell_type": "markdown",
   "metadata": {},
   "source": [
    "Project 1:\n",
    "\n",
    "    Question:\n",
    "        \n",
    "        Write a program to compute the frequency of the words from the input. The program should output after sorting the key alphanumerically.\n",
    "\n",
    "        Suppose the following input is supplied to the program:\n",
    "\n",
    "Python is one of the most commonly used programming languages by data scientists and machine learning egineers. Although there has been no universal study on the prevalence of Python machine learning algorithms, a 2019 GitHub analysis of public repositories tagged as \"machine-learning\" not suprisingly found that Python was the most common languaage used. Python outranked other languages commonly used in the data science community including R, Scala, and Julia. This is all to say that if you're interested in being a data scientist or a machine learning engineer, then understanding Python should be on your to-do list. It's important to remember though that employing machine learning techniques involves more than just coding for coding's sake. An important part of the job of a data scientists or machine learning egineer is using programming languages to apply statistical methods and develop machine learning algorithms.\n",
    "\n",
    "    Then, the output should be (like):\n",
    "\n",
    "    Python:5\n",
    "    Read:1\n",
    "    and:1\n",
    "    between:1\n",
    "    choosing:1"
   ]
  },
  {
   "cell_type": "code",
   "execution_count": 1,
   "metadata": {},
   "outputs": [],
   "source": [
    "# freq = {}  # frequency of words in text\n",
    "freqTable = dict()\n",
    "line= \"\"\"Python is one of the most commonly used programming languages by data scientists and machine learning egineers. Although there has been no universal study on the prevalence of Python machine learning algorithms, a 2019 GitHub analysis of public repositories tagged as \"machine-learning\" not suprisingly found that Python was the most common languaage used. Python outranked other languages commonly used in the data science community including R, Scala, and Julia. This is all to say that if you're interested in being a data scientist or a machine learning engineer, then understanding Python should be on your to-do list. It's important to remember though that employing machine learning techniques involves more than just coding for coding's sake. An important part of the job of a data scientists or machine learning egineer is using programming languages to apply statistical methods and develop machine learning algorithms.\"\"\"\n",
    "\n",
    "# for word in line.split():\n",
    "#    if freq[word] > 0:\n",
    "#       freq[word] = freq[word] + 1\n",
    "#    else:\n",
    "#       freq[word] = 0   \n",
    "\n",
    "for word in line.split():\n",
    "    if word in freqTable:\n",
    "        freqTable[word] += 1\n",
    "    else:\n",
    "        freqTable[word] = 1\n"
   ]
  },
  {
   "cell_type": "markdown",
   "metadata": {},
   "source": [
    "Sort the words list dict by the count of the words"
   ]
  },
  {
   "cell_type": "code",
   "execution_count": 2,
   "metadata": {},
   "outputs": [
    {
     "name": "stdout",
     "output_type": "stream",
     "text": [
      "[('machine', 6), ('learning', 6), ('Python', 5), ('of', 5), ('the', 5), ('data', 4), ('a', 4), ('is', 3), ('languages', 3), ('and', 3), ('that', 3), ('to', 3), ('most', 2), ('commonly', 2), ('used', 2), ('programming', 2), ('scientists', 2), ('on', 2), ('in', 2), ('or', 2), ('important', 2), ('one', 1), ('by', 1), ('egineers.', 1), ('Although', 1), ('there', 1), ('has', 1), ('been', 1), ('no', 1), ('universal', 1), ('study', 1), ('prevalence', 1), ('algorithms,', 1), ('2019', 1), ('GitHub', 1), ('analysis', 1), ('public', 1), ('repositories', 1), ('tagged', 1), ('as', 1), ('\"machine-learning\"', 1), ('not', 1), ('suprisingly', 1), ('found', 1), ('was', 1), ('common', 1), ('languaage', 1), ('used.', 1), ('outranked', 1), ('other', 1), ('science', 1), ('community', 1), ('including', 1), ('R,', 1), ('Scala,', 1), ('Julia.', 1), ('This', 1), ('all', 1), ('say', 1), ('if', 1), (\"you're\", 1), ('interested', 1), ('being', 1), ('scientist', 1), ('engineer,', 1), ('then', 1), ('understanding', 1), ('should', 1), ('be', 1), ('your', 1), ('to-do', 1), ('list.', 1), (\"It's\", 1), ('remember', 1), ('though', 1), ('employing', 1), ('techniques', 1), ('involves', 1), ('more', 1), ('than', 1), ('just', 1), ('coding', 1), ('for', 1), (\"coding's\", 1), ('sake.', 1), ('An', 1), ('part', 1), ('job', 1), ('egineer', 1), ('using', 1), ('apply', 1), ('statistical', 1), ('methods', 1), ('develop', 1), ('algorithms.', 1)]\n"
     ]
    }
   ],
   "source": [
    "sorted_tuples = sorted(freqTable.items(), key = lambda item: item[1], reverse = True)\n",
    "print(sorted_tuples)"
   ]
  }
 ],
 "metadata": {
  "kernelspec": {
   "display_name": "base",
   "language": "python",
   "name": "python3"
  },
  "language_info": {
   "codemirror_mode": {
    "name": "ipython",
    "version": 3
   },
   "file_extension": ".py",
   "mimetype": "text/x-python",
   "name": "python",
   "nbconvert_exporter": "python",
   "pygments_lexer": "ipython3",
   "version": "3.12.4"
  }
 },
 "nbformat": 4,
 "nbformat_minor": 2
}
