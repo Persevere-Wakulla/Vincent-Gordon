{
 "cells": [
  {
   "cell_type": "markdown",
   "metadata": {},
   "source": [
    "Python - Object Serialization:\n",
    "\n",
    "   + Object serialization is the process of converting state of an object into byte stream.\n",
    "\n",
    "   + This   byte stream can further be stored in any file-like object such as a disk file or memory stream.\n",
    "\n",
    "   + It can also be transmitted via sockets etc.\n",
    "\n",
    "   + Deserialization is the process of reconstructing the object from the byte stream.\n",
    "\n",
    "   + Python refers to serialization and deserialization by terms pickling and unpickling respectively.\n",
    "\n",
    "   + The 'pickle' module bundled with Python's standard library defines functions for:\n",
    "    \n",
    "          + serialization {dump{} and dumps()} and\n",
    "\n",
    "          + deserialization {load() and loads()}.  \n",
    "    \n",
    "    + The data format of the pickle module is very Python specific. Hence, programs not written in Python may not be able to deserialize the encoded {pickled} data properly.\n",
    "          + In fact is not considered to be secure to unpickle data from unauthenticated source.  "
   ]
  },
  {
   "cell_type": "markdown",
   "metadata": {},
   "source": [
    "Example - 1:\n",
    "\n",
    "Serialize/Pickle/dump"
   ]
  },
  {
   "cell_type": "code",
   "execution_count": 1,
   "metadata": {},
   "outputs": [],
   "source": [
    "import pickle\n",
    "\n",
    "f = open('pickled.txt','wb')\n",
    "\n",
    "dct ={\"name\":\"Vinny\",\"age\":38,\"Gender\":\"Male\",\"marks\":95}\n",
    "\n",
    "pickle.dump(dct,f)\n",
    "\n",
    "f.close()"
   ]
  },
  {
   "cell_type": "markdown",
   "metadata": {},
   "source": [
    "When the above code is executed, the dictionary object's byte representation will be stored in 'pickled.txt' file. The file must have 'write and binary' mode enabled."
   ]
  },
  {
   "cell_type": "markdown",
   "metadata": {},
   "source": [
    "Deserialize/Unpickle/load"
   ]
  },
  {
   "cell_type": "code",
   "execution_count": 2,
   "metadata": {},
   "outputs": [
    {
     "name": "stdout",
     "output_type": "stream",
     "text": [
      "{'name': 'Vinny', 'age': 38, 'Gender': 'Male', 'marks': 95}\n"
     ]
    }
   ],
   "source": [
    "import pickle\n",
    "\n",
    "f = open('pickled.txt',\"rb\")\n",
    "\n",
    "d = pickle.load(f)\n",
    "\n",
    "print(d)\n",
    "\n",
    "f.close()"
   ]
  },
  {
   "cell_type": "markdown",
   "metadata": {},
   "source": [
    "Note that the dictionary object doesn't retain order of insertion of keys. Hence the k-v pairs in retrieved dictionary may not be in original order."
   ]
  },
  {
   "cell_type": "markdown",
   "metadata": {},
   "source": [
    "dumps/loads"
   ]
  },
  {
   "cell_type": "markdown",
   "metadata": {},
   "source": [
    "The pickle module also consists of dumps() function that pickles Python data to a string representation."
   ]
  },
  {
   "cell_type": "code",
   "execution_count": 3,
   "metadata": {},
   "outputs": [
    {
     "data": {
      "text/plain": [
       "b'\\x80\\x04\\x956\\x00\\x00\\x00\\x00\\x00\\x00\\x00}\\x94(\\x8c\\x04name\\x94\\x8c\\x05Vinny\\x94\\x8c\\x03age\\x94K&\\x8c\\x06Gender\\x94\\x8c\\x04Male\\x94\\x8c\\x05marks\\x94K_u.'"
      ]
     },
     "execution_count": 3,
     "metadata": {},
     "output_type": "execute_result"
    }
   ],
   "source": [
    "from pickle import dumps\n",
    "dct ={'name': 'Vinny', 'age': 38, 'Gender': 'Male', 'marks': 95}\n",
    "dctString = dumps(dct)\n",
    "dctString\n"
   ]
  },
  {
   "cell_type": "markdown",
   "metadata": {},
   "source": [
    "Use loads() function to unpickle the string and obtain original dictionary object."
   ]
  },
  {
   "cell_type": "code",
   "execution_count": 4,
   "metadata": {},
   "outputs": [
    {
     "data": {
      "text/plain": [
       "{'name': 'Vinny', 'age': 38, 'Gender': 'Male', 'marks': 95}"
      ]
     },
     "execution_count": 4,
     "metadata": {},
     "output_type": "execute_result"
    }
   ],
   "source": [
    "from pickle import loads\n",
    "dct = loads(dctString)\n",
    "dct"
   ]
  },
  {
   "cell_type": "markdown",
   "metadata": {},
   "source": [
    "Example - 2"
   ]
  },
  {
   "cell_type": "code",
   "execution_count": 1,
   "metadata": {},
   "outputs": [],
   "source": [
    "import pickle \n",
    "\n",
    "def storeData():\n",
    "    # initializing data to be stored in db\n",
    "    Feezy = {'key': 'Feezy' , 'name':'Koufax Fountain','age':33,\"pay\": 150000}\n",
    "    SouthSide = {\"key\":\"StopSign\", 'name':'Sean Higgins',\"age\":36,\"pay\":250000 } \n",
    "    \n",
    "    # database\n",
    "    db={}\n",
    "    db['Feezy'] = Feezy\n",
    "    db['SouthSide'] = SouthSide\n",
    "    \n",
    "    # It's important to use binary mode\n",
    "    dbfile = open('examplePickle','ab')\n",
    "    \n",
    "    # source, destination\n",
    "    pickle.dump(db,dbfile)\n",
    "    dbfile.close()"
   ]
  },
  {
   "cell_type": "code",
   "execution_count": 2,
   "metadata": {},
   "outputs": [],
   "source": [
    "def loadData():\n",
    "    # for reading also binary mode is important\n",
    "    dbfile = open('examplePickle','rb')\n",
    "    \n",
    "    db= pickle.load(dbfile)\n",
    "    \n",
    "    for keys in db:\n",
    "        print(keys, '=>', db[keys])\n",
    "        \n",
    "    dbfile.close()"
   ]
  },
  {
   "cell_type": "code",
   "execution_count": 3,
   "metadata": {},
   "outputs": [],
   "source": [
    "storeData()"
   ]
  },
  {
   "cell_type": "code",
   "execution_count": 4,
   "metadata": {},
   "outputs": [
    {
     "name": "stdout",
     "output_type": "stream",
     "text": [
      "Feezy => {'key': 'Feezy', 'name': 'Koufax Fountain', 'age': 33, 'pay': 150000}\n",
      "SouthSide => {'key': 'StopSign', 'name': 'Sean Higgins', 'age': 36, 'pay': 250000}\n"
     ]
    }
   ],
   "source": [
    "loadData()"
   ]
  }
 ],
 "metadata": {
  "kernelspec": {
   "display_name": "base",
   "language": "python",
   "name": "python3"
  },
  "language_info": {
   "codemirror_mode": {
    "name": "ipython",
    "version": 3
   },
   "file_extension": ".py",
   "mimetype": "text/x-python",
   "name": "python",
   "nbconvert_exporter": "python",
   "pygments_lexer": "ipython3",
   "version": "3.12.4"
  }
 },
 "nbformat": 4,
 "nbformat_minor": 2
}
