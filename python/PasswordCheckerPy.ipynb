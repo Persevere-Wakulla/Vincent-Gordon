{
 "cells": [
  {
   "cell_type": "markdown",
   "metadata": {},
   "source": [
    "Project 3:"
   ]
  },
  {
   "cell_type": "markdown",
   "metadata": {},
   "source": [
    "Question: \n",
    "\n",
    "    A website requires the users to input username and password to register. Write a program to check the validity of password input by users. \n",
    "\n",
    "        Following are the criteria for checking the password:\n",
    "\n",
    "            1: At least 1 letter between[a-z]\n",
    "            2: At least 1 number between[0-9]\n",
    "            3: At least 1 letter between[A-Z]\n",
    "            4: At least 1 character from[$#@]\n",
    "            5: Minimun length of transaction password: 6\n",
    "            6: Maximum length of transaction password: 12\n",
    "\n",
    "    Your program should accept a sequence of comma separated passwords and will check them according to the above criteria.\n",
    "\n",
    "    Passwords that match the criteria are to be printed, each seperated by a comma.\n",
    "\n",
    "        Example: If the following passwords are given as inptu to the program:\n",
    "            'ABd1234@1','a f1#','2w3E*','2We3345'\n",
    "        \n",
    "        Then, the output of the program should be: 'ABd1234@1'\n",
    "\n",
    "Side Note: Find out why the word \"password\" and any variants  of such is ommitted in Python."
   ]
  },
  {
   "cell_type": "code",
   "execution_count": 117,
   "metadata": {},
   "outputs": [],
   "source": [
    "import re"
   ]
  },
  {
   "cell_type": "code",
   "execution_count": 118,
   "metadata": {},
   "outputs": [],
   "source": [
    "\n",
    "items = [x for x in input().split(',')]"
   ]
  },
  {
   "cell_type": "code",
   "execution_count": 119,
   "metadata": {},
   "outputs": [
    {
     "data": {
      "text/plain": [
       "['ABd1234@1', 'a f1#', '2w3E*', ' 2We3345', '']"
      ]
     },
     "execution_count": 119,
     "metadata": {},
     "output_type": "execute_result"
    }
   ],
   "source": [
    "items"
   ]
  },
  {
   "cell_type": "code",
   "execution_count": 120,
   "metadata": {},
   "outputs": [
    {
     "name": "stdout",
     "output_type": "stream",
     "text": [
      "ABd1234@1\n"
     ]
    }
   ],
   "source": [
    "value = []\n",
    "\n",
    "for p in items:\n",
    "    if len(p) < 6 or len(p) > 12:\n",
    "        continue\n",
    "    else:\n",
    "        pass\n",
    "    if not re.search(\"[a-z]\",p):\n",
    "        continue\n",
    "    elif not re.search(\"[0-9]\",p):\n",
    "        continue\n",
    "    elif not re.search(\"[A-Z]\",p):\n",
    "        continue\n",
    "    elif not re.search(\"[$@#]\",p):\n",
    "        continue\n",
    "    elif re.search(\"[/s]\",p):\n",
    "        continue\n",
    "    else:\n",
    "        pass\n",
    "    value.append(p)\n",
    "    \n",
    "print (\",\".join(value))"
   ]
  }
 ],
 "metadata": {
  "kernelspec": {
   "display_name": "base",
   "language": "python",
   "name": "python3"
  },
  "language_info": {
   "codemirror_mode": {
    "name": "ipython",
    "version": 3
   },
   "file_extension": ".py",
   "mimetype": "text/x-python",
   "name": "python",
   "nbconvert_exporter": "python",
   "pygments_lexer": "ipython3",
   "version": "3.12.4"
  }
 },
 "nbformat": 4,
 "nbformat_minor": 2
}
